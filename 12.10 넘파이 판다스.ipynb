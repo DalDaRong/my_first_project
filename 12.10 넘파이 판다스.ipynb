{
 "cells": [
  {
   "cell_type": "code",
   "execution_count": 2,
   "id": "a68e97a8",
   "metadata": {},
   "outputs": [],
   "source": [
    "import pandas as pd\n",
    "import numpy as np\n",
    "import matplotlib.pyplot as plt"
   ]
  },
  {
   "cell_type": "code",
   "execution_count": 3,
   "id": "55f97964",
   "metadata": {},
   "outputs": [],
   "source": [
    "list_a=[1,10,100,1000] \n",
    "#이걸 넘파이화 하고 싶을 때. .np.array()\n",
    "np_array_a=np.array(list_a)"
   ]
  },
  {
   "cell_type": "code",
   "execution_count": 4,
   "id": "3010aade",
   "metadata": {},
   "outputs": [
    {
     "data": {
      "text/plain": [
       "[1, 10, 100, 1000]"
      ]
     },
     "execution_count": 4,
     "metadata": {},
     "output_type": "execute_result"
    }
   ],
   "source": [
    "list_a"
   ]
  },
  {
   "cell_type": "code",
   "execution_count": 5,
   "id": "3f71d440",
   "metadata": {},
   "outputs": [
    {
     "data": {
      "text/plain": [
       "array([   1,   10,  100, 1000])"
      ]
     },
     "execution_count": 5,
     "metadata": {},
     "output_type": "execute_result"
    }
   ],
   "source": [
    "np_array_a #array가 붙어있으면 넘파이 데이터라 보면 된다."
   ]
  },
  {
   "cell_type": "code",
   "execution_count": 6,
   "id": "bc025449",
   "metadata": {},
   "outputs": [],
   "source": [
    "list_b=[1,10.5,100.3,1000] #이번에는 데이터 값에 실수를 섞어보자. 정수와 실수가 같이 있는 데이터.\n",
    "np_array_b=np.array(list_b)"
   ]
  },
  {
   "cell_type": "code",
   "execution_count": 7,
   "id": "aa082be6",
   "metadata": {},
   "outputs": [
    {
     "data": {
      "text/plain": [
       "[1, 10.5, 100.3, 1000]"
      ]
     },
     "execution_count": 7,
     "metadata": {},
     "output_type": "execute_result"
    }
   ],
   "source": [
    "list_b"
   ]
  },
  {
   "cell_type": "code",
   "execution_count": 8,
   "id": "0753b846",
   "metadata": {},
   "outputs": [
    {
     "data": {
      "text/plain": [
       "array([   1. ,   10.5,  100.3, 1000. ])"
      ]
     },
     "execution_count": 8,
     "metadata": {},
     "output_type": "execute_result"
    }
   ],
   "source": [
    "np_array_b #정수 값도 실수 형식으로 바뀌었다!"
   ]
  },
  {
   "cell_type": "code",
   "execution_count": 21,
   "id": "d7ef44f4",
   "metadata": {},
   "outputs": [],
   "source": [
    "list_c=[1,2,3,4]\n",
    "np_array_c=np.array(list_c)"
   ]
  },
  {
   "cell_type": "code",
   "execution_count": 11,
   "id": "f67d212d",
   "metadata": {},
   "outputs": [
    {
     "data": {
      "text/plain": [
       "list"
      ]
     },
     "execution_count": 11,
     "metadata": {},
     "output_type": "execute_result"
    }
   ],
   "source": [
    "type(list_b)"
   ]
  },
  {
   "cell_type": "code",
   "execution_count": 17,
   "id": "1b143748",
   "metadata": {},
   "outputs": [
    {
     "name": "stdout",
     "output_type": "stream",
     "text": [
      "리스트 확인됐어요\n"
     ]
    }
   ],
   "source": [
    "#list_b type함수 적용 사례. 타입이 맞으면 넘파이해라!\n",
    "if type(list_b)==type([]): #타입이 리스트[]가 맞으면\n",
    "    print(\"리스트 확인됐어요\")\n",
    "    np_list_b=np.array(list_b)"
   ]
  },
  {
   "cell_type": "code",
   "execution_count": 18,
   "id": "4b2519aa",
   "metadata": {},
   "outputs": [
    {
     "name": "stdout",
     "output_type": "stream",
     "text": [
      "np로 바꿀 이유가 없어요.\n"
     ]
    }
   ],
   "source": [
    "data1=\"hello\" #type함수 적용 사례. 타입이 리스트가 아닐 경우 넘파이 할 필요 없음.\n",
    "if type(data1)==type([]):\n",
    "    print(\"리스트 확인됐어요\")\n",
    "    np_data1=np.array(data1)\n",
    "else:\n",
    "    print(\"np로 바꿀 이유가 없어요.\")"
   ]
  },
  {
   "cell_type": "code",
   "execution_count": 22,
   "id": "c784a510",
   "metadata": {},
   "outputs": [
    {
     "data": {
      "text/plain": [
       "dtype('int32')"
      ]
     },
     "execution_count": 22,
     "metadata": {},
     "output_type": "execute_result"
    }
   ],
   "source": [
    "np_array_c.dtype #dtype은 데이터 타입. int는 정수형태에 32비트 소모의 의미"
   ]
  },
  {
   "cell_type": "code",
   "execution_count": 23,
   "id": "af5c07fb",
   "metadata": {},
   "outputs": [
    {
     "data": {
      "text/plain": [
       "numpy.ndarray"
      ]
     },
     "execution_count": 23,
     "metadata": {},
     "output_type": "execute_result"
    }
   ],
   "source": [
    "type(np_array_b)"
   ]
  },
  {
   "cell_type": "code",
   "execution_count": 24,
   "id": "c44960be",
   "metadata": {},
   "outputs": [
    {
     "data": {
      "text/plain": [
       "dtype('float64')"
      ]
     },
     "execution_count": 24,
     "metadata": {},
     "output_type": "execute_result"
    }
   ],
   "source": [
    "np_array_b.dtype #실수 형태 64비트 소모의 의미"
   ]
  },
  {
   "cell_type": "code",
   "execution_count": 25,
   "id": "d34ced32",
   "metadata": {},
   "outputs": [
    {
     "data": {
      "text/plain": [
       "([0, 1, 2], [1, 2], [1, 3, 5, 7, 9])"
      ]
     },
     "execution_count": 25,
     "metadata": {},
     "output_type": "execute_result"
    }
   ],
   "source": [
    "list(range(3)), list(range(1,3)), list(range(1,10,2))"
   ]
  },
  {
   "cell_type": "code",
   "execution_count": 30,
   "id": "338c5851",
   "metadata": {},
   "outputs": [
    {
     "data": {
      "text/plain": [
       "array([0, 1, 2])"
      ]
     },
     "execution_count": 30,
     "metadata": {},
     "output_type": "execute_result"
    }
   ],
   "source": [
    "np.arange(3) #range를 넘파이하려면 앞에 a붙이면 된다."
   ]
  },
  {
   "cell_type": "code",
   "execution_count": 31,
   "id": "55c4937e",
   "metadata": {},
   "outputs": [
    {
     "data": {
      "text/plain": [
       "(array([0, 1, 2]), array([1, 2]), array([1, 3, 5, 7, 9]))"
      ]
     },
     "execution_count": 31,
     "metadata": {},
     "output_type": "execute_result"
    }
   ],
   "source": [
    "# p217\n",
    "np.arange(3), np.arange(1,3), np.arange(1,10,2)"
   ]
  },
  {
   "cell_type": "code",
   "execution_count": 32,
   "id": "bab57cae",
   "metadata": {},
   "outputs": [],
   "source": [
    "#numpy: 선형대수학 :행렬 에 많이 씀."
   ]
  },
  {
   "cell_type": "code",
   "execution_count": 34,
   "id": "f62bf246",
   "metadata": {},
   "outputs": [
    {
     "data": {
      "text/plain": [
       "[[1, 2, 3], [4, 5, 6]]"
      ]
     },
     "execution_count": 34,
     "metadata": {},
     "output_type": "execute_result"
    }
   ],
   "source": [
    "list_2x3=[[1,2,3],[4,5,6]]\n",
    "list_2x3"
   ]
  },
  {
   "cell_type": "code",
   "execution_count": 36,
   "id": "ef39da48",
   "metadata": {},
   "outputs": [
    {
     "data": {
      "text/plain": [
       "array([[1, 2, 3],\n",
       "       [4, 5, 6]])"
      ]
     },
     "execution_count": 36,
     "metadata": {},
     "output_type": "execute_result"
    }
   ],
   "source": [
    "np_array_2x3=np.array(list_2x3) \n",
    "np_array_2x3"
   ]
  },
  {
   "cell_type": "code",
   "execution_count": 40,
   "id": "b6aeefa0",
   "metadata": {},
   "outputs": [
    {
     "data": {
      "text/plain": [
       "array([[1, 2],\n",
       "       [3, 4],\n",
       "       [5, 6]])"
      ]
     },
     "execution_count": 40,
     "metadata": {},
     "output_type": "execute_result"
    }
   ],
   "source": [
    "# p218  3행 2열로 형태를 바꾸는 방법 : 리셰입(.reshape(n,n))\n",
    "np_array_2x3.reshape(3,2) "
   ]
  },
  {
   "cell_type": "code",
   "execution_count": 4,
   "id": "d007ba75",
   "metadata": {},
   "outputs": [
    {
     "data": {
      "text/plain": [
       "array([ 0,  1,  2,  3,  4,  5,  6,  7,  8,  9, 10, 11])"
      ]
     },
     "execution_count": 4,
     "metadata": {},
     "output_type": "execute_result"
    }
   ],
   "source": [
    "#모든 셰입을 무시하고 일렬로 쫙 바꿔야 할 때.\n",
    "a=np.arange(12)\n",
    "a"
   ]
  },
  {
   "cell_type": "code",
   "execution_count": 6,
   "id": "471e8a3b",
   "metadata": {
    "scrolled": true
   },
   "outputs": [
    {
     "data": {
      "text/plain": [
       "array([[ 0,  1,  2,  3],\n",
       "       [ 4,  5,  6,  7],\n",
       "       [ 8,  9, 10, 11]])"
      ]
     },
     "execution_count": 6,
     "metadata": {},
     "output_type": "execute_result"
    }
   ],
   "source": [
    "a.reshape(3,4)"
   ]
  },
  {
   "cell_type": "code",
   "execution_count": 9,
   "id": "f6367631",
   "metadata": {},
   "outputs": [
    {
     "data": {
      "text/plain": [
       "array([ 0,  1,  2,  3,  4,  5,  6,  7,  8,  9, 10, 11])"
      ]
     },
     "execution_count": 9,
     "metadata": {},
     "output_type": "execute_result"
    }
   ],
   "source": [
    "a.reshape(1,12) \n",
    "#처음 1차원 데이터가 2차원으로 변환되었다. []괄호가 두개있다. 1차원으로 그대로 출력하고 싶은데...\n",
    "#그 때 쓰는게 .flatten()\n",
    "a=a.flatten()\n",
    "a"
   ]
  },
  {
   "cell_type": "code",
   "execution_count": 44,
   "id": "f6631fd6",
   "metadata": {},
   "outputs": [
    {
     "data": {
      "text/plain": [
       "array([ 1,  2,  3,  4,  5,  6,  7,  8,  9, 10, 11, 12])"
      ]
     },
     "execution_count": 44,
     "metadata": {},
     "output_type": "execute_result"
    }
   ],
   "source": [
    "np.arange(1,13) #range의 넘파이화"
   ]
  },
  {
   "cell_type": "code",
   "execution_count": 46,
   "id": "ef7db91c",
   "metadata": {},
   "outputs": [
    {
     "data": {
      "text/plain": [
       "array([[ 1,  2,  3,  4,  5,  6],\n",
       "       [ 7,  8,  9, 10, 11, 12]])"
      ]
     },
     "execution_count": 46,
     "metadata": {},
     "output_type": "execute_result"
    }
   ],
   "source": [
    "np.arange(1,13).reshape(2,6) #range의 리셰입"
   ]
  },
  {
   "cell_type": "code",
   "execution_count": 47,
   "id": "a8033b01",
   "metadata": {},
   "outputs": [
    {
     "ename": "ValueError",
     "evalue": "cannot reshape array of size 11 into shape (2,6)",
     "output_type": "error",
     "traceback": [
      "\u001b[1;31m---------------------------------------------------------------------------\u001b[0m",
      "\u001b[1;31mValueError\u001b[0m                                Traceback (most recent call last)",
      "\u001b[1;32m~\\AppData\\Local\\Temp/ipykernel_10096/4107023820.py\u001b[0m in \u001b[0;36m<module>\u001b[1;34m\u001b[0m\n\u001b[1;32m----> 1\u001b[1;33m \u001b[0mnp\u001b[0m\u001b[1;33m.\u001b[0m\u001b[0marange\u001b[0m\u001b[1;33m(\u001b[0m\u001b[1;36m1\u001b[0m\u001b[1;33m,\u001b[0m\u001b[1;36m12\u001b[0m\u001b[1;33m)\u001b[0m\u001b[1;33m.\u001b[0m\u001b[0mreshape\u001b[0m\u001b[1;33m(\u001b[0m\u001b[1;36m2\u001b[0m\u001b[1;33m,\u001b[0m\u001b[1;36m6\u001b[0m\u001b[1;33m)\u001b[0m \u001b[1;31m#데이터 개수가 행렬 개수와 같지 않으면 오류가 난다.\u001b[0m\u001b[1;33m\u001b[0m\u001b[1;33m\u001b[0m\u001b[0m\n\u001b[0m",
      "\u001b[1;31mValueError\u001b[0m: cannot reshape array of size 11 into shape (2,6)"
     ]
    }
   ],
   "source": [
    "np.arange(1,12).reshape(2,6) #데이터 개수가 행렬 개수와 같지 않으면 오류가 난다."
   ]
  },
  {
   "cell_type": "code",
   "execution_count": 48,
   "id": "2d75074f",
   "metadata": {},
   "outputs": [
    {
     "data": {
      "text/plain": [
       "(3, 4)"
      ]
     },
     "execution_count": 48,
     "metadata": {},
     "output_type": "execute_result"
    }
   ],
   "source": [
    "a=np.arange(1,13).reshape(3,4) \n",
    "a.shape #219 shape : 리셰입으로 만든 행렬의 형태를 알려준다. 오류없는지 확인 할 때 좋음."
   ]
  },
  {
   "cell_type": "code",
   "execution_count": 49,
   "id": "91ac55f0",
   "metadata": {},
   "outputs": [
    {
     "data": {
      "text/plain": [
       "(4,)"
      ]
     },
     "execution_count": 49,
     "metadata": {},
     "output_type": "execute_result"
    }
   ],
   "source": [
    "b=np.array([1,2,3,4]) #그냥 비게 나온다.\n",
    "b.shape"
   ]
  },
  {
   "cell_type": "code",
   "execution_count": 52,
   "id": "4a40d96e",
   "metadata": {},
   "outputs": [
    {
     "data": {
      "text/plain": [
       "array([1. , 1.5, 2. , 2.5, 3. ])"
      ]
     },
     "execution_count": 52,
     "metadata": {},
     "output_type": "execute_result"
    }
   ],
   "source": [
    "y1=np.linspace(1,3,5) #1에서 3까지 5등분하려면 리니어스페이스 함수.\n",
    "y1"
   ]
  },
  {
   "cell_type": "code",
   "execution_count": 55,
   "id": "bbd3b165",
   "metadata": {
    "scrolled": true
   },
   "outputs": [
    {
     "data": {
      "text/plain": [
       "[<matplotlib.lines.Line2D at 0x1c17e42dfd0>]"
      ]
     },
     "execution_count": 55,
     "metadata": {},
     "output_type": "execute_result"
    },
    {
     "data": {
      "image/png": "[encoded data removed]",
      "text/plain": [
       "<Figure size 432x288 with 1 Axes>"
      ]
     },
     "metadata": {
      "needs_background": "light"
     },
     "output_type": "display_data"
    }
   ],
   "source": [
    "x1=[1,2,3,4,5]\n",
    "plt.plot(x1,y1,\"o-\") #그래프 만들기 \"o-\"가 무슨뜻이지?"
   ]
  },
  {
   "cell_type": "code",
   "execution_count": 56,
   "id": "ae1692ce",
   "metadata": {},
   "outputs": [
    {
     "data": {
      "text/plain": [
       "array([[0., 0., 0., 0.],\n",
       "       [0., 0., 0., 0.],\n",
       "       [0., 0., 0., 0.]])"
      ]
     },
     "execution_count": 56,
     "metadata": {},
     "output_type": "execute_result"
    }
   ],
   "source": [
    "np.zeros([3,4]) #0으로 된 3행4열을 만들어라."
   ]
  },
  {
   "cell_type": "code",
   "execution_count": 59,
   "id": "0f24035d",
   "metadata": {},
   "outputs": [
    {
     "data": {
      "text/plain": [
       "array([10., 10., 10.])"
      ]
     },
     "execution_count": 59,
     "metadata": {},
     "output_type": "execute_result"
    }
   ],
   "source": [
    "a=np.zeros(3) #비어있는 3개짜리 만들어라.\n",
    "for i in range(3):#첫칸부터 세번째칸까지\n",
    "    a[i]=10 #10 넣어라\n",
    "a"
   ]
  },
  {
   "cell_type": "code",
   "execution_count": 61,
   "id": "84e4642a",
   "metadata": {},
   "outputs": [
    {
     "data": {
      "text/plain": [
       "array([[10., 10., 10., 10.],\n",
       "       [10., 10., 10., 10.],\n",
       "       [10., 10., 10., 10.]])"
      ]
     },
     "execution_count": 61,
     "metadata": {},
     "output_type": "execute_result"
    }
   ],
   "source": [
    "b=np.zeros([3,4])\n",
    "for 행 in range(3):\n",
    "    for 열 in range(4):\n",
    "        b[행][열]=10 #행과 열에 10을 넣어라\n",
    "b"
   ]
  },
  {
   "cell_type": "code",
   "execution_count": 62,
   "id": "ec466af4",
   "metadata": {},
   "outputs": [
    {
     "data": {
      "text/plain": [
       "array([[1., 1., 1., 1.],\n",
       "       [1., 1., 1., 1.],\n",
       "       [1., 1., 1., 1.]])"
      ]
     },
     "execution_count": 62,
     "metadata": {},
     "output_type": "execute_result"
    }
   ],
   "source": [
    "c=np.ones_like(b) #ones는 1을 채우는 것. b 모양처럼.\n",
    "c"
   ]
  },
  {
   "cell_type": "code",
   "execution_count": 66,
   "id": "27b45807",
   "metadata": {},
   "outputs": [
    {
     "data": {
      "text/plain": [
       "array([[1., 0., 0., 0., 0., 0., 0., 0., 0., 0.],\n",
       "       [0., 1., 0., 0., 0., 0., 0., 0., 0., 0.],\n",
       "       [0., 0., 1., 0., 0., 0., 0., 0., 0., 0.],\n",
       "       [0., 0., 0., 1., 0., 0., 0., 0., 0., 0.],\n",
       "       [0., 0., 0., 0., 1., 0., 0., 0., 0., 0.],\n",
       "       [0., 0., 0., 0., 0., 1., 0., 0., 0., 0.],\n",
       "       [0., 0., 0., 0., 0., 0., 1., 0., 0., 0.],\n",
       "       [0., 0., 0., 0., 0., 0., 0., 1., 0., 0.],\n",
       "       [0., 0., 0., 0., 0., 0., 0., 0., 1., 0.],\n",
       "       [0., 0., 0., 0., 0., 0., 0., 0., 0., 1.]])"
      ]
     },
     "execution_count": 66,
     "metadata": {},
     "output_type": "execute_result"
    }
   ],
   "source": [
    "np.eye(10) #단위행렬: 뭘 곱해도 원래 모습 그대로 나오는 행렬을 의미한다."
   ]
  },
  {
   "cell_type": "code",
   "execution_count": 69,
   "id": "acdf9f2e",
   "metadata": {},
   "outputs": [
    {
     "data": {
      "text/plain": [
       "dtype('float64')"
      ]
     },
     "execution_count": 69,
     "metadata": {},
     "output_type": "execute_result"
    }
   ],
   "source": [
    "c.dtype #d타입 바꾸고 싶을 때 astype()"
   ]
  },
  {
   "cell_type": "code",
   "execution_count": 75,
   "id": "b2377e4f",
   "metadata": {},
   "outputs": [
    {
     "data": {
      "text/plain": [
       "(array([[1, 1, 1, 1],\n",
       "        [1, 1, 1, 1],\n",
       "        [1, 1, 1, 1]]),\n",
       " dtype('int32'))"
      ]
     },
     "execution_count": 75,
     "metadata": {},
     "output_type": "execute_result"
    }
   ],
   "source": [
    "d=c.astype(int)\n",
    "d, d.dtype"
   ]
  },
  {
   "cell_type": "code",
   "execution_count": 74,
   "id": "eabf74e8",
   "metadata": {},
   "outputs": [
    {
     "data": {
      "text/plain": [
       "dtype('int32')"
      ]
     },
     "execution_count": 74,
     "metadata": {},
     "output_type": "execute_result"
    }
   ],
   "source": [
    "# p224\n",
    "#랜덤 통계 확률 확정적이지 못한 값"
   ]
  },
  {
   "cell_type": "code",
   "execution_count": 76,
   "id": "f5582a7c",
   "metadata": {},
   "outputs": [
    {
     "data": {
      "text/plain": [
       "array([[0.02507282, 0.95203261, 0.32940435],\n",
       "       [0.53238458, 0.2108696 , 0.77029878]])"
      ]
     },
     "execution_count": 76,
     "metadata": {},
     "output_type": "execute_result"
    }
   ],
   "source": [
    "np.random.rand(2,3) #2행 3열의 형태로 아무 행렬이나 만들어봐"
   ]
  },
  {
   "cell_type": "code",
   "execution_count": 77,
   "id": "9cf7ac8e",
   "metadata": {},
   "outputs": [
    {
     "data": {
      "text/plain": [
       "array([[0.78562546, 0.92559556, 0.90186422],\n",
       "       [0.28846311, 0.09098728, 0.0851828 ]])"
      ]
     },
     "execution_count": 77,
     "metadata": {},
     "output_type": "execute_result"
    }
   ],
   "source": [
    "np.random.rand(2,3) "
   ]
  },
  {
   "cell_type": "code",
   "execution_count": 78,
   "id": "23aad727",
   "metadata": {},
   "outputs": [
    {
     "data": {
      "text/plain": [
       "array([[1, 2, 3, 4],\n",
       "       [8, 0, 3, 5],\n",
       "       [6, 9, 3, 3]])"
      ]
     },
     "execution_count": 78,
     "metadata": {},
     "output_type": "execute_result"
    }
   ],
   "source": [
    "np.random.randint(10,size=(3,4)) #자연수 필요할 때는 randint 숫자는 1-10 사이로."
   ]
  },
  {
   "cell_type": "code",
   "execution_count": 268,
   "id": "421fada9",
   "metadata": {},
   "outputs": [
    {
     "data": {
      "text/plain": [
       "array([[0.88535106, 0.65012519],\n",
       "       [0.01020347, 0.61855655],\n",
       "       [0.63712325, 0.65403902]])"
      ]
     },
     "execution_count": 268,
     "metadata": {},
     "output_type": "execute_result"
    }
   ],
   "source": [
    "points=np.random.rand(3,2) #3행 2열로 만들고, 점이라고 이름붙인다. 점은 세개개 되지. 3행이니까\n",
    "points"
   ]
  },
  {
   "cell_type": "code",
   "execution_count": 269,
   "id": "8a863687",
   "metadata": {},
   "outputs": [
    {
     "data": {
      "image/png": "[encoded data removed]",
      "text/plain": [
       "<Figure size 432x288 with 1 Axes>"
      ]
     },
     "metadata": {
      "needs_background": "light"
     },
     "output_type": "display_data"
    }
   ],
   "source": [
    "plt.scatter(points[:,0],points[:,1]) #점을 아무데나 찍는다.\n",
    "plt.show()"
   ]
  },
  {
   "cell_type": "code",
   "execution_count": null,
   "id": "674420ed",
   "metadata": {},
   "outputs": [],
   "source": []
  },
  {
   "cell_type": "code",
   "execution_count": 85,
   "id": "72967064",
   "metadata": {},
   "outputs": [],
   "source": [
    "# p226, p227사칙연산 통계를 위한 함수들 꼭 해볼것 "
   ]
  },
  {
   "cell_type": "code",
   "execution_count": 86,
   "id": "df97241a",
   "metadata": {},
   "outputs": [],
   "source": [
    "# p229 행렬연산\n",
    "# 일반곱과 행렬곱의 차이\n"
   ]
  },
  {
   "cell_type": "code",
   "execution_count": 87,
   "id": "4a607f3d",
   "metadata": {},
   "outputs": [
    {
     "data": {
      "text/plain": [
       "array([2, 0, 4, 6])"
      ]
     },
     "execution_count": 87,
     "metadata": {},
     "output_type": "execute_result"
    }
   ],
   "source": [
    "# 226\n",
    "# 일반곱:\n",
    "a=np.array([1,0,2,3])\n",
    "b=np.array([2,2,2,2])\n",
    "a*b #각각의 원소를 곱한다"
   ]
  },
  {
   "cell_type": "code",
   "execution_count": 91,
   "id": "71c605e0",
   "metadata": {},
   "outputs": [
    {
     "data": {
      "text/plain": [
       "array([[1, 2],\n",
       "       [3, 4]])"
      ]
     },
     "execution_count": 91,
     "metadata": {},
     "output_type": "execute_result"
    }
   ],
   "source": [
    "# 행렬곱\n",
    "a=np.array([[1,2],[3,4]])\n",
    "a"
   ]
  },
  {
   "cell_type": "code",
   "execution_count": 92,
   "id": "beafdc7e",
   "metadata": {},
   "outputs": [],
   "source": [
    "b=np.array([[1,0],[0,1]])"
   ]
  },
  {
   "cell_type": "code",
   "execution_count": 93,
   "id": "5f4ec142",
   "metadata": {},
   "outputs": [
    {
     "data": {
      "text/plain": [
       "array([[1, 0],\n",
       "       [0, 4]])"
      ]
     },
     "execution_count": 93,
     "metadata": {},
     "output_type": "execute_result"
    }
   ],
   "source": [
    "a*b #일반곱"
   ]
  },
  {
   "cell_type": "code",
   "execution_count": 94,
   "id": "8c6f9d1c",
   "metadata": {},
   "outputs": [
    {
     "data": {
      "text/plain": [
       "array([[1, 2],\n",
       "       [3, 4]])"
      ]
     },
     "execution_count": 94,
     "metadata": {},
     "output_type": "execute_result"
    }
   ],
   "source": [
    "a.dot(b) #행렬곱"
   ]
  },
  {
   "cell_type": "code",
   "execution_count": 96,
   "id": "c4213df3",
   "metadata": {},
   "outputs": [
    {
     "data": {
      "text/plain": [
       "array([[1, 2],\n",
       "       [3, 4]])"
      ]
     },
     "execution_count": 96,
     "metadata": {},
     "output_type": "execute_result"
    }
   ],
   "source": [
    "np.dot(a,b) #같은 말"
   ]
  },
  {
   "cell_type": "code",
   "execution_count": 107,
   "id": "37df53a6",
   "metadata": {},
   "outputs": [
    {
     "data": {
      "text/plain": [
       "array([[1, 3],\n",
       "       [2, 4]])"
      ]
     },
     "execution_count": 107,
     "metadata": {},
     "output_type": "execute_result"
    }
   ],
   "source": [
    "c=np.array([[1,2],[3,4]])\n",
    "c.transpose() #행과 열의 위치를 바꾼다"
   ]
  },
  {
   "cell_type": "code",
   "execution_count": 101,
   "id": "a35fb673",
   "metadata": {},
   "outputs": [
    {
     "data": {
      "text/plain": [
       "array([[1, 3],\n",
       "       [2, 4]])"
      ]
     },
     "execution_count": 101,
     "metadata": {},
     "output_type": "execute_result"
    }
   ],
   "source": [
    "c.T #같은 말"
   ]
  },
  {
   "cell_type": "code",
   "execution_count": 103,
   "id": "ce99fc66",
   "metadata": {},
   "outputs": [
    {
     "data": {
      "text/plain": [
       "array([[-2. ,  1. ],\n",
       "       [ 1.5, -0.5]])"
      ]
     },
     "execution_count": 103,
     "metadata": {},
     "output_type": "execute_result"
    }
   ],
   "source": [
    "c_inv=np.linalg.inv(c) #c의 역행렬 \n",
    "c_inv"
   ]
  },
  {
   "cell_type": "code",
   "execution_count": 105,
   "id": "cc66c4f6",
   "metadata": {},
   "outputs": [
    {
     "data": {
      "text/plain": [
       "array([[1.00000000e+00, 1.11022302e-16],\n",
       "       [0.00000000e+00, 1.00000000e+00]])"
      ]
     },
     "execution_count": 105,
     "metadata": {},
     "output_type": "execute_result"
    }
   ],
   "source": [
    "np.dot(c,c_inv) #(행렬*역행렬= 단위행렬)"
   ]
  },
  {
   "cell_type": "code",
   "execution_count": 113,
   "id": "b78afc57",
   "metadata": {},
   "outputs": [],
   "source": [
    "#역행렬 구하는 법 https://mathbang.net/567\n",
    "#ad-bc?=0이 역행렬이 있을 조건. determinant 행렬식\n",
    "e=np.array([[2,3],[2,3]])"
   ]
  },
  {
   "cell_type": "code",
   "execution_count": 114,
   "id": "65f3e20a",
   "metadata": {},
   "outputs": [
    {
     "data": {
      "text/plain": [
       "0.0"
      ]
     },
     "execution_count": 114,
     "metadata": {},
     "output_type": "execute_result"
    }
   ],
   "source": [
    "np.linalg.det(e) #0이니까 역행렬 없음"
   ]
  },
  {
   "cell_type": "code",
   "execution_count": 115,
   "id": "c681a7ad",
   "metadata": {},
   "outputs": [
    {
     "data": {
      "text/plain": [
       "20"
      ]
     },
     "execution_count": 115,
     "metadata": {},
     "output_type": "execute_result"
    }
   ],
   "source": [
    "#array 접근, p230\n",
    "a1=np.array([0,10,20,30,40,50])\n",
    "a1[2]"
   ]
  },
  {
   "cell_type": "code",
   "execution_count": 116,
   "id": "ef7b1847",
   "metadata": {},
   "outputs": [
    {
     "data": {
      "text/plain": [
       "array([20, 30, 40])"
      ]
     },
     "execution_count": 116,
     "metadata": {},
     "output_type": "execute_result"
    }
   ],
   "source": [
    "a1[2:5]"
   ]
  },
  {
   "cell_type": "code",
   "execution_count": 117,
   "id": "e20e4ab4",
   "metadata": {},
   "outputs": [
    {
     "data": {
      "text/plain": [
       "array([40, 50])"
      ]
     },
     "execution_count": 117,
     "metadata": {},
     "output_type": "execute_result"
    }
   ],
   "source": [
    "a1[a1>30] #조건식도 다양하게 넣을 수 있다.  "
   ]
  },
  {
   "cell_type": "code",
   "execution_count": 123,
   "id": "77968737",
   "metadata": {},
   "outputs": [
    {
     "data": {
      "text/plain": [
       "array([ 0, 20, 40])"
      ]
     },
     "execution_count": 123,
     "metadata": {},
     "output_type": "execute_result"
    }
   ],
   "source": [
    "a1[((a1%20)==0)]"
   ]
  },
  {
   "cell_type": "code",
   "execution_count": 124,
   "id": "e6421c0b",
   "metadata": {},
   "outputs": [
    {
     "ename": "SyntaxError",
     "evalue": "closing parenthesis ')' does not match opening parenthesis '[' (Temp/ipykernel_10096/2968634080.py, line 1)",
     "output_type": "error",
     "traceback": [
      "\u001b[1;36m  File \u001b[1;32m\"C:\\Users\\User\\AppData\\Local\\Temp/ipykernel_10096/2968634080.py\"\u001b[1;36m, line \u001b[1;32m1\u001b[0m\n\u001b[1;33m    a1[((a1%20)==0) and (a1>30))]\u001b[0m\n\u001b[1;37m                               ^\u001b[0m\n\u001b[1;31mSyntaxError\u001b[0m\u001b[1;31m:\u001b[0m closing parenthesis ')' does not match opening parenthesis '['\n"
     ]
    }
   ],
   "source": [
    "a1[((a1%20)==0) and (a1>30))]#트루 포스 문제이기 때문에 두개의 조건을 한 번에 줄수는 없음 순차적으로."
   ]
  },
  {
   "cell_type": "code",
   "execution_count": 127,
   "id": "1e0ba8c6",
   "metadata": {},
   "outputs": [
    {
     "name": "stdout",
     "output_type": "stream",
     "text": [
      "10의 배수다\n"
     ]
    }
   ],
   "source": [
    "a=40\n",
    "if a%10==0:\n",
    "    print(\"10의 배수다\")"
   ]
  },
  {
   "cell_type": "code",
   "execution_count": 128,
   "id": "e888ad8c",
   "metadata": {},
   "outputs": [
    {
     "name": "stdout",
     "output_type": "stream",
     "text": [
      "20보다 크다\n"
     ]
    }
   ],
   "source": [
    "if a>20:\n",
    "    print(\"20보다 크다\")"
   ]
  },
  {
   "cell_type": "code",
   "execution_count": 130,
   "id": "83e56a56",
   "metadata": {},
   "outputs": [
    {
     "name": "stdout",
     "output_type": "stream",
     "text": [
      "10의 배수면서 20보다 크다\n"
     ]
    }
   ],
   "source": [
    "if (a%4==0) and (a>20):\n",
    "\n",
    "    print(\"10의 배수면서 20보다 크다\")"
   ]
  },
  {
   "cell_type": "code",
   "execution_count": 131,
   "id": "c1bf0b8c",
   "metadata": {},
   "outputs": [
    {
     "name": "stdout",
     "output_type": "stream",
     "text": [
      "10의 배수이거나 20보다 크다\n"
     ]
    }
   ],
   "source": [
    "if (a%4==0) and (a>20):\n",
    "\n",
    "    print(\"10의 배수이거나 20보다 크다\")"
   ]
  },
  {
   "cell_type": "code",
   "execution_count": 5,
   "id": "4848e11d",
   "metadata": {},
   "outputs": [
    {
     "name": "stdout",
     "output_type": "stream",
     "text": [
      "0.0\n"
     ]
    }
   ],
   "source": [
    "import random\n",
    "import time\n",
    "\n",
    "def with_python(n):\n",
    "    s=0\n",
    "    for i in range(n):\n",
    "        s+=random.random()\n",
    "        return s/n\n",
    "\n",
    "n=1000000000000000000\n",
    "\n",
    "s_time=time.time()\n",
    "with_python(n)\n",
    "e_time=time.time()\n",
    "print(e_time-s_time)"
   ]
  },
  {
   "cell_type": "code",
   "execution_count": 6,
   "id": "04b9db06",
   "metadata": {},
   "outputs": [
    {
     "ename": "MemoryError",
     "evalue": "Unable to allocate 6.94 EiB for an array with shape (1000000000000000000,) and data type float64",
     "output_type": "error",
     "traceback": [
      "\u001b[1;31m---------------------------------------------------------------------------\u001b[0m",
      "\u001b[1;31mMemoryError\u001b[0m                               Traceback (most recent call last)",
      "\u001b[1;32m~\\AppData\\Local\\Temp/ipykernel_14916/128936729.py\u001b[0m in \u001b[0;36m<module>\u001b[1;34m\u001b[0m\n\u001b[0;32m      6\u001b[0m \u001b[1;33m\u001b[0m\u001b[0m\n\u001b[0;32m      7\u001b[0m \u001b[0ms_time\u001b[0m\u001b[1;33m=\u001b[0m\u001b[0mtime\u001b[0m\u001b[1;33m.\u001b[0m\u001b[0mtime\u001b[0m\u001b[1;33m(\u001b[0m\u001b[1;33m)\u001b[0m\u001b[1;33m\u001b[0m\u001b[1;33m\u001b[0m\u001b[0m\n\u001b[1;32m----> 8\u001b[1;33m \u001b[0mwith_numpy\u001b[0m\u001b[1;33m(\u001b[0m\u001b[0mn\u001b[0m\u001b[1;33m)\u001b[0m\u001b[1;33m\u001b[0m\u001b[1;33m\u001b[0m\u001b[0m\n\u001b[0m\u001b[0;32m      9\u001b[0m \u001b[0me_time\u001b[0m\u001b[1;33m=\u001b[0m\u001b[0mtime\u001b[0m\u001b[1;33m.\u001b[0m\u001b[0mtime\u001b[0m\u001b[1;33m(\u001b[0m\u001b[1;33m)\u001b[0m\u001b[1;33m\u001b[0m\u001b[1;33m\u001b[0m\u001b[0m\n\u001b[0;32m     10\u001b[0m \u001b[0mprint\u001b[0m\u001b[1;33m(\u001b[0m\u001b[0me_time\u001b[0m\u001b[1;33m-\u001b[0m\u001b[0ms_time\u001b[0m\u001b[1;33m)\u001b[0m\u001b[1;33m\u001b[0m\u001b[1;33m\u001b[0m\u001b[0m\n",
      "\u001b[1;32m~\\AppData\\Local\\Temp/ipykernel_14916/128936729.py\u001b[0m in \u001b[0;36mwith_numpy\u001b[1;34m(n)\u001b[0m\n\u001b[0;32m      1\u001b[0m \u001b[1;32mdef\u001b[0m \u001b[0mwith_numpy\u001b[0m\u001b[1;33m(\u001b[0m\u001b[0mn\u001b[0m\u001b[1;33m)\u001b[0m\u001b[1;33m:\u001b[0m\u001b[1;33m\u001b[0m\u001b[1;33m\u001b[0m\u001b[0m\n\u001b[1;32m----> 2\u001b[1;33m     \u001b[0ms\u001b[0m\u001b[1;33m=\u001b[0m \u001b[0mnp\u001b[0m\u001b[1;33m.\u001b[0m\u001b[0mrandom\u001b[0m\u001b[1;33m.\u001b[0m\u001b[0mrandom\u001b[0m\u001b[1;33m(\u001b[0m\u001b[0mn\u001b[0m\u001b[1;33m)\u001b[0m\u001b[1;33m\u001b[0m\u001b[1;33m\u001b[0m\u001b[0m\n\u001b[0m\u001b[0;32m      3\u001b[0m     \u001b[1;32mreturn\u001b[0m \u001b[0ms\u001b[0m\u001b[1;33m.\u001b[0m\u001b[0mmean\u001b[0m\u001b[1;33m(\u001b[0m\u001b[1;33m)\u001b[0m\u001b[1;33m\u001b[0m\u001b[1;33m\u001b[0m\u001b[0m\n\u001b[0;32m      4\u001b[0m \u001b[1;33m\u001b[0m\u001b[0m\n\u001b[0;32m      5\u001b[0m \u001b[0mn\u001b[0m\u001b[1;33m=\u001b[0m\u001b[1;36m1000000000000000000\u001b[0m\u001b[1;33m\u001b[0m\u001b[1;33m\u001b[0m\u001b[0m\n",
      "\u001b[1;32mmtrand.pyx\u001b[0m in \u001b[0;36mnumpy.random.mtrand.RandomState.random\u001b[1;34m()\u001b[0m\n",
      "\u001b[1;32mmtrand.pyx\u001b[0m in \u001b[0;36mnumpy.random.mtrand.RandomState.random_sample\u001b[1;34m()\u001b[0m\n",
      "\u001b[1;32m_common.pyx\u001b[0m in \u001b[0;36mnumpy.random._common.double_fill\u001b[1;34m()\u001b[0m\n",
      "\u001b[1;31mMemoryError\u001b[0m: Unable to allocate 6.94 EiB for an array with shape (1000000000000000000,) and data type float64"
     ]
    }
   ],
   "source": [
    "def with_numpy(n):\n",
    "    s= np.random.random(n)\n",
    "    return s.mean()\n",
    "\n",
    "n=1000000000000000000\n",
    "\n",
    "s_time=time.time()\n",
    "with_numpy(n)\n",
    "e_time=time.time()\n",
    "print(e_time-s_time)"
   ]
  },
  {
   "cell_type": "code",
   "execution_count": 7,
   "id": "b0cac43a",
   "metadata": {
    "scrolled": true
   },
   "outputs": [
    {
     "name": "stdout",
     "output_type": "stream",
     "text": [
      "python의 반복문 시간: 23436.59782409668 ms\n"
     ]
    }
   ],
   "source": [
    "import time\n",
    "\n",
    "n=1000\n",
    "m=10000\n",
    "X=np.random.rand(n,m)\n",
    "W=np.random.rand(n,1)\n",
    "\n",
    "t1=time.time()\n",
    "Z=np.zeros((1,m))\n",
    "for i in range(X.shape[1]):\n",
    "    for j in range(X.shape[0]):\n",
    "        Z[0][i]+=W[j]*X[j][i]\n",
    "t2=time.time()\n",
    "ms=(t2-t1)*1000   \n",
    "print(\"python의 반복문 시간:\",ms,\"ms\")"
   ]
  },
  {
   "cell_type": "code",
   "execution_count": 8,
   "id": "e8ca7f84",
   "metadata": {},
   "outputs": [
    {
     "name": "stdout",
     "output_type": "stream",
     "text": [
      "넘파이 시간: 10.812997817993164 ms\n"
     ]
    }
   ],
   "source": [
    "t3=time.time()\n",
    "Z=np.dot(W.T,X)\n",
    "t4=time.time()\n",
    "ms=(t4-t3)*1000\n",
    "print(\"넘파이 시간:\",ms,\"ms\")"
   ]
  },
  {
   "cell_type": "code",
   "execution_count": 9,
   "id": "1abb5cbd",
   "metadata": {},
   "outputs": [
    {
     "data": {
      "text/plain": [
       "2167.4468282142307"
      ]
     },
     "execution_count": 9,
     "metadata": {},
     "output_type": "execute_result"
    }
   ],
   "source": [
    "23436.59782409668/10.812997817993164 #넘파이가 파이썬보다 2167배 빠르다!!! 내 컴퓨터 좋은 컴퓨터네... ^^"
   ]
  },
  {
   "cell_type": "code",
   "execution_count": 333,
   "id": "88551b1a",
   "metadata": {},
   "outputs": [],
   "source": [
    "#pandas p237 차원은 선의 개수라고 생각하면 편하다. 1차원은 1개 2차원은 2개...\n",
    "#1차원 데이터:Series\n",
    "#2차원:DataFrame(평면에는 여러개의 줄이 들어갈 수 있다.)"
   ]
  },
  {
   "cell_type": "code",
   "execution_count": 334,
   "id": "1677f9be",
   "metadata": {},
   "outputs": [
    {
     "data": {
      "text/plain": [
       "0    10\n",
       "1    20\n",
       "2    30\n",
       "3    40\n",
       "4    50\n",
       "dtype: int64"
      ]
     },
     "execution_count": 334,
     "metadata": {},
     "output_type": "execute_result"
    }
   ],
   "source": [
    "s1= pd.Series([10,20,30,40,50]) #리스트로 먼저 만든다. #pd.Series\n",
    "s1"
   ]
  },
  {
   "cell_type": "code",
   "execution_count": 335,
   "id": "cdc60ef3",
   "metadata": {},
   "outputs": [
    {
     "data": {
      "text/plain": [
       "0    100\n",
       "1    200\n",
       "2    300\n",
       "3    400\n",
       "4    500\n",
       "dtype: int64"
      ]
     },
     "execution_count": 335,
     "metadata": {},
     "output_type": "execute_result"
    }
   ],
   "source": [
    "s2= pd.Series([100,200,300,400,500]) #0번째 인덱스부더 4번째 인덱스까지있다\n",
    "s2"
   ]
  },
  {
   "cell_type": "code",
   "execution_count": 336,
   "id": "2c092793",
   "metadata": {
    "scrolled": true
   },
   "outputs": [
    {
     "data": {
      "text/html": [
       "<div>\n",
       "<style scoped>\n",
       "    .dataframe tbody tr th:only-of-type {\n",
       "        vertical-align: middle;\n",
       "    }\n",
       "\n",
       "    .dataframe tbody tr th {\n",
       "        vertical-align: top;\n",
       "    }\n",
       "\n",
       "    .dataframe thead th {\n",
       "        text-align: right;\n",
       "    }\n",
       "</style>\n",
       "<table border=\"1\" class=\"dataframe\">\n",
       "  <thead>\n",
       "    <tr style=\"text-align: right;\">\n",
       "      <th></th>\n",
       "      <th>col_1</th>\n",
       "      <th>col_2</th>\n",
       "    </tr>\n",
       "  </thead>\n",
       "  <tbody>\n",
       "    <tr>\n",
       "      <th>0</th>\n",
       "      <td>10</td>\n",
       "      <td>100</td>\n",
       "    </tr>\n",
       "    <tr>\n",
       "      <th>1</th>\n",
       "      <td>20</td>\n",
       "      <td>200</td>\n",
       "    </tr>\n",
       "    <tr>\n",
       "      <th>2</th>\n",
       "      <td>30</td>\n",
       "      <td>300</td>\n",
       "    </tr>\n",
       "    <tr>\n",
       "      <th>3</th>\n",
       "      <td>40</td>\n",
       "      <td>400</td>\n",
       "    </tr>\n",
       "    <tr>\n",
       "      <th>4</th>\n",
       "      <td>50</td>\n",
       "      <td>500</td>\n",
       "    </tr>\n",
       "  </tbody>\n",
       "</table>\n",
       "</div>"
      ],
      "text/plain": [
       "   col_1  col_2\n",
       "0     10    100\n",
       "1     20    200\n",
       "2     30    300\n",
       "3     40    400\n",
       "4     50    500"
      ]
     },
     "execution_count": 336,
     "metadata": {},
     "output_type": "execute_result"
    }
   ],
   "source": [
    "pd.DataFrame({\"col_1\":s1,\"col_2\":s2})"
   ]
  },
  {
   "cell_type": "code",
   "execution_count": 337,
   "id": "fbfda0c1",
   "metadata": {},
   "outputs": [
    {
     "data": {
      "text/html": [
       "<div>\n",
       "<style scoped>\n",
       "    .dataframe tbody tr th:only-of-type {\n",
       "        vertical-align: middle;\n",
       "    }\n",
       "\n",
       "    .dataframe tbody tr th {\n",
       "        vertical-align: top;\n",
       "    }\n",
       "\n",
       "    .dataframe thead th {\n",
       "        text-align: right;\n",
       "    }\n",
       "</style>\n",
       "<table border=\"1\" class=\"dataframe\">\n",
       "  <thead>\n",
       "    <tr style=\"text-align: right;\">\n",
       "      <th></th>\n",
       "      <th>col_1</th>\n",
       "      <th>col_2</th>\n",
       "      <th>col_3</th>\n",
       "    </tr>\n",
       "  </thead>\n",
       "  <tbody>\n",
       "    <tr>\n",
       "      <th>0</th>\n",
       "      <td>10</td>\n",
       "      <td>100</td>\n",
       "      <td>a</td>\n",
       "    </tr>\n",
       "    <tr>\n",
       "      <th>1</th>\n",
       "      <td>20</td>\n",
       "      <td>200</td>\n",
       "      <td>b</td>\n",
       "    </tr>\n",
       "    <tr>\n",
       "      <th>2</th>\n",
       "      <td>30</td>\n",
       "      <td>300</td>\n",
       "      <td>c</td>\n",
       "    </tr>\n",
       "    <tr>\n",
       "      <th>3</th>\n",
       "      <td>40</td>\n",
       "      <td>400</td>\n",
       "      <td>d</td>\n",
       "    </tr>\n",
       "    <tr>\n",
       "      <th>4</th>\n",
       "      <td>50</td>\n",
       "      <td>500</td>\n",
       "      <td>e</td>\n",
       "    </tr>\n",
       "  </tbody>\n",
       "</table>\n",
       "</div>"
      ],
      "text/plain": [
       "   col_1  col_2 col_3\n",
       "0     10    100     a\n",
       "1     20    200     b\n",
       "2     30    300     c\n",
       "3     40    400     d\n",
       "4     50    500     e"
      ]
     },
     "execution_count": 337,
     "metadata": {},
     "output_type": "execute_result"
    }
   ],
   "source": [
    "pd.DataFrame({\"col_1\":s1,\"col_2\":s2,\"col_3\":[\"a\",\"b\",\"c\",\"d\",\"e\"]}) #2개의 시리즈를 묶어서 데이타 프레임으로 만든다. \n",
    "#저기 세로 0,1,2,3,4가 인덱스, 0,1,2,3,4는 컬럼. 내용물은 밸류라고 부른다. 컬럼이 많아야 2차원 "
   ]
  },
  {
   "cell_type": "code",
   "execution_count": 338,
   "id": "0a632cb9",
   "metadata": {},
   "outputs": [
    {
     "data": {
      "text/plain": [
       "RangeIndex(start=0, stop=5, step=1)"
      ]
     },
     "execution_count": 338,
     "metadata": {},
     "output_type": "execute_result"
    }
   ],
   "source": [
    "s1.index #인덱스 몇개냐?"
   ]
  },
  {
   "cell_type": "code",
   "execution_count": 339,
   "id": "90943ca2",
   "metadata": {},
   "outputs": [
    {
     "data": {
      "text/plain": [
       "[0, 1, 2, 3, 4]"
      ]
     },
     "execution_count": 339,
     "metadata": {},
     "output_type": "execute_result"
    }
   ],
   "source": [
    "list(s1.index) #인덱스 보여줘"
   ]
  },
  {
   "cell_type": "code",
   "execution_count": 340,
   "id": "1466999f",
   "metadata": {},
   "outputs": [
    {
     "data": {
      "text/plain": [
       "array([10, 20, 30, 40, 50], dtype=int64)"
      ]
     },
     "execution_count": 340,
     "metadata": {},
     "output_type": "execute_result"
    }
   ],
   "source": [
    "s1.values #값을 보여줘!"
   ]
  },
  {
   "cell_type": "code",
   "execution_count": 344,
   "id": "7cf08b62",
   "metadata": {},
   "outputs": [
    {
     "data": {
      "text/plain": [
       "0    10\n",
       "1    20\n",
       "2    30\n",
       "3    40\n",
       "dtype: int64"
      ]
     },
     "execution_count": 344,
     "metadata": {},
     "output_type": "execute_result"
    }
   ],
   "source": [
    "s1.iloc[0:4]"
   ]
  },
  {
   "cell_type": "code",
   "execution_count": 343,
   "id": "b8e8520d",
   "metadata": {},
   "outputs": [
    {
     "data": {
      "text/plain": [
       "1    20\n",
       "2    30\n",
       "3    40\n",
       "4    50\n",
       "dtype: int64"
      ]
     },
     "execution_count": 343,
     "metadata": {},
     "output_type": "execute_result"
    }
   ],
   "source": [
    "s1.loc[1:4]"
   ]
  },
  {
   "cell_type": "code",
   "execution_count": 157,
   "id": "ecf86d90",
   "metadata": {},
   "outputs": [
    {
     "data": {
      "text/plain": [
       "0     NaN\n",
       "1    20.0\n",
       "2    30.0\n",
       "3    40.0\n",
       "4     NaN\n",
       "dtype: float64"
      ]
     },
     "execution_count": 157,
     "metadata": {},
     "output_type": "execute_result"
    }
   ],
   "source": [
    "#p239 결측치:missing data 비어있는 정보 파이썬에서는np.nan오로 표기 NA처리.\n",
    "\n",
    "s3= pd.Series([np.nan,20,30,40,np.nan])\n",
    "s3"
   ]
  },
  {
   "cell_type": "code",
   "execution_count": 158,
   "id": "0c52a739",
   "metadata": {},
   "outputs": [
    {
     "data": {
      "text/plain": [
       "0    Kim\n",
       "1    Lee\n",
       "2    Seo\n",
       "dtype: object"
      ]
     },
     "execution_count": 158,
     "metadata": {},
     "output_type": "execute_result"
    }
   ],
   "source": [
    "s4= pd.Series([\"Kim\",\"Lee\",\"Seo\"]) #밸류값에 숫자 말고도 들어갈 수 있음.\n",
    "s4"
   ]
  },
  {
   "cell_type": "code",
   "execution_count": 164,
   "id": "f75d3a9a",
   "metadata": {},
   "outputs": [
    {
     "data": {
      "text/plain": [
       "2021-12-06    NaN\n",
       "2021-12-07    NaN\n",
       "2021-12-08    1일차\n",
       "2021-12-09    2일차\n",
       "2021-12-10    3일차\n",
       "dtype: object"
      ]
     },
     "execution_count": 164,
     "metadata": {},
     "output_type": "execute_result"
    }
   ],
   "source": [
    "# p240 인덱스를 날짜로도 만들 수 있다. 근데 일일이 입력하기 너무 귀찮다.\n",
    "index_date=[\"2021-12-06\",\"2021-12-07\",\"2021-12-08\",\"2021-12-09\",\"2021-12-10\"]\n",
    "s5= pd.Series([np.nan,np.nan,\"1일차\",\"2일차\",\"3일차\"],\n",
    "              index=index_date)\n",
    "s5"
   ]
  },
  {
   "cell_type": "code",
   "execution_count": 165,
   "id": "2dd81844",
   "metadata": {},
   "outputs": [
    {
     "data": {
      "text/plain": [
       "DatetimeIndex(['2021-12-06', '2021-12-07', '2021-12-08', '2021-12-09',\n",
       "               '2021-12-10'],\n",
       "              dtype='datetime64[ns]', freq='D')"
      ]
     },
     "execution_count": 165,
     "metadata": {},
     "output_type": "execute_result"
    }
   ],
   "source": [
    "# p241 판다스의 데이트 레인지를 쓴다.\n",
    "pd.date_range(start=\"2021-12-06\",end=\"2021-12-10\")"
   ]
  },
  {
   "cell_type": "code",
   "execution_count": 167,
   "id": "0ce3a113",
   "metadata": {},
   "outputs": [
    {
     "data": {
      "text/html": [
       "<div>\n",
       "<style scoped>\n",
       "    .dataframe tbody tr th:only-of-type {\n",
       "        vertical-align: middle;\n",
       "    }\n",
       "\n",
       "    .dataframe tbody tr th {\n",
       "        vertical-align: top;\n",
       "    }\n",
       "\n",
       "    .dataframe thead th {\n",
       "        text-align: right;\n",
       "    }\n",
       "</style>\n",
       "<table border=\"1\" class=\"dataframe\">\n",
       "  <thead>\n",
       "    <tr style=\"text-align: right;\">\n",
       "      <th></th>\n",
       "      <th>0</th>\n",
       "      <th>1</th>\n",
       "      <th>2</th>\n",
       "    </tr>\n",
       "  </thead>\n",
       "  <tbody>\n",
       "    <tr>\n",
       "      <th>0</th>\n",
       "      <td>1</td>\n",
       "      <td>2</td>\n",
       "      <td>3</td>\n",
       "    </tr>\n",
       "    <tr>\n",
       "      <th>1</th>\n",
       "      <td>4</td>\n",
       "      <td>5</td>\n",
       "      <td>6</td>\n",
       "    </tr>\n",
       "    <tr>\n",
       "      <th>2</th>\n",
       "      <td>7</td>\n",
       "      <td>8</td>\n",
       "      <td>9</td>\n",
       "    </tr>\n",
       "    <tr>\n",
       "      <th>3</th>\n",
       "      <td>10</td>\n",
       "      <td>11</td>\n",
       "      <td>12</td>\n",
       "    </tr>\n",
       "  </tbody>\n",
       "</table>\n",
       "</div>"
      ],
      "text/plain": [
       "    0   1   2\n",
       "0   1   2   3\n",
       "1   4   5   6\n",
       "2   7   8   9\n",
       "3  10  11  12"
      ]
     },
     "execution_count": 167,
     "metadata": {},
     "output_type": "execute_result"
    }
   ],
   "source": [
    "# p246. DataFrame\n",
    "#pd.DataFrame({\"col_1\":s1,\"col_2\":s2,\"col_3\":[\"a\",\"b\",\"c\",\"d\",\"e\"]}) 기존에 있던 시리즈를 엮는 방법. 컬럼단위.\n",
    "#새로 만드는 방법 (테이터 베이스는 행 단위로 정보를 쓴다. 이 때는 컬럼 단위로 불러오는 게 불리하다.)\n",
    "pd.DataFrame([[1,2,3],[4,5,6],[7,8,9],[10,11,12]])\n",
    "#아직 컬럼, 인덱스 지정 안한 상태"
   ]
  },
  {
   "cell_type": "code",
   "execution_count": 168,
   "id": "2219ce0f",
   "metadata": {},
   "outputs": [
    {
     "data": {
      "text/html": [
       "<div>\n",
       "<style scoped>\n",
       "    .dataframe tbody tr th:only-of-type {\n",
       "        vertical-align: middle;\n",
       "    }\n",
       "\n",
       "    .dataframe tbody tr th {\n",
       "        vertical-align: top;\n",
       "    }\n",
       "\n",
       "    .dataframe thead th {\n",
       "        text-align: right;\n",
       "    }\n",
       "</style>\n",
       "<table border=\"1\" class=\"dataframe\">\n",
       "  <thead>\n",
       "    <tr style=\"text-align: right;\">\n",
       "      <th></th>\n",
       "      <th>col_1</th>\n",
       "      <th>col_2</th>\n",
       "      <th>col_3</th>\n",
       "    </tr>\n",
       "  </thead>\n",
       "  <tbody>\n",
       "    <tr>\n",
       "      <th>a</th>\n",
       "      <td>1</td>\n",
       "      <td>2</td>\n",
       "      <td>3</td>\n",
       "    </tr>\n",
       "    <tr>\n",
       "      <th>b</th>\n",
       "      <td>4</td>\n",
       "      <td>5</td>\n",
       "      <td>6</td>\n",
       "    </tr>\n",
       "    <tr>\n",
       "      <th>c</th>\n",
       "      <td>7</td>\n",
       "      <td>8</td>\n",
       "      <td>9</td>\n",
       "    </tr>\n",
       "    <tr>\n",
       "      <th>d</th>\n",
       "      <td>10</td>\n",
       "      <td>11</td>\n",
       "      <td>12</td>\n",
       "    </tr>\n",
       "  </tbody>\n",
       "</table>\n",
       "</div>"
      ],
      "text/plain": [
       "   col_1  col_2  col_3\n",
       "a      1      2      3\n",
       "b      4      5      6\n",
       "c      7      8      9\n",
       "d     10     11     12"
      ]
     },
     "execution_count": 168,
     "metadata": {},
     "output_type": "execute_result"
    }
   ],
   "source": [
    "data=[[1,2,3],[4,5,6],[7,8,9],[10,11,12]]\n",
    "index=[\"a\",\"b\",\"c\",\"d\"]\n",
    "col=[\"col_1\",\"col_2\",\"col_3\"]\n",
    "pd.DataFrame(data,index=index,columns=col)"
   ]
  },
  {
   "cell_type": "code",
   "execution_count": 287,
   "id": "7a8e0d05",
   "metadata": {},
   "outputs": [
    {
     "data": {
      "text/plain": [
       "0    11\n",
       "1    22\n",
       "2    33\n",
       "3    44\n",
       "4    55\n",
       "dtype: int64"
      ]
     },
     "execution_count": 287,
     "metadata": {},
     "output_type": "execute_result"
    }
   ],
   "source": [
    "# 데이터 연산, p251\n",
    "s1=pd.Series([1,2,3,4,5])\n",
    "s2=pd.Series([10,20,30,40,50])\n",
    "s1+s2"
   ]
  },
  {
   "cell_type": "code",
   "execution_count": 317,
   "id": "32f5b136",
   "metadata": {},
   "outputs": [
    {
     "data": {
      "text/html": [
       "<div>\n",
       "<style scoped>\n",
       "    .dataframe tbody tr th:only-of-type {\n",
       "        vertical-align: middle;\n",
       "    }\n",
       "\n",
       "    .dataframe tbody tr th {\n",
       "        vertical-align: top;\n",
       "    }\n",
       "\n",
       "    .dataframe thead th {\n",
       "        text-align: right;\n",
       "    }\n",
       "</style>\n",
       "<table border=\"1\" class=\"dataframe\">\n",
       "  <thead>\n",
       "    <tr style=\"text-align: right;\">\n",
       "      <th></th>\n",
       "      <th>시군구</th>\n",
       "      <th>읍면리동</th>\n",
       "    </tr>\n",
       "  </thead>\n",
       "  <tbody>\n",
       "    <tr>\n",
       "      <th>0</th>\n",
       "      <td>서울시</td>\n",
       "      <td>필동</td>\n",
       "    </tr>\n",
       "    <tr>\n",
       "      <th>1</th>\n",
       "      <td>부산시</td>\n",
       "      <td>서면</td>\n",
       "    </tr>\n",
       "    <tr>\n",
       "      <th>2</th>\n",
       "      <td>대전시</td>\n",
       "      <td>둔산동</td>\n",
       "    </tr>\n",
       "  </tbody>\n",
       "</table>\n",
       "</div>"
      ],
      "text/plain": [
       "   시군구 읍면리동\n",
       "0  서울시   필동\n",
       "1  부산시   서면\n",
       "2  대전시  둔산동"
      ]
     },
     "execution_count": 317,
     "metadata": {},
     "output_type": "execute_result"
    }
   ],
   "source": [
    "s1=pd.Series([\"서울시\",\"부산시\",\"대전시\"])\n",
    "s2=pd.Series([\"필동\",\"서면\",\"둔산동\"])\n",
    "df1=pd.DataFrame({\"시군구\":s1,\"읍면리동\":s2})\n",
    "df1"
   ]
  },
  {
   "cell_type": "code",
   "execution_count": 318,
   "id": "6f7bf7ea",
   "metadata": {},
   "outputs": [
    {
     "data": {
      "text/html": [
       "<div>\n",
       "<style scoped>\n",
       "    .dataframe tbody tr th:only-of-type {\n",
       "        vertical-align: middle;\n",
       "    }\n",
       "\n",
       "    .dataframe tbody tr th {\n",
       "        vertical-align: top;\n",
       "    }\n",
       "\n",
       "    .dataframe thead th {\n",
       "        text-align: right;\n",
       "    }\n",
       "</style>\n",
       "<table border=\"1\" class=\"dataframe\">\n",
       "  <thead>\n",
       "    <tr style=\"text-align: right;\">\n",
       "      <th></th>\n",
       "      <th>시군구</th>\n",
       "      <th>읍면리동</th>\n",
       "      <th>사는곳</th>\n",
       "    </tr>\n",
       "  </thead>\n",
       "  <tbody>\n",
       "    <tr>\n",
       "      <th>0</th>\n",
       "      <td>서울시</td>\n",
       "      <td>필동</td>\n",
       "      <td>서울시 필동</td>\n",
       "    </tr>\n",
       "    <tr>\n",
       "      <th>1</th>\n",
       "      <td>부산시</td>\n",
       "      <td>서면</td>\n",
       "      <td>부산시 서면</td>\n",
       "    </tr>\n",
       "    <tr>\n",
       "      <th>2</th>\n",
       "      <td>대전시</td>\n",
       "      <td>둔산동</td>\n",
       "      <td>대전시 둔산동</td>\n",
       "    </tr>\n",
       "  </tbody>\n",
       "</table>\n",
       "</div>"
      ],
      "text/plain": [
       "   시군구 읍면리동      사는곳\n",
       "0  서울시   필동   서울시 필동\n",
       "1  부산시   서면   부산시 서면\n",
       "2  대전시  둔산동  대전시 둔산동"
      ]
     },
     "execution_count": 318,
     "metadata": {},
     "output_type": "execute_result"
    }
   ],
   "source": [
    "df1[\"사는곳\"]=df1[\"시군구\"]+\" \"+df1[\"읍면리동\"]\n",
    "df1"
   ]
  },
  {
   "cell_type": "code",
   "execution_count": 319,
   "id": "734432e1",
   "metadata": {},
   "outputs": [
    {
     "data": {
      "text/plain": [
       "[0, 1, 2]"
      ]
     },
     "execution_count": 319,
     "metadata": {},
     "output_type": "execute_result"
    }
   ],
   "source": [
    "list(df1.index)"
   ]
  },
  {
   "cell_type": "code",
   "execution_count": 320,
   "id": "c3192930",
   "metadata": {},
   "outputs": [
    {
     "data": {
      "text/plain": [
       "Index(['시군구', '읍면리동', '사는곳'], dtype='object')"
      ]
     },
     "execution_count": 320,
     "metadata": {},
     "output_type": "execute_result"
    }
   ],
   "source": [
    "df1.columns"
   ]
  },
  {
   "cell_type": "code",
   "execution_count": 321,
   "id": "86475eb6",
   "metadata": {},
   "outputs": [
    {
     "data": {
      "text/plain": [
       "array([['서울시', '필동', '서울시 필동'],\n",
       "       ['부산시', '서면', '부산시 서면'],\n",
       "       ['대전시', '둔산동', '대전시 둔산동']], dtype=object)"
      ]
     },
     "execution_count": 321,
     "metadata": {},
     "output_type": "execute_result"
    }
   ],
   "source": [
    "df1.values"
   ]
  },
  {
   "cell_type": "code",
   "execution_count": 322,
   "id": "ce346dc5",
   "metadata": {},
   "outputs": [],
   "source": [
    "df_titanic=pd.read_csv(\"titanic.csv\")"
   ]
  },
  {
   "cell_type": "code",
   "execution_count": 323,
   "id": "8a98e02b",
   "metadata": {},
   "outputs": [
    {
     "data": {
      "text/html": [
       "<div>\n",
       "<style scoped>\n",
       "    .dataframe tbody tr th:only-of-type {\n",
       "        vertical-align: middle;\n",
       "    }\n",
       "\n",
       "    .dataframe tbody tr th {\n",
       "        vertical-align: top;\n",
       "    }\n",
       "\n",
       "    .dataframe thead th {\n",
       "        text-align: right;\n",
       "    }\n",
       "</style>\n",
       "<table border=\"1\" class=\"dataframe\">\n",
       "  <thead>\n",
       "    <tr style=\"text-align: right;\">\n",
       "      <th></th>\n",
       "      <th>PassengerId</th>\n",
       "      <th>Survived</th>\n",
       "      <th>Pclass</th>\n",
       "      <th>Name</th>\n",
       "      <th>Sex</th>\n",
       "      <th>Age</th>\n",
       "      <th>SibSp</th>\n",
       "      <th>Parch</th>\n",
       "      <th>Ticket</th>\n",
       "      <th>Fare</th>\n",
       "      <th>Cabin</th>\n",
       "      <th>Embarked</th>\n",
       "    </tr>\n",
       "  </thead>\n",
       "  <tbody>\n",
       "    <tr>\n",
       "      <th>0</th>\n",
       "      <td>1</td>\n",
       "      <td>0</td>\n",
       "      <td>3</td>\n",
       "      <td>Braund, Mr. Owen Harris</td>\n",
       "      <td>male</td>\n",
       "      <td>22.0</td>\n",
       "      <td>1</td>\n",
       "      <td>0</td>\n",
       "      <td>A/5 21171</td>\n",
       "      <td>7.2500</td>\n",
       "      <td>NaN</td>\n",
       "      <td>S</td>\n",
       "    </tr>\n",
       "    <tr>\n",
       "      <th>1</th>\n",
       "      <td>2</td>\n",
       "      <td>1</td>\n",
       "      <td>1</td>\n",
       "      <td>Cumings, Mrs. John Bradley (Florence Briggs Th...</td>\n",
       "      <td>female</td>\n",
       "      <td>38.0</td>\n",
       "      <td>1</td>\n",
       "      <td>0</td>\n",
       "      <td>PC 17599</td>\n",
       "      <td>71.2833</td>\n",
       "      <td>C85</td>\n",
       "      <td>C</td>\n",
       "    </tr>\n",
       "    <tr>\n",
       "      <th>2</th>\n",
       "      <td>3</td>\n",
       "      <td>1</td>\n",
       "      <td>3</td>\n",
       "      <td>Heikkinen, Miss. Laina</td>\n",
       "      <td>female</td>\n",
       "      <td>26.0</td>\n",
       "      <td>0</td>\n",
       "      <td>0</td>\n",
       "      <td>STON/O2. 3101282</td>\n",
       "      <td>7.9250</td>\n",
       "      <td>NaN</td>\n",
       "      <td>S</td>\n",
       "    </tr>\n",
       "  </tbody>\n",
       "</table>\n",
       "</div>"
      ],
      "text/plain": [
       "   PassengerId  Survived  Pclass  \\\n",
       "0            1         0       3   \n",
       "1            2         1       1   \n",
       "2            3         1       3   \n",
       "\n",
       "                                                Name     Sex   Age  SibSp  \\\n",
       "0                            Braund, Mr. Owen Harris    male  22.0      1   \n",
       "1  Cumings, Mrs. John Bradley (Florence Briggs Th...  female  38.0      1   \n",
       "2                             Heikkinen, Miss. Laina  female  26.0      0   \n",
       "\n",
       "   Parch            Ticket     Fare Cabin Embarked  \n",
       "0      0         A/5 21171   7.2500   NaN        S  \n",
       "1      0          PC 17599  71.2833   C85        C  \n",
       "2      0  STON/O2. 3101282   7.9250   NaN        S  "
      ]
     },
     "execution_count": 323,
     "metadata": {},
     "output_type": "execute_result"
    }
   ],
   "source": [
    "df_titanic.head(3) # 기본 값 5개 출력."
   ]
  },
  {
   "cell_type": "code",
   "execution_count": 324,
   "id": "f7b8623e",
   "metadata": {},
   "outputs": [
    {
     "data": {
      "text/html": [
       "<div>\n",
       "<style scoped>\n",
       "    .dataframe tbody tr th:only-of-type {\n",
       "        vertical-align: middle;\n",
       "    }\n",
       "\n",
       "    .dataframe tbody tr th {\n",
       "        vertical-align: top;\n",
       "    }\n",
       "\n",
       "    .dataframe thead th {\n",
       "        text-align: right;\n",
       "    }\n",
       "</style>\n",
       "<table border=\"1\" class=\"dataframe\">\n",
       "  <thead>\n",
       "    <tr style=\"text-align: right;\">\n",
       "      <th></th>\n",
       "      <th>PassengerId</th>\n",
       "      <th>Survived</th>\n",
       "      <th>Pclass</th>\n",
       "      <th>Name</th>\n",
       "      <th>Sex</th>\n",
       "      <th>Age</th>\n",
       "      <th>SibSp</th>\n",
       "      <th>Parch</th>\n",
       "      <th>Ticket</th>\n",
       "      <th>Fare</th>\n",
       "      <th>Cabin</th>\n",
       "      <th>Embarked</th>\n",
       "    </tr>\n",
       "  </thead>\n",
       "  <tbody>\n",
       "    <tr>\n",
       "      <th>889</th>\n",
       "      <td>890</td>\n",
       "      <td>1</td>\n",
       "      <td>1</td>\n",
       "      <td>Behr, Mr. Karl Howell</td>\n",
       "      <td>male</td>\n",
       "      <td>26.0</td>\n",
       "      <td>0</td>\n",
       "      <td>0</td>\n",
       "      <td>111369</td>\n",
       "      <td>30.00</td>\n",
       "      <td>C148</td>\n",
       "      <td>C</td>\n",
       "    </tr>\n",
       "    <tr>\n",
       "      <th>890</th>\n",
       "      <td>891</td>\n",
       "      <td>0</td>\n",
       "      <td>3</td>\n",
       "      <td>Dooley, Mr. Patrick</td>\n",
       "      <td>male</td>\n",
       "      <td>32.0</td>\n",
       "      <td>0</td>\n",
       "      <td>0</td>\n",
       "      <td>370376</td>\n",
       "      <td>7.75</td>\n",
       "      <td>NaN</td>\n",
       "      <td>Q</td>\n",
       "    </tr>\n",
       "  </tbody>\n",
       "</table>\n",
       "</div>"
      ],
      "text/plain": [
       "     PassengerId  Survived  Pclass                   Name   Sex   Age  SibSp  \\\n",
       "889          890         1       1  Behr, Mr. Karl Howell  male  26.0      0   \n",
       "890          891         0       3    Dooley, Mr. Patrick  male  32.0      0   \n",
       "\n",
       "     Parch  Ticket   Fare Cabin Embarked  \n",
       "889      0  111369  30.00  C148        C  \n",
       "890      0  370376   7.75   NaN        Q  "
      ]
     },
     "execution_count": 324,
     "metadata": {},
     "output_type": "execute_result"
    }
   ],
   "source": [
    "df_titanic.tail(2) #기본값 5개 출력"
   ]
  },
  {
   "cell_type": "code",
   "execution_count": 325,
   "id": "13db34a8",
   "metadata": {},
   "outputs": [
    {
     "data": {
      "text/html": [
       "<div>\n",
       "<style scoped>\n",
       "    .dataframe tbody tr th:only-of-type {\n",
       "        vertical-align: middle;\n",
       "    }\n",
       "\n",
       "    .dataframe tbody tr th {\n",
       "        vertical-align: top;\n",
       "    }\n",
       "\n",
       "    .dataframe thead th {\n",
       "        text-align: right;\n",
       "    }\n",
       "</style>\n",
       "<table border=\"1\" class=\"dataframe\">\n",
       "  <thead>\n",
       "    <tr style=\"text-align: right;\">\n",
       "      <th></th>\n",
       "      <th>PassengerId</th>\n",
       "      <th>Survived</th>\n",
       "      <th>Pclass</th>\n",
       "      <th>Name</th>\n",
       "      <th>Sex</th>\n",
       "      <th>Age</th>\n",
       "      <th>SibSp</th>\n",
       "      <th>Parch</th>\n",
       "      <th>Ticket</th>\n",
       "      <th>Fare</th>\n",
       "      <th>Cabin</th>\n",
       "      <th>Embarked</th>\n",
       "    </tr>\n",
       "  </thead>\n",
       "  <tbody>\n",
       "    <tr>\n",
       "      <th>2</th>\n",
       "      <td>3</td>\n",
       "      <td>1</td>\n",
       "      <td>3</td>\n",
       "      <td>Heikkinen, Miss. Laina</td>\n",
       "      <td>female</td>\n",
       "      <td>26.0</td>\n",
       "      <td>0</td>\n",
       "      <td>0</td>\n",
       "      <td>STON/O2. 3101282</td>\n",
       "      <td>7.925</td>\n",
       "      <td>NaN</td>\n",
       "      <td>S</td>\n",
       "    </tr>\n",
       "    <tr>\n",
       "      <th>3</th>\n",
       "      <td>4</td>\n",
       "      <td>1</td>\n",
       "      <td>1</td>\n",
       "      <td>Futrelle, Mrs. Jacques Heath (Lily May Peel)</td>\n",
       "      <td>female</td>\n",
       "      <td>35.0</td>\n",
       "      <td>1</td>\n",
       "      <td>0</td>\n",
       "      <td>113803</td>\n",
       "      <td>53.100</td>\n",
       "      <td>C123</td>\n",
       "      <td>S</td>\n",
       "    </tr>\n",
       "  </tbody>\n",
       "</table>\n",
       "</div>"
      ],
      "text/plain": [
       "   PassengerId  Survived  Pclass  \\\n",
       "2            3         1       3   \n",
       "3            4         1       1   \n",
       "\n",
       "                                           Name     Sex   Age  SibSp  Parch  \\\n",
       "2                        Heikkinen, Miss. Laina  female  26.0      0      0   \n",
       "3  Futrelle, Mrs. Jacques Heath (Lily May Peel)  female  35.0      1      0   \n",
       "\n",
       "             Ticket    Fare Cabin Embarked  \n",
       "2  STON/O2. 3101282   7.925   NaN        S  \n",
       "3            113803  53.100  C123        S  "
      ]
     },
     "execution_count": 325,
     "metadata": {},
     "output_type": "execute_result"
    }
   ],
   "source": [
    "df_titanic[2:4]"
   ]
  },
  {
   "cell_type": "code",
   "execution_count": 326,
   "id": "5dc178f2",
   "metadata": {},
   "outputs": [
    {
     "data": {
      "text/html": [
       "<div>\n",
       "<style scoped>\n",
       "    .dataframe tbody tr th:only-of-type {\n",
       "        vertical-align: middle;\n",
       "    }\n",
       "\n",
       "    .dataframe tbody tr th {\n",
       "        vertical-align: top;\n",
       "    }\n",
       "\n",
       "    .dataframe thead th {\n",
       "        text-align: right;\n",
       "    }\n",
       "</style>\n",
       "<table border=\"1\" class=\"dataframe\">\n",
       "  <thead>\n",
       "    <tr style=\"text-align: right;\">\n",
       "      <th></th>\n",
       "      <th>시군구</th>\n",
       "      <th>읍면리동</th>\n",
       "    </tr>\n",
       "  </thead>\n",
       "  <tbody>\n",
       "    <tr>\n",
       "      <th>김씨</th>\n",
       "      <td>서울시</td>\n",
       "      <td>필동</td>\n",
       "    </tr>\n",
       "    <tr>\n",
       "      <th>박씨</th>\n",
       "      <td>부산시</td>\n",
       "      <td>서면</td>\n",
       "    </tr>\n",
       "    <tr>\n",
       "      <th>제갈씨</th>\n",
       "      <td>대전시</td>\n",
       "      <td>둔산동</td>\n",
       "    </tr>\n",
       "  </tbody>\n",
       "</table>\n",
       "</div>"
      ],
      "text/plain": [
       "     시군구 읍면리동\n",
       "김씨   서울시   필동\n",
       "박씨   부산시   서면\n",
       "제갈씨  대전시  둔산동"
      ]
     },
     "execution_count": 326,
     "metadata": {},
     "output_type": "execute_result"
    }
   ],
   "source": [
    "df1=pd.DataFrame([[\"서울시\",\"필동\"],\n",
    "                  [\"부산시\",\"서면\"],\n",
    "                  [\"대전시\",\"둔산동\"]],\n",
    "                 columns=[\"시군구\",\"읍면리동\"],\n",
    "                 index=[\"김씨\",\"박씨\",\"제갈씨\"])\n",
    "df1"
   ]
  },
  {
   "cell_type": "code",
   "execution_count": 327,
   "id": "8c4f2cd2",
   "metadata": {},
   "outputs": [
    {
     "data": {
      "text/plain": [
       "시군구     서울시\n",
       "읍면리동     필동\n",
       "Name: 김씨, dtype: object"
      ]
     },
     "execution_count": 327,
     "metadata": {},
     "output_type": "execute_result"
    }
   ],
   "source": [
    "df1.iloc[0] #반복문 ㅑiloc는 인덱스 몇번째인지 써서 값찾기"
   ]
  },
  {
   "cell_type": "code",
   "execution_count": 328,
   "id": "1e7e880b",
   "metadata": {},
   "outputs": [
    {
     "data": {
      "text/plain": [
       "시군구     서울시\n",
       "읍면리동     필동\n",
       "Name: 김씨, dtype: object"
      ]
     },
     "execution_count": 328,
     "metadata": {},
     "output_type": "execute_result"
    }
   ],
   "source": [
    "df1.loc['김씨'] #loc는 보이는대로 있는 그대로 인덱스 써서."
   ]
  },
  {
   "cell_type": "code",
   "execution_count": 329,
   "id": "7a48a21a",
   "metadata": {},
   "outputs": [
    {
     "data": {
      "text/html": [
       "<div>\n",
       "<style scoped>\n",
       "    .dataframe tbody tr th:only-of-type {\n",
       "        vertical-align: middle;\n",
       "    }\n",
       "\n",
       "    .dataframe tbody tr th {\n",
       "        vertical-align: top;\n",
       "    }\n",
       "\n",
       "    .dataframe thead th {\n",
       "        text-align: right;\n",
       "    }\n",
       "</style>\n",
       "<table border=\"1\" class=\"dataframe\">\n",
       "  <thead>\n",
       "    <tr style=\"text-align: right;\">\n",
       "      <th></th>\n",
       "      <th>시군구</th>\n",
       "      <th>읍면리동</th>\n",
       "    </tr>\n",
       "  </thead>\n",
       "  <tbody>\n",
       "    <tr>\n",
       "      <th>김씨</th>\n",
       "      <td>서울시</td>\n",
       "      <td>필동</td>\n",
       "    </tr>\n",
       "    <tr>\n",
       "      <th>박씨</th>\n",
       "      <td>부산시</td>\n",
       "      <td>서면</td>\n",
       "    </tr>\n",
       "  </tbody>\n",
       "</table>\n",
       "</div>"
      ],
      "text/plain": [
       "    시군구 읍면리동\n",
       "김씨  서울시   필동\n",
       "박씨  부산시   서면"
      ]
     },
     "execution_count": 329,
     "metadata": {},
     "output_type": "execute_result"
    }
   ],
   "source": [
    "df1.loc['김씨':'박씨'] #인덱스로도 슬라이싱이 된다."
   ]
  },
  {
   "cell_type": "code",
   "execution_count": 330,
   "id": "ae1742b7",
   "metadata": {},
   "outputs": [
    {
     "data": {
      "text/html": [
       "<div>\n",
       "<style scoped>\n",
       "    .dataframe tbody tr th:only-of-type {\n",
       "        vertical-align: middle;\n",
       "    }\n",
       "\n",
       "    .dataframe tbody tr th {\n",
       "        vertical-align: top;\n",
       "    }\n",
       "\n",
       "    .dataframe thead th {\n",
       "        text-align: right;\n",
       "    }\n",
       "</style>\n",
       "<table border=\"1\" class=\"dataframe\">\n",
       "  <thead>\n",
       "    <tr style=\"text-align: right;\">\n",
       "      <th></th>\n",
       "      <th>시군구</th>\n",
       "      <th>읍면리동</th>\n",
       "    </tr>\n",
       "  </thead>\n",
       "  <tbody>\n",
       "    <tr>\n",
       "      <th>김씨</th>\n",
       "      <td>서울시</td>\n",
       "      <td>필동</td>\n",
       "    </tr>\n",
       "    <tr>\n",
       "      <th>박씨</th>\n",
       "      <td>부산시</td>\n",
       "      <td>서면</td>\n",
       "    </tr>\n",
       "    <tr>\n",
       "      <th>제갈씨</th>\n",
       "      <td>대전시</td>\n",
       "      <td>둔산동</td>\n",
       "    </tr>\n",
       "  </tbody>\n",
       "</table>\n",
       "</div>"
      ],
      "text/plain": [
       "     시군구 읍면리동\n",
       "김씨   서울시   필동\n",
       "박씨   부산시   서면\n",
       "제갈씨  대전시  둔산동"
      ]
     },
     "execution_count": 330,
     "metadata": {},
     "output_type": "execute_result"
    }
   ],
   "source": [
    "df1"
   ]
  },
  {
   "cell_type": "code",
   "execution_count": 210,
   "id": "9a8520d8",
   "metadata": {},
   "outputs": [
    {
     "data": {
      "text/plain": [
       "김씨      필동\n",
       "박씨      서면\n",
       "제갈씨    둔산동\n",
       "Name: 읍면리동, dtype: object"
      ]
     },
     "execution_count": 210,
     "metadata": {},
     "output_type": "execute_result"
    }
   ],
   "source": [
    "df1[\"읍면리동\"] #컬럼만 추출"
   ]
  },
  {
   "cell_type": "code",
   "execution_count": 211,
   "id": "58cd5d80",
   "metadata": {},
   "outputs": [
    {
     "data": {
      "text/plain": [
       "'서면'"
      ]
     },
     "execution_count": 211,
     "metadata": {},
     "output_type": "execute_result"
    }
   ],
   "source": [
    "df1[\"읍면리동\"][\"박씨\"] #컬럼에서 특정 인덱스 출력 방법!! 컬럼추출->인덱스추출"
   ]
  },
  {
   "cell_type": "code",
   "execution_count": 215,
   "id": "6acaee80",
   "metadata": {},
   "outputs": [
    {
     "data": {
      "text/plain": [
       "'서면'"
      ]
     },
     "execution_count": 215,
     "metadata": {},
     "output_type": "execute_result"
    }
   ],
   "source": [
    "df1.loc[\"박씨\"][\"읍면리동\"] #인덱스추출->컬럼추출 결과는 같다. 가로로 먼저 찾던, 세로로 먼저 찾던 상관 없네!"
   ]
  },
  {
   "cell_type": "code",
   "execution_count": 217,
   "id": "b2a8c881",
   "metadata": {},
   "outputs": [
    {
     "data": {
      "text/html": [
       "<div>\n",
       "<style scoped>\n",
       "    .dataframe tbody tr th:only-of-type {\n",
       "        vertical-align: middle;\n",
       "    }\n",
       "\n",
       "    .dataframe tbody tr th {\n",
       "        vertical-align: top;\n",
       "    }\n",
       "\n",
       "    .dataframe thead th {\n",
       "        text-align: right;\n",
       "    }\n",
       "</style>\n",
       "<table border=\"1\" class=\"dataframe\">\n",
       "  <thead>\n",
       "    <tr style=\"text-align: right;\">\n",
       "      <th></th>\n",
       "      <th>김씨</th>\n",
       "      <th>박씨</th>\n",
       "      <th>제갈씨</th>\n",
       "    </tr>\n",
       "  </thead>\n",
       "  <tbody>\n",
       "    <tr>\n",
       "      <th>시군구</th>\n",
       "      <td>서울시</td>\n",
       "      <td>부산시</td>\n",
       "      <td>대전시</td>\n",
       "    </tr>\n",
       "    <tr>\n",
       "      <th>읍면리동</th>\n",
       "      <td>필동</td>\n",
       "      <td>서면</td>\n",
       "      <td>둔산동</td>\n",
       "    </tr>\n",
       "  </tbody>\n",
       "</table>\n",
       "</div>"
      ],
      "text/plain": [
       "       김씨   박씨  제갈씨\n",
       "시군구   서울시  부산시  대전시\n",
       "읍면리동   필동   서면  둔산동"
      ]
     },
     "execution_count": 217,
     "metadata": {},
     "output_type": "execute_result"
    }
   ],
   "source": [
    "df1.T#265 행과 열 바꾸기. 넘파이처럼 트랜스포어 가능."
   ]
  },
  {
   "cell_type": "code",
   "execution_count": 218,
   "id": "b8db29a3",
   "metadata": {},
   "outputs": [
    {
     "data": {
      "text/html": [
       "<div>\n",
       "<style scoped>\n",
       "    .dataframe tbody tr th:only-of-type {\n",
       "        vertical-align: middle;\n",
       "    }\n",
       "\n",
       "    .dataframe tbody tr th {\n",
       "        vertical-align: top;\n",
       "    }\n",
       "\n",
       "    .dataframe thead th {\n",
       "        text-align: right;\n",
       "    }\n",
       "</style>\n",
       "<table border=\"1\" class=\"dataframe\">\n",
       "  <thead>\n",
       "    <tr style=\"text-align: right;\">\n",
       "      <th></th>\n",
       "      <th>시군구</th>\n",
       "      <th>읍면리동</th>\n",
       "    </tr>\n",
       "  </thead>\n",
       "  <tbody>\n",
       "    <tr>\n",
       "      <th>김씨2</th>\n",
       "      <td>서울시2</td>\n",
       "      <td>필동2</td>\n",
       "    </tr>\n",
       "    <tr>\n",
       "      <th>박씨2</th>\n",
       "      <td>부산시2</td>\n",
       "      <td>서면2</td>\n",
       "    </tr>\n",
       "    <tr>\n",
       "      <th>제갈씨2</th>\n",
       "      <td>대전시2</td>\n",
       "      <td>둔산동2</td>\n",
       "    </tr>\n",
       "  </tbody>\n",
       "</table>\n",
       "</div>"
      ],
      "text/plain": [
       "       시군구  읍면리동\n",
       "김씨2   서울시2   필동2\n",
       "박씨2   부산시2   서면2\n",
       "제갈씨2  대전시2  둔산동2"
      ]
     },
     "execution_count": 218,
     "metadata": {},
     "output_type": "execute_result"
    }
   ],
   "source": [
    "df2=pd.DataFrame([[\"서울시2\",\"필동2\"],\n",
    "                  [\"부산시2\",\"서면2\"],\n",
    "                  [\"대전시2\",\"둔산동2\"]],\n",
    "                 columns=[\"시군구\",\"읍면리동\"],\n",
    "                 index=[\"김씨2\",\"박씨2\",\"제갈씨2\"])\n",
    "df2#df1에서 컬럼 빼고 인덱스, 내용 다 바꿈."
   ]
  },
  {
   "cell_type": "code",
   "execution_count": 219,
   "id": "379344c8",
   "metadata": {},
   "outputs": [
    {
     "data": {
      "text/html": [
       "<div>\n",
       "<style scoped>\n",
       "    .dataframe tbody tr th:only-of-type {\n",
       "        vertical-align: middle;\n",
       "    }\n",
       "\n",
       "    .dataframe tbody tr th {\n",
       "        vertical-align: top;\n",
       "    }\n",
       "\n",
       "    .dataframe thead th {\n",
       "        text-align: right;\n",
       "    }\n",
       "</style>\n",
       "<table border=\"1\" class=\"dataframe\">\n",
       "  <thead>\n",
       "    <tr style=\"text-align: right;\">\n",
       "      <th></th>\n",
       "      <th>품목</th>\n",
       "      <th>매출</th>\n",
       "    </tr>\n",
       "  </thead>\n",
       "  <tbody>\n",
       "    <tr>\n",
       "      <th>0</th>\n",
       "      <td>메로나</td>\n",
       "      <td>1000</td>\n",
       "    </tr>\n",
       "    <tr>\n",
       "      <th>1</th>\n",
       "      <td>큰사발</td>\n",
       "      <td>1300</td>\n",
       "    </tr>\n",
       "    <tr>\n",
       "      <th>2</th>\n",
       "      <td>햇반</td>\n",
       "      <td>2000</td>\n",
       "    </tr>\n",
       "  </tbody>\n",
       "</table>\n",
       "</div>"
      ],
      "text/plain": [
       "    품목    매출\n",
       "0  메로나  1000\n",
       "1  큰사발  1300\n",
       "2   햇반  2000"
      ]
     },
     "execution_count": 219,
     "metadata": {},
     "output_type": "execute_result"
    }
   ],
   "source": [
    "df월=pd.DataFrame([[\"메로나\",1000],\n",
    "                  [\"큰사발\",1300],\n",
    "                  [\"햇반\",2000]],\n",
    "                 columns=[\"품목\",\"매출\"])\n",
    "df월"
   ]
  },
  {
   "cell_type": "code",
   "execution_count": 221,
   "id": "f4faac64",
   "metadata": {},
   "outputs": [
    {
     "data": {
      "text/html": [
       "<div>\n",
       "<style scoped>\n",
       "    .dataframe tbody tr th:only-of-type {\n",
       "        vertical-align: middle;\n",
       "    }\n",
       "\n",
       "    .dataframe tbody tr th {\n",
       "        vertical-align: top;\n",
       "    }\n",
       "\n",
       "    .dataframe thead th {\n",
       "        text-align: right;\n",
       "    }\n",
       "</style>\n",
       "<table border=\"1\" class=\"dataframe\">\n",
       "  <thead>\n",
       "    <tr style=\"text-align: right;\">\n",
       "      <th></th>\n",
       "      <th>품목</th>\n",
       "      <th>매출</th>\n",
       "    </tr>\n",
       "  </thead>\n",
       "  <tbody>\n",
       "    <tr>\n",
       "      <th>0</th>\n",
       "      <td>돼지바</td>\n",
       "      <td>1000</td>\n",
       "    </tr>\n",
       "    <tr>\n",
       "      <th>1</th>\n",
       "      <td>핫바</td>\n",
       "      <td>2500</td>\n",
       "    </tr>\n",
       "    <tr>\n",
       "      <th>2</th>\n",
       "      <td>두부</td>\n",
       "      <td>1500</td>\n",
       "    </tr>\n",
       "  </tbody>\n",
       "</table>\n",
       "</div>"
      ],
      "text/plain": [
       "    품목    매출\n",
       "0  돼지바  1000\n",
       "1   핫바  2500\n",
       "2   두부  1500"
      ]
     },
     "execution_count": 221,
     "metadata": {},
     "output_type": "execute_result"
    }
   ],
   "source": [
    "df화=pd.DataFrame([[\"돼지바\",1000],\n",
    "                  [\"핫바\",2500],\n",
    "                  [\"두부\",1500]],\n",
    "                 columns=[\"품목\",\"매출\"])\n",
    "df화"
   ]
  },
  {
   "cell_type": "code",
   "execution_count": 223,
   "id": "0cbc076a",
   "metadata": {},
   "outputs": [
    {
     "data": {
      "text/html": [
       "<div>\n",
       "<style scoped>\n",
       "    .dataframe tbody tr th:only-of-type {\n",
       "        vertical-align: middle;\n",
       "    }\n",
       "\n",
       "    .dataframe tbody tr th {\n",
       "        vertical-align: top;\n",
       "    }\n",
       "\n",
       "    .dataframe thead th {\n",
       "        text-align: right;\n",
       "    }\n",
       "</style>\n",
       "<table border=\"1\" class=\"dataframe\">\n",
       "  <thead>\n",
       "    <tr style=\"text-align: right;\">\n",
       "      <th></th>\n",
       "      <th>품목</th>\n",
       "      <th>매출</th>\n",
       "    </tr>\n",
       "  </thead>\n",
       "  <tbody>\n",
       "    <tr>\n",
       "      <th>0</th>\n",
       "      <td>메로나</td>\n",
       "      <td>1000</td>\n",
       "    </tr>\n",
       "    <tr>\n",
       "      <th>1</th>\n",
       "      <td>큰사발</td>\n",
       "      <td>1300</td>\n",
       "    </tr>\n",
       "    <tr>\n",
       "      <th>2</th>\n",
       "      <td>햇반</td>\n",
       "      <td>2000</td>\n",
       "    </tr>\n",
       "    <tr>\n",
       "      <th>0</th>\n",
       "      <td>돼지바</td>\n",
       "      <td>1000</td>\n",
       "    </tr>\n",
       "    <tr>\n",
       "      <th>1</th>\n",
       "      <td>핫바</td>\n",
       "      <td>2500</td>\n",
       "    </tr>\n",
       "    <tr>\n",
       "      <th>2</th>\n",
       "      <td>두부</td>\n",
       "      <td>1500</td>\n",
       "    </tr>\n",
       "  </tbody>\n",
       "</table>\n",
       "</div>"
      ],
      "text/plain": [
       "    품목    매출\n",
       "0  메로나  1000\n",
       "1  큰사발  1300\n",
       "2   햇반  2000\n",
       "0  돼지바  1000\n",
       "1   핫바  2500\n",
       "2   두부  1500"
      ]
     },
     "execution_count": 223,
     "metadata": {},
     "output_type": "execute_result"
    }
   ],
   "source": [
    "#월요일, 화요일 합치고 싶다.\n",
    "df월화=df월.append(df화)\n",
    "df월화"
   ]
  },
  {
   "cell_type": "code",
   "execution_count": 224,
   "id": "94b324b1",
   "metadata": {},
   "outputs": [
    {
     "data": {
      "text/html": [
       "<div>\n",
       "<style scoped>\n",
       "    .dataframe tbody tr th:only-of-type {\n",
       "        vertical-align: middle;\n",
       "    }\n",
       "\n",
       "    .dataframe tbody tr th {\n",
       "        vertical-align: top;\n",
       "    }\n",
       "\n",
       "    .dataframe thead th {\n",
       "        text-align: right;\n",
       "    }\n",
       "</style>\n",
       "<table border=\"1\" class=\"dataframe\">\n",
       "  <thead>\n",
       "    <tr style=\"text-align: right;\">\n",
       "      <th></th>\n",
       "      <th>품목</th>\n",
       "      <th>매출</th>\n",
       "    </tr>\n",
       "  </thead>\n",
       "  <tbody>\n",
       "    <tr>\n",
       "      <th>0</th>\n",
       "      <td>메로나</td>\n",
       "      <td>1000</td>\n",
       "    </tr>\n",
       "    <tr>\n",
       "      <th>1</th>\n",
       "      <td>큰사발</td>\n",
       "      <td>1300</td>\n",
       "    </tr>\n",
       "    <tr>\n",
       "      <th>2</th>\n",
       "      <td>햇반</td>\n",
       "      <td>2000</td>\n",
       "    </tr>\n",
       "    <tr>\n",
       "      <th>3</th>\n",
       "      <td>돼지바</td>\n",
       "      <td>1000</td>\n",
       "    </tr>\n",
       "    <tr>\n",
       "      <th>4</th>\n",
       "      <td>핫바</td>\n",
       "      <td>2500</td>\n",
       "    </tr>\n",
       "    <tr>\n",
       "      <th>5</th>\n",
       "      <td>두부</td>\n",
       "      <td>1500</td>\n",
       "    </tr>\n",
       "  </tbody>\n",
       "</table>\n",
       "</div>"
      ],
      "text/plain": [
       "    품목    매출\n",
       "0  메로나  1000\n",
       "1  큰사발  1300\n",
       "2   햇반  2000\n",
       "3  돼지바  1000\n",
       "4   핫바  2500\n",
       "5   두부  1500"
      ]
     },
     "execution_count": 224,
     "metadata": {},
     "output_type": "execute_result"
    }
   ],
   "source": [
    "#인덱스 순서대로 하고싶다. 기존 거 무시해주자!\n",
    "df월화2=df월.append(df화,ignore_index=True)\n",
    "df월화2"
   ]
  },
  {
   "cell_type": "code",
   "execution_count": 225,
   "id": "5378aee9",
   "metadata": {},
   "outputs": [
    {
     "data": {
      "text/plain": [
       "[    품목    매출\n",
       " 0  메로나  1000\n",
       " 1  큰사발  1300\n",
       " 2   햇반  2000,\n",
       "     품목    매출\n",
       " 0  돼지바  1000\n",
       " 1   핫바  2500\n",
       " 2   두부  1500]"
      ]
     },
     "execution_count": 225,
     "metadata": {},
     "output_type": "execute_result"
    }
   ],
   "source": [
    "주간매출= [df월,df화]\n",
    "주간매출"
   ]
  },
  {
   "cell_type": "code",
   "execution_count": 349,
   "id": "f8e44c63",
   "metadata": {},
   "outputs": [
    {
     "data": {
      "text/html": [
       "<div>\n",
       "<style scoped>\n",
       "    .dataframe tbody tr th:only-of-type {\n",
       "        vertical-align: middle;\n",
       "    }\n",
       "\n",
       "    .dataframe tbody tr th {\n",
       "        vertical-align: top;\n",
       "    }\n",
       "\n",
       "    .dataframe thead th {\n",
       "        text-align: right;\n",
       "    }\n",
       "</style>\n",
       "<table border=\"1\" class=\"dataframe\">\n",
       "  <thead>\n",
       "    <tr style=\"text-align: right;\">\n",
       "      <th></th>\n",
       "      <th>품목</th>\n",
       "      <th>매출</th>\n",
       "    </tr>\n",
       "  </thead>\n",
       "  <tbody>\n",
       "    <tr>\n",
       "      <th>0</th>\n",
       "      <td>돼지바</td>\n",
       "      <td>1000</td>\n",
       "    </tr>\n",
       "    <tr>\n",
       "      <th>1</th>\n",
       "      <td>핫바</td>\n",
       "      <td>2500</td>\n",
       "    </tr>\n",
       "    <tr>\n",
       "      <th>2</th>\n",
       "      <td>두부</td>\n",
       "      <td>1500</td>\n",
       "    </tr>\n",
       "  </tbody>\n",
       "</table>\n",
       "</div>"
      ],
      "text/plain": [
       "    품목    매출\n",
       "0  돼지바  1000\n",
       "1   핫바  2500\n",
       "2   두부  1500"
      ]
     },
     "execution_count": 349,
     "metadata": {},
     "output_type": "execute_result"
    }
   ],
   "source": [
    "주간매출[1]"
   ]
  },
  {
   "cell_type": "code",
   "execution_count": 350,
   "id": "efd9065a",
   "metadata": {},
   "outputs": [],
   "source": [
    "주간매출누적=[]\n",
    "주간매출누적.append(pd.DataFrame([[\"메로나\",1000],\n",
    "                  [\"큰사발\",1300],\n",
    "                  [\"햇반\",2000]],\n",
    "                 columns=[\"품목\",\"매출\"]))"
   ]
  },
  {
   "cell_type": "code",
   "execution_count": 351,
   "id": "74f2d287",
   "metadata": {},
   "outputs": [],
   "source": [
    "주간매출누적.append(pd.DataFrame([[\"돼지바\",1000],\n",
    "                  [\"핫바\",2500],\n",
    "                  [\"두부\",1500]],\n",
    "                 columns=[\"품목\",\"매출\"]))"
   ]
  },
  {
   "cell_type": "code",
   "execution_count": 352,
   "id": "2f813ca7",
   "metadata": {
    "scrolled": true
   },
   "outputs": [
    {
     "data": {
      "text/plain": [
       "[    품목    매출\n",
       " 0  메로나  1000\n",
       " 1  큰사발  1300\n",
       " 2   햇반  2000,\n",
       "     품목    매출\n",
       " 0  돼지바  1000\n",
       " 1   핫바  2500\n",
       " 2   두부  1500]"
      ]
     },
     "execution_count": 352,
     "metadata": {},
     "output_type": "execute_result"
    }
   ],
   "source": [
    "주간매출누적"
   ]
  },
  {
   "cell_type": "code",
   "execution_count": 242,
   "id": "7c5ebfd4",
   "metadata": {},
   "outputs": [],
   "source": [
    "df월화=df월.append(df화, ignore_index=True)"
   ]
  },
  {
   "cell_type": "code",
   "execution_count": 245,
   "id": "a00a4f75",
   "metadata": {},
   "outputs": [
    {
     "data": {
      "text/html": [
       "<div>\n",
       "<style scoped>\n",
       "    .dataframe tbody tr th:only-of-type {\n",
       "        vertical-align: middle;\n",
       "    }\n",
       "\n",
       "    .dataframe tbody tr th {\n",
       "        vertical-align: top;\n",
       "    }\n",
       "\n",
       "    .dataframe thead th {\n",
       "        text-align: right;\n",
       "    }\n",
       "</style>\n",
       "<table border=\"1\" class=\"dataframe\">\n",
       "  <thead>\n",
       "    <tr style=\"text-align: right;\">\n",
       "      <th></th>\n",
       "      <th>품목</th>\n",
       "      <th>매출</th>\n",
       "    </tr>\n",
       "  </thead>\n",
       "  <tbody>\n",
       "    <tr>\n",
       "      <th>0</th>\n",
       "      <td>메로나</td>\n",
       "      <td>1000</td>\n",
       "    </tr>\n",
       "    <tr>\n",
       "      <th>1</th>\n",
       "      <td>큰사발</td>\n",
       "      <td>1300</td>\n",
       "    </tr>\n",
       "    <tr>\n",
       "      <th>2</th>\n",
       "      <td>돼지바</td>\n",
       "      <td>1000</td>\n",
       "    </tr>\n",
       "    <tr>\n",
       "      <th>3</th>\n",
       "      <td>핫바</td>\n",
       "      <td>2500</td>\n",
       "    </tr>\n",
       "    <tr>\n",
       "      <th>4</th>\n",
       "      <td>메로나1</td>\n",
       "      <td>1000</td>\n",
       "    </tr>\n",
       "    <tr>\n",
       "      <th>5</th>\n",
       "      <td>큰사발1</td>\n",
       "      <td>1300</td>\n",
       "    </tr>\n",
       "    <tr>\n",
       "      <th>6</th>\n",
       "      <td>돼지바1</td>\n",
       "      <td>1000</td>\n",
       "    </tr>\n",
       "    <tr>\n",
       "      <th>7</th>\n",
       "      <td>핫바1</td>\n",
       "      <td>2500</td>\n",
       "    </tr>\n",
       "    <tr>\n",
       "      <th>8</th>\n",
       "      <td>돼지바2</td>\n",
       "      <td>1000</td>\n",
       "    </tr>\n",
       "    <tr>\n",
       "      <th>9</th>\n",
       "      <td>핫바2</td>\n",
       "      <td>2500</td>\n",
       "    </tr>\n",
       "  </tbody>\n",
       "</table>\n",
       "</div>"
      ],
      "text/plain": [
       "     품목    매출\n",
       "0   메로나  1000\n",
       "1   큰사발  1300\n",
       "2   돼지바  1000\n",
       "3    핫바  2500\n",
       "4  메로나1  1000\n",
       "5  큰사발1  1300\n",
       "6  돼지바1  1000\n",
       "7   핫바1  2500\n",
       "8  돼지바2  1000\n",
       "9   핫바2  2500"
      ]
     },
     "execution_count": 245,
     "metadata": {},
     "output_type": "execute_result"
    }
   ],
   "source": [
    "list_매출=[]\n",
    "\n",
    "df월=pd.DataFrame([[\"메로나\",1000],\n",
    "                  [\"큰사발\",1300]],\n",
    "                 columns=[\"품목\",\"매출\"])\n",
    "list_매출.append(df월)\n",
    "df화=pd.DataFrame([[\"돼지바\",1000],\n",
    "                  [\"핫바\",2500]],\n",
    "                 columns=[\"품목\",\"매출\"])\n",
    "list_매출.append(df화)\n",
    "df수=pd.DataFrame([[\"메로나1\",1000],\n",
    "                  [\"큰사발1\",1300]],\n",
    "                 columns=[\"품목\",\"매출\"])\n",
    "list_매출.append(df수)\n",
    "df목=pd.DataFrame([[\"돼지바1\",1000],\n",
    "                  [\"핫바1\",2500]],\n",
    "                 columns=[\"품목\",\"매출\"])\n",
    "list_매출.append(df목)\n",
    "df금=pd.DataFrame([[\"돼지바2\",1000],\n",
    "                  [\"핫바2\",2500]],\n",
    "                 columns=[\"품목\",\"매출\"])\n",
    "list_매출.append(df금)\n",
    "\n",
    "df월to금=pd.DataFrame(columns=[\"품목\",\"매출\"]) #비어있는 월to금 데이터프레임 만들기\n",
    "\n",
    "\n",
    "\n",
    "\n",
    "for i in list_매출:\n",
    "    df월to금 = df월to금.append(i, ignore_index = True)\n",
    "df월to금"
   ]
  },
  {
   "cell_type": "code",
   "execution_count": 243,
   "id": "73a463c4",
   "metadata": {},
   "outputs": [
    {
     "ename": "NameError",
     "evalue": "name 'df' is not defined",
     "output_type": "error",
     "traceback": [
      "\u001b[1;31m---------------------------------------------------------------------------\u001b[0m",
      "\u001b[1;31mNameError\u001b[0m                                 Traceback (most recent call last)",
      "\u001b[1;32m~\\AppData\\Local\\Temp/ipykernel_10096/2888467347.py\u001b[0m in \u001b[0;36m<module>\u001b[1;34m\u001b[0m\n\u001b[1;32m----> 1\u001b[1;33m \u001b[0mdf월to금\u001b[0m\u001b[1;33m=\u001b[0m\u001b[0mdf\u001b[0m\u001b[1;33m[\u001b[0m\u001b[1;36m0\u001b[0m\u001b[1;33m]\u001b[0m\u001b[1;33m.\u001b[0m\u001b[0mappend\u001b[0m\u001b[1;33m(\u001b[0m\u001b[0mdf\u001b[0m\u001b[1;33m[\u001b[0m\u001b[1;36m1\u001b[0m\u001b[1;33m]\u001b[0m\u001b[1;33m,\u001b[0m\u001b[0mignore_index\u001b[0m\u001b[1;33m=\u001b[0m\u001b[1;32mTrue\u001b[0m\u001b[1;33m)\u001b[0m\u001b[1;33m\u001b[0m\u001b[1;33m\u001b[0m\u001b[0m\n\u001b[0m\u001b[0;32m      2\u001b[0m \u001b[0mdf월to금\u001b[0m\u001b[1;33m=\u001b[0m\u001b[0mdf\u001b[0m\u001b[1;33m[\u001b[0m\u001b[1;36m0\u001b[0m\u001b[1;33m]\u001b[0m\u001b[1;33m.\u001b[0m\u001b[0mappend\u001b[0m\u001b[1;33m(\u001b[0m\u001b[0mdf\u001b[0m\u001b[1;33m[\u001b[0m\u001b[1;36m2\u001b[0m\u001b[1;33m]\u001b[0m\u001b[1;33m,\u001b[0m\u001b[0mignore_index\u001b[0m\u001b[1;33m=\u001b[0m\u001b[1;32mTrue\u001b[0m\u001b[1;33m)\u001b[0m\u001b[1;33m\u001b[0m\u001b[1;33m\u001b[0m\u001b[0m\n\u001b[0;32m      3\u001b[0m \u001b[0mdf월to금\u001b[0m\u001b[1;33m=\u001b[0m\u001b[0mdf\u001b[0m\u001b[1;33m[\u001b[0m\u001b[1;36m0\u001b[0m\u001b[1;33m]\u001b[0m\u001b[1;33m.\u001b[0m\u001b[0mappend\u001b[0m\u001b[1;33m(\u001b[0m\u001b[0mdf\u001b[0m\u001b[1;33m[\u001b[0m\u001b[1;36m3\u001b[0m\u001b[1;33m]\u001b[0m\u001b[1;33m,\u001b[0m\u001b[0mignore_index\u001b[0m\u001b[1;33m=\u001b[0m\u001b[1;32mTrue\u001b[0m\u001b[1;33m)\u001b[0m\u001b[1;33m\u001b[0m\u001b[1;33m\u001b[0m\u001b[0m\n\u001b[0;32m      4\u001b[0m \u001b[0mdf월to금\u001b[0m\u001b[1;33m=\u001b[0m\u001b[0mdf\u001b[0m\u001b[1;33m[\u001b[0m\u001b[1;36m0\u001b[0m\u001b[1;33m]\u001b[0m\u001b[1;33m.\u001b[0m\u001b[0mappend\u001b[0m\u001b[1;33m(\u001b[0m\u001b[0mdf\u001b[0m\u001b[1;33m[\u001b[0m\u001b[1;36m4\u001b[0m\u001b[1;33m]\u001b[0m\u001b[1;33m,\u001b[0m\u001b[0mignore_index\u001b[0m\u001b[1;33m=\u001b[0m\u001b[1;32mTrue\u001b[0m\u001b[1;33m)\u001b[0m\u001b[1;33m\u001b[0m\u001b[1;33m\u001b[0m\u001b[0m\n",
      "\u001b[1;31mNameError\u001b[0m: name 'df' is not defined"
     ]
    }
   ],
   "source": [
    "df월to금=df[0].append(df[1],ignore_index=True)\n",
    "df월to금=df[0].append(df[2],ignore_index=True)\n",
    "df월to금=df[0].append(df[3],ignore_index=True)\n",
    "df월to금=df[0].append(df[4],ignore_index=True)"
   ]
  },
  {
   "cell_type": "code",
   "execution_count": 244,
   "id": "13b46b8c",
   "metadata": {},
   "outputs": [
    {
     "data": {
      "text/html": [
       "<div>\n",
       "<style scoped>\n",
       "    .dataframe tbody tr th:only-of-type {\n",
       "        vertical-align: middle;\n",
       "    }\n",
       "\n",
       "    .dataframe tbody tr th {\n",
       "        vertical-align: top;\n",
       "    }\n",
       "\n",
       "    .dataframe thead th {\n",
       "        text-align: right;\n",
       "    }\n",
       "</style>\n",
       "<table border=\"1\" class=\"dataframe\">\n",
       "  <thead>\n",
       "    <tr style=\"text-align: right;\">\n",
       "      <th></th>\n",
       "      <th>품목</th>\n",
       "      <th>매출</th>\n",
       "    </tr>\n",
       "  </thead>\n",
       "  <tbody>\n",
       "    <tr>\n",
       "      <th>0</th>\n",
       "      <td>메로나</td>\n",
       "      <td>1000</td>\n",
       "    </tr>\n",
       "    <tr>\n",
       "      <th>1</th>\n",
       "      <td>큰사발</td>\n",
       "      <td>1300</td>\n",
       "    </tr>\n",
       "    <tr>\n",
       "      <th>2</th>\n",
       "      <td>돼지바</td>\n",
       "      <td>1000</td>\n",
       "    </tr>\n",
       "    <tr>\n",
       "      <th>3</th>\n",
       "      <td>두부</td>\n",
       "      <td>1500</td>\n",
       "    </tr>\n",
       "    <tr>\n",
       "      <th>4</th>\n",
       "      <td>메로나2</td>\n",
       "      <td>1000</td>\n",
       "    </tr>\n",
       "    <tr>\n",
       "      <th>5</th>\n",
       "      <td>큰사발2</td>\n",
       "      <td>1300</td>\n",
       "    </tr>\n",
       "    <tr>\n",
       "      <th>6</th>\n",
       "      <td>돼지바2</td>\n",
       "      <td>1000</td>\n",
       "    </tr>\n",
       "    <tr>\n",
       "      <th>7</th>\n",
       "      <td>두부2</td>\n",
       "      <td>1500</td>\n",
       "    </tr>\n",
       "    <tr>\n",
       "      <th>8</th>\n",
       "      <td>돼지바3</td>\n",
       "      <td>1000</td>\n",
       "    </tr>\n",
       "    <tr>\n",
       "      <th>9</th>\n",
       "      <td>두부3</td>\n",
       "      <td>1500</td>\n",
       "    </tr>\n",
       "  </tbody>\n",
       "</table>\n",
       "</div>"
      ],
      "text/plain": [
       "     품목    매출\n",
       "0   메로나  1000\n",
       "1   큰사발  1300\n",
       "2   돼지바  1000\n",
       "3    두부  1500\n",
       "4  메로나2  1000\n",
       "5  큰사발2  1300\n",
       "6  돼지바2  1000\n",
       "7   두부2  1500\n",
       "8  돼지바3  1000\n",
       "9   두부3  1500"
      ]
     },
     "execution_count": 244,
     "metadata": {},
     "output_type": "execute_result"
    }
   ],
   "source": [
    "list_매출 = []\n",
    "df월 = pd.DataFrame([[\"메로나\",1000],\n",
    "                    [\"큰사발\",1300]], \n",
    "                   columns = [\"품목\", \"매출\"])\n",
    "list_매출.append(df월)\n",
    "df화 = pd.DataFrame([[\"돼지바\",1000],\n",
    "                    [\"두부\",1500]], \n",
    "                   columns = [\"품목\", \"매출\"])\n",
    "list_매출.append(df화)\n",
    "df수 = pd.DataFrame([[\"메로나2\",1000],\n",
    "                    [\"큰사발2\",1300]], \n",
    "                   columns = [\"품목\", \"매출\"])\n",
    "list_매출.append(df수)\n",
    "df목 = pd.DataFrame([[\"돼지바2\",1000],\n",
    "                    [\"두부2\",1500]], \n",
    "                   columns = [\"품목\", \"매출\"])\n",
    "list_매출.append(df목)\n",
    "df금 = pd.DataFrame([[\"돼지바3\",1000],\n",
    "                    [\"두부3\",1500]], \n",
    "                   columns = [\"품목\", \"매출\"])\n",
    "list_매출.append(df금)\n",
    "\n",
    "df월to금 = pd.DataFrame(columns = [\"품목\", \"매출\"])\n",
    "\n",
    "for i in list_매출:\n",
    "    df월to금 = df월to금.append(i, ignore_index = True)\n",
    "df월to금\n"
   ]
  },
  {
   "cell_type": "code",
   "execution_count": 246,
   "id": "8a43b603",
   "metadata": {},
   "outputs": [],
   "source": [
    "# p269\n",
    "#join"
   ]
  },
  {
   "cell_type": "code",
   "execution_count": 247,
   "id": "d8df4e0f",
   "metadata": {},
   "outputs": [
    {
     "ename": "SyntaxError",
     "evalue": "invalid syntax (Temp/ipykernel_10096/4071881321.py, line 1)",
     "output_type": "error",
     "traceback": [
      "\u001b[1;36m  File \u001b[1;32m\"C:\\Users\\User\\AppData\\Local\\Temp/ipykernel_10096/4071881321.py\"\u001b[1;36m, line \u001b[1;32m1\u001b[0m\n\u001b[1;33m    concat함수 concanate\u001b[0m\n\u001b[1;37m             ^\u001b[0m\n\u001b[1;31mSyntaxError\u001b[0m\u001b[1;31m:\u001b[0m invalid syntax\n"
     ]
    }
   ],
   "source": []
  },
  {
   "cell_type": "code",
   "execution_count": 355,
   "id": "a591d609",
   "metadata": {},
   "outputs": [
    {
     "data": {
      "text/html": [
       "<div>\n",
       "<style scoped>\n",
       "    .dataframe tbody tr th:only-of-type {\n",
       "        vertical-align: middle;\n",
       "    }\n",
       "\n",
       "    .dataframe tbody tr th {\n",
       "        vertical-align: top;\n",
       "    }\n",
       "\n",
       "    .dataframe thead th {\n",
       "        text-align: right;\n",
       "    }\n",
       "</style>\n",
       "<table border=\"1\" class=\"dataframe\">\n",
       "  <thead>\n",
       "    <tr style=\"text-align: right;\">\n",
       "      <th></th>\n",
       "      <th>0</th>\n",
       "      <th>1</th>\n",
       "      <th>2</th>\n",
       "      <th>3</th>\n",
       "    </tr>\n",
       "  </thead>\n",
       "  <tbody>\n",
       "    <tr>\n",
       "      <th>0</th>\n",
       "      <td>메로나</td>\n",
       "      <td>1000</td>\n",
       "      <td>돼지바</td>\n",
       "      <td>1000</td>\n",
       "    </tr>\n",
       "    <tr>\n",
       "      <th>1</th>\n",
       "      <td>큰사발</td>\n",
       "      <td>1300</td>\n",
       "      <td>핫바</td>\n",
       "      <td>2500</td>\n",
       "    </tr>\n",
       "    <tr>\n",
       "      <th>2</th>\n",
       "      <td>햇반</td>\n",
       "      <td>2000</td>\n",
       "      <td>두부</td>\n",
       "      <td>1500</td>\n",
       "    </tr>\n",
       "  </tbody>\n",
       "</table>\n",
       "</div>"
      ],
      "text/plain": [
       "     0     1    2     3\n",
       "0  메로나  1000  돼지바  1000\n",
       "1  큰사발  1300   핫바  2500\n",
       "2   햇반  2000   두부  1500"
      ]
     },
     "execution_count": 355,
     "metadata": {},
     "output_type": "execute_result"
    }
   ],
   "source": [
    "#concat함수 concanate 필요로 하는 것을 리스트로 만들어서 합치는 함수\n",
    "\n",
    "df월=pd.DataFrame([[\"메로나\",1000],\n",
    "                  [\"큰사발\",1300],\n",
    "                  [\"햇반\",2000]],\n",
    "                 columns=[\"품목\",\"매출\"])\n",
    "df화=pd.DataFrame([[\"돼지바\",1000],\n",
    "                  [\"핫바\",2500],\n",
    "                  [\"두부\",1500]],\n",
    "                 columns=[\"품목\",\"매출\"])\n",
    "\n",
    "pd.concat([df월,df화],ignore_index=True,axis=1) #axis는 축방향=1이라는 뜻. 옆으로 붙는다.\n"
   ]
  },
  {
   "cell_type": "code",
   "execution_count": 251,
   "id": "87534a88",
   "metadata": {},
   "outputs": [
    {
     "data": {
      "text/html": [
       "<div>\n",
       "<style scoped>\n",
       "    .dataframe tbody tr th:only-of-type {\n",
       "        vertical-align: middle;\n",
       "    }\n",
       "\n",
       "    .dataframe tbody tr th {\n",
       "        vertical-align: top;\n",
       "    }\n",
       "\n",
       "    .dataframe thead th {\n",
       "        text-align: right;\n",
       "    }\n",
       "</style>\n",
       "<table border=\"1\" class=\"dataframe\">\n",
       "  <thead>\n",
       "    <tr style=\"text-align: right;\">\n",
       "      <th></th>\n",
       "      <th>품목</th>\n",
       "      <th>매출</th>\n",
       "    </tr>\n",
       "  </thead>\n",
       "  <tbody>\n",
       "    <tr>\n",
       "      <th>0</th>\n",
       "      <td>메로나</td>\n",
       "      <td>1000</td>\n",
       "    </tr>\n",
       "    <tr>\n",
       "      <th>1</th>\n",
       "      <td>큰사발</td>\n",
       "      <td>1300</td>\n",
       "    </tr>\n",
       "    <tr>\n",
       "      <th>2</th>\n",
       "      <td>햇반</td>\n",
       "      <td>2000</td>\n",
       "    </tr>\n",
       "    <tr>\n",
       "      <th>0</th>\n",
       "      <td>돼지바</td>\n",
       "      <td>1000</td>\n",
       "    </tr>\n",
       "    <tr>\n",
       "      <th>1</th>\n",
       "      <td>핫바</td>\n",
       "      <td>2500</td>\n",
       "    </tr>\n",
       "    <tr>\n",
       "      <th>2</th>\n",
       "      <td>두부</td>\n",
       "      <td>1500</td>\n",
       "    </tr>\n",
       "  </tbody>\n",
       "</table>\n",
       "</div>"
      ],
      "text/plain": [
       "    품목    매출\n",
       "0  메로나  1000\n",
       "1  큰사발  1300\n",
       "2   햇반  2000\n",
       "0  돼지바  1000\n",
       "1   핫바  2500\n",
       "2   두부  1500"
      ]
     },
     "execution_count": 251,
     "metadata": {},
     "output_type": "execute_result"
    }
   ],
   "source": [
    "pd.concat([df월,df화])"
   ]
  },
  {
   "cell_type": "code",
   "execution_count": 252,
   "id": "835037e3",
   "metadata": {},
   "outputs": [],
   "source": [
    "df화_1=pd.DataFrame([[\"돼지바\",1],\n",
    "                  [\"핫바\",2],\n",
    "                  [\"두부\",1]],\n",
    "                 columns=[\"품목\",\"개수\"])"
   ]
  },
  {
   "cell_type": "code",
   "execution_count": 253,
   "id": "86df8386",
   "metadata": {},
   "outputs": [
    {
     "data": {
      "text/html": [
       "<div>\n",
       "<style scoped>\n",
       "    .dataframe tbody tr th:only-of-type {\n",
       "        vertical-align: middle;\n",
       "    }\n",
       "\n",
       "    .dataframe tbody tr th {\n",
       "        vertical-align: top;\n",
       "    }\n",
       "\n",
       "    .dataframe thead th {\n",
       "        text-align: right;\n",
       "    }\n",
       "</style>\n",
       "<table border=\"1\" class=\"dataframe\">\n",
       "  <thead>\n",
       "    <tr style=\"text-align: right;\">\n",
       "      <th></th>\n",
       "      <th>품목</th>\n",
       "      <th>매출</th>\n",
       "      <th>개수</th>\n",
       "    </tr>\n",
       "  </thead>\n",
       "  <tbody>\n",
       "    <tr>\n",
       "      <th>0</th>\n",
       "      <td>메로나</td>\n",
       "      <td>1000.0</td>\n",
       "      <td>NaN</td>\n",
       "    </tr>\n",
       "    <tr>\n",
       "      <th>1</th>\n",
       "      <td>큰사발</td>\n",
       "      <td>1300.0</td>\n",
       "      <td>NaN</td>\n",
       "    </tr>\n",
       "    <tr>\n",
       "      <th>2</th>\n",
       "      <td>햇반</td>\n",
       "      <td>2000.0</td>\n",
       "      <td>NaN</td>\n",
       "    </tr>\n",
       "    <tr>\n",
       "      <th>3</th>\n",
       "      <td>돼지바</td>\n",
       "      <td>NaN</td>\n",
       "      <td>1.0</td>\n",
       "    </tr>\n",
       "    <tr>\n",
       "      <th>4</th>\n",
       "      <td>핫바</td>\n",
       "      <td>NaN</td>\n",
       "      <td>2.0</td>\n",
       "    </tr>\n",
       "    <tr>\n",
       "      <th>5</th>\n",
       "      <td>두부</td>\n",
       "      <td>NaN</td>\n",
       "      <td>1.0</td>\n",
       "    </tr>\n",
       "  </tbody>\n",
       "</table>\n",
       "</div>"
      ],
      "text/plain": [
       "    품목      매출   개수\n",
       "0  메로나  1000.0  NaN\n",
       "1  큰사발  1300.0  NaN\n",
       "2   햇반  2000.0  NaN\n",
       "3  돼지바     NaN  1.0\n",
       "4   핫바     NaN  2.0\n",
       "5   두부     NaN  1.0"
      ]
     },
     "execution_count": 253,
     "metadata": {},
     "output_type": "execute_result"
    }
   ],
   "source": [
    "pd.concat([df월,df화_1],ignore_index=True) #NaN이 나오는 이유= 그 항목에 맞는 값이 없으니까."
   ]
  },
  {
   "cell_type": "code",
   "execution_count": 254,
   "id": "ba15fb80",
   "metadata": {},
   "outputs": [
    {
     "data": {
      "text/html": [
       "<div>\n",
       "<style scoped>\n",
       "    .dataframe tbody tr th:only-of-type {\n",
       "        vertical-align: middle;\n",
       "    }\n",
       "\n",
       "    .dataframe tbody tr th {\n",
       "        vertical-align: top;\n",
       "    }\n",
       "\n",
       "    .dataframe thead th {\n",
       "        text-align: right;\n",
       "    }\n",
       "</style>\n",
       "<table border=\"1\" class=\"dataframe\">\n",
       "  <thead>\n",
       "    <tr style=\"text-align: right;\">\n",
       "      <th></th>\n",
       "      <th>판매월</th>\n",
       "      <th>제품A</th>\n",
       "      <th>제품B</th>\n",
       "    </tr>\n",
       "  </thead>\n",
       "  <tbody>\n",
       "    <tr>\n",
       "      <th>0</th>\n",
       "      <td>1월</td>\n",
       "      <td>100</td>\n",
       "      <td>90</td>\n",
       "    </tr>\n",
       "    <tr>\n",
       "      <th>1</th>\n",
       "      <td>2월</td>\n",
       "      <td>150</td>\n",
       "      <td>110</td>\n",
       "    </tr>\n",
       "    <tr>\n",
       "      <th>2</th>\n",
       "      <td>3월</td>\n",
       "      <td>200</td>\n",
       "      <td>140</td>\n",
       "    </tr>\n",
       "    <tr>\n",
       "      <th>3</th>\n",
       "      <td>4월</td>\n",
       "      <td>130</td>\n",
       "      <td>170</td>\n",
       "    </tr>\n",
       "  </tbody>\n",
       "</table>\n",
       "</div>"
      ],
      "text/plain": [
       "  판매월  제품A  제품B\n",
       "0  1월  100   90\n",
       "1  2월  150  110\n",
       "2  3월  200  140\n",
       "3  4월  130  170"
      ]
     },
     "execution_count": 254,
     "metadata": {},
     "output_type": "execute_result"
    }
   ],
   "source": [
    "#append concat 이어 붙이는 거였다면, \n",
    "#merge\n",
    "df_A_B= pd.DataFrame({\"판매월\":[\"1월\",\"2월\",\"3월\",\"4월\"],\n",
    "                     \"제품A\":[100,150,200,130],\n",
    "                     \"제품B\":[90,110,140,170]})\n",
    "df_A_B"
   ]
  },
  {
   "cell_type": "code",
   "execution_count": 255,
   "id": "ad2a3a06",
   "metadata": {},
   "outputs": [
    {
     "data": {
      "text/html": [
       "<div>\n",
       "<style scoped>\n",
       "    .dataframe tbody tr th:only-of-type {\n",
       "        vertical-align: middle;\n",
       "    }\n",
       "\n",
       "    .dataframe tbody tr th {\n",
       "        vertical-align: top;\n",
       "    }\n",
       "\n",
       "    .dataframe thead th {\n",
       "        text-align: right;\n",
       "    }\n",
       "</style>\n",
       "<table border=\"1\" class=\"dataframe\">\n",
       "  <thead>\n",
       "    <tr style=\"text-align: right;\">\n",
       "      <th></th>\n",
       "      <th>판매월</th>\n",
       "      <th>제품C</th>\n",
       "      <th>제품D</th>\n",
       "    </tr>\n",
       "  </thead>\n",
       "  <tbody>\n",
       "    <tr>\n",
       "      <th>0</th>\n",
       "      <td>1월</td>\n",
       "      <td>112</td>\n",
       "      <td>90</td>\n",
       "    </tr>\n",
       "    <tr>\n",
       "      <th>1</th>\n",
       "      <td>2월</td>\n",
       "      <td>141</td>\n",
       "      <td>110</td>\n",
       "    </tr>\n",
       "    <tr>\n",
       "      <th>2</th>\n",
       "      <td>3월</td>\n",
       "      <td>203</td>\n",
       "      <td>140</td>\n",
       "    </tr>\n",
       "    <tr>\n",
       "      <th>3</th>\n",
       "      <td>4월</td>\n",
       "      <td>134</td>\n",
       "      <td>170</td>\n",
       "    </tr>\n",
       "  </tbody>\n",
       "</table>\n",
       "</div>"
      ],
      "text/plain": [
       "  판매월  제품C  제품D\n",
       "0  1월  112   90\n",
       "1  2월  141  110\n",
       "2  3월  203  140\n",
       "3  4월  134  170"
      ]
     },
     "execution_count": 255,
     "metadata": {},
     "output_type": "execute_result"
    }
   ],
   "source": [
    "df_C_D= pd.DataFrame({\"판매월\":[\"1월\",\"2월\",\"3월\",\"4월\"],\n",
    "                     \"제품C\":[112,141,203,134],\n",
    "                     \"제품D\":[90,110,140,170]})\n",
    "df_C_D"
   ]
  },
  {
   "cell_type": "code",
   "execution_count": 257,
   "id": "5bba074f",
   "metadata": {},
   "outputs": [
    {
     "data": {
      "text/html": [
       "<div>\n",
       "<style scoped>\n",
       "    .dataframe tbody tr th:only-of-type {\n",
       "        vertical-align: middle;\n",
       "    }\n",
       "\n",
       "    .dataframe tbody tr th {\n",
       "        vertical-align: top;\n",
       "    }\n",
       "\n",
       "    .dataframe thead th {\n",
       "        text-align: right;\n",
       "    }\n",
       "</style>\n",
       "<table border=\"1\" class=\"dataframe\">\n",
       "  <thead>\n",
       "    <tr style=\"text-align: right;\">\n",
       "      <th></th>\n",
       "      <th>판매월</th>\n",
       "      <th>제품C</th>\n",
       "      <th>제품D</th>\n",
       "      <th>판매월</th>\n",
       "      <th>제품A</th>\n",
       "      <th>제품B</th>\n",
       "    </tr>\n",
       "  </thead>\n",
       "  <tbody>\n",
       "    <tr>\n",
       "      <th>0</th>\n",
       "      <td>1월</td>\n",
       "      <td>112</td>\n",
       "      <td>90</td>\n",
       "      <td>1월</td>\n",
       "      <td>100</td>\n",
       "      <td>90</td>\n",
       "    </tr>\n",
       "    <tr>\n",
       "      <th>1</th>\n",
       "      <td>2월</td>\n",
       "      <td>141</td>\n",
       "      <td>110</td>\n",
       "      <td>2월</td>\n",
       "      <td>150</td>\n",
       "      <td>110</td>\n",
       "    </tr>\n",
       "    <tr>\n",
       "      <th>2</th>\n",
       "      <td>3월</td>\n",
       "      <td>203</td>\n",
       "      <td>140</td>\n",
       "      <td>3월</td>\n",
       "      <td>200</td>\n",
       "      <td>140</td>\n",
       "    </tr>\n",
       "    <tr>\n",
       "      <th>3</th>\n",
       "      <td>4월</td>\n",
       "      <td>134</td>\n",
       "      <td>170</td>\n",
       "      <td>4월</td>\n",
       "      <td>130</td>\n",
       "      <td>170</td>\n",
       "    </tr>\n",
       "  </tbody>\n",
       "</table>\n",
       "</div>"
      ],
      "text/plain": [
       "  판매월  제품C  제품D 판매월  제품A  제품B\n",
       "0  1월  112   90  1월  100   90\n",
       "1  2월  141  110  2월  150  110\n",
       "2  3월  203  140  3월  200  140\n",
       "3  4월  134  170  4월  130  170"
      ]
     },
     "execution_count": 257,
     "metadata": {},
     "output_type": "execute_result"
    }
   ],
   "source": [
    "pd.concat([df_C_D,df_A_B],axis=1) \n",
    "#콘캣으로 뭉쳤더니 판매월 중복되는 점이 아쉽다. 어펜드와 콘캣은 기계적인 접합이라서."
   ]
  },
  {
   "cell_type": "code",
   "execution_count": 258,
   "id": "9a24494b",
   "metadata": {},
   "outputs": [
    {
     "data": {
      "text/html": [
       "<div>\n",
       "<style scoped>\n",
       "    .dataframe tbody tr th:only-of-type {\n",
       "        vertical-align: middle;\n",
       "    }\n",
       "\n",
       "    .dataframe tbody tr th {\n",
       "        vertical-align: top;\n",
       "    }\n",
       "\n",
       "    .dataframe thead th {\n",
       "        text-align: right;\n",
       "    }\n",
       "</style>\n",
       "<table border=\"1\" class=\"dataframe\">\n",
       "  <thead>\n",
       "    <tr style=\"text-align: right;\">\n",
       "      <th></th>\n",
       "      <th>판매월</th>\n",
       "      <th>제품A</th>\n",
       "      <th>제품B</th>\n",
       "      <th>제품C</th>\n",
       "      <th>제품D</th>\n",
       "    </tr>\n",
       "  </thead>\n",
       "  <tbody>\n",
       "    <tr>\n",
       "      <th>0</th>\n",
       "      <td>1월</td>\n",
       "      <td>100</td>\n",
       "      <td>90</td>\n",
       "      <td>112</td>\n",
       "      <td>90</td>\n",
       "    </tr>\n",
       "    <tr>\n",
       "      <th>1</th>\n",
       "      <td>2월</td>\n",
       "      <td>150</td>\n",
       "      <td>110</td>\n",
       "      <td>141</td>\n",
       "      <td>110</td>\n",
       "    </tr>\n",
       "    <tr>\n",
       "      <th>2</th>\n",
       "      <td>3월</td>\n",
       "      <td>200</td>\n",
       "      <td>140</td>\n",
       "      <td>203</td>\n",
       "      <td>140</td>\n",
       "    </tr>\n",
       "    <tr>\n",
       "      <th>3</th>\n",
       "      <td>4월</td>\n",
       "      <td>130</td>\n",
       "      <td>170</td>\n",
       "      <td>134</td>\n",
       "      <td>170</td>\n",
       "    </tr>\n",
       "  </tbody>\n",
       "</table>\n",
       "</div>"
      ],
      "text/plain": [
       "  판매월  제품A  제품B  제품C  제품D\n",
       "0  1월  100   90  112   90\n",
       "1  2월  150  110  141  110\n",
       "2  3월  200  140  203  140\n",
       "3  4월  130  170  134  170"
      ]
     },
     "execution_count": 258,
     "metadata": {},
     "output_type": "execute_result"
    }
   ],
   "source": [
    "df_A_B.merge(df_C_D)#합병의 개념인 merge. "
   ]
  },
  {
   "cell_type": "code",
   "execution_count": 259,
   "id": "708147a6",
   "metadata": {},
   "outputs": [
    {
     "data": {
      "text/html": [
       "<div>\n",
       "<style scoped>\n",
       "    .dataframe tbody tr th:only-of-type {\n",
       "        vertical-align: middle;\n",
       "    }\n",
       "\n",
       "    .dataframe tbody tr th {\n",
       "        vertical-align: top;\n",
       "    }\n",
       "\n",
       "    .dataframe thead th {\n",
       "        text-align: right;\n",
       "    }\n",
       "</style>\n",
       "<table border=\"1\" class=\"dataframe\">\n",
       "  <thead>\n",
       "    <tr style=\"text-align: right;\">\n",
       "      <th></th>\n",
       "      <th>key</th>\n",
       "      <th>left</th>\n",
       "    </tr>\n",
       "  </thead>\n",
       "  <tbody>\n",
       "    <tr>\n",
       "      <th>0</th>\n",
       "      <td>A</td>\n",
       "      <td>1</td>\n",
       "    </tr>\n",
       "    <tr>\n",
       "      <th>1</th>\n",
       "      <td>B</td>\n",
       "      <td>2</td>\n",
       "    </tr>\n",
       "    <tr>\n",
       "      <th>2</th>\n",
       "      <td>C</td>\n",
       "      <td>3</td>\n",
       "    </tr>\n",
       "  </tbody>\n",
       "</table>\n",
       "</div>"
      ],
      "text/plain": [
       "  key  left\n",
       "0   A     1\n",
       "1   B     2\n",
       "2   C     3"
      ]
     },
     "execution_count": 259,
     "metadata": {},
     "output_type": "execute_result"
    }
   ],
   "source": [
    "df_left=pd.DataFrame({\"key\":[\"A\",\"B\",\"C\"],\"left\":[1,2,3]})\n",
    "df_left"
   ]
  },
  {
   "cell_type": "code",
   "execution_count": 260,
   "id": "27f75aa0",
   "metadata": {},
   "outputs": [
    {
     "data": {
      "text/html": [
       "<div>\n",
       "<style scoped>\n",
       "    .dataframe tbody tr th:only-of-type {\n",
       "        vertical-align: middle;\n",
       "    }\n",
       "\n",
       "    .dataframe tbody tr th {\n",
       "        vertical-align: top;\n",
       "    }\n",
       "\n",
       "    .dataframe thead th {\n",
       "        text-align: right;\n",
       "    }\n",
       "</style>\n",
       "<table border=\"1\" class=\"dataframe\">\n",
       "  <thead>\n",
       "    <tr style=\"text-align: right;\">\n",
       "      <th></th>\n",
       "      <th>key</th>\n",
       "      <th>right</th>\n",
       "    </tr>\n",
       "  </thead>\n",
       "  <tbody>\n",
       "    <tr>\n",
       "      <th>0</th>\n",
       "      <td>A</td>\n",
       "      <td>4</td>\n",
       "    </tr>\n",
       "    <tr>\n",
       "      <th>1</th>\n",
       "      <td>B</td>\n",
       "      <td>5</td>\n",
       "    </tr>\n",
       "    <tr>\n",
       "      <th>2</th>\n",
       "      <td>D</td>\n",
       "      <td>6</td>\n",
       "    </tr>\n",
       "  </tbody>\n",
       "</table>\n",
       "</div>"
      ],
      "text/plain": [
       "  key  right\n",
       "0   A      4\n",
       "1   B      5\n",
       "2   D      6"
      ]
     },
     "execution_count": 260,
     "metadata": {},
     "output_type": "execute_result"
    }
   ],
   "source": [
    "df_right=pd.DataFrame({\"key\":[\"A\",\"B\",\"D\"],\"right\":[4,5,6]})\n",
    "df_right"
   ]
  },
  {
   "cell_type": "code",
   "execution_count": 261,
   "id": "05be8463",
   "metadata": {},
   "outputs": [
    {
     "data": {
      "text/html": [
       "<div>\n",
       "<style scoped>\n",
       "    .dataframe tbody tr th:only-of-type {\n",
       "        vertical-align: middle;\n",
       "    }\n",
       "\n",
       "    .dataframe tbody tr th {\n",
       "        vertical-align: top;\n",
       "    }\n",
       "\n",
       "    .dataframe thead th {\n",
       "        text-align: right;\n",
       "    }\n",
       "</style>\n",
       "<table border=\"1\" class=\"dataframe\">\n",
       "  <thead>\n",
       "    <tr style=\"text-align: right;\">\n",
       "      <th></th>\n",
       "      <th>key</th>\n",
       "      <th>left</th>\n",
       "      <th>right</th>\n",
       "    </tr>\n",
       "  </thead>\n",
       "  <tbody>\n",
       "    <tr>\n",
       "      <th>0</th>\n",
       "      <td>A</td>\n",
       "      <td>1</td>\n",
       "      <td>4</td>\n",
       "    </tr>\n",
       "    <tr>\n",
       "      <th>1</th>\n",
       "      <td>B</td>\n",
       "      <td>2</td>\n",
       "      <td>5</td>\n",
       "    </tr>\n",
       "  </tbody>\n",
       "</table>\n",
       "</div>"
      ],
      "text/plain": [
       "  key  left  right\n",
       "0   A     1      4\n",
       "1   B     2      5"
      ]
     },
     "execution_count": 261,
     "metadata": {},
     "output_type": "execute_result"
    }
   ],
   "source": [
    "df_left.merge(df_right) #어! 머지는 겹치는 것만 출력해주네!! 난 C랑 D가 날아가길 원하지 않아!"
   ]
  },
  {
   "cell_type": "code",
   "execution_count": 262,
   "id": "af636389",
   "metadata": {},
   "outputs": [
    {
     "data": {
      "text/html": [
       "<div>\n",
       "<style scoped>\n",
       "    .dataframe tbody tr th:only-of-type {\n",
       "        vertical-align: middle;\n",
       "    }\n",
       "\n",
       "    .dataframe tbody tr th {\n",
       "        vertical-align: top;\n",
       "    }\n",
       "\n",
       "    .dataframe thead th {\n",
       "        text-align: right;\n",
       "    }\n",
       "</style>\n",
       "<table border=\"1\" class=\"dataframe\">\n",
       "  <thead>\n",
       "    <tr style=\"text-align: right;\">\n",
       "      <th></th>\n",
       "      <th>key</th>\n",
       "      <th>left</th>\n",
       "      <th>right</th>\n",
       "    </tr>\n",
       "  </thead>\n",
       "  <tbody>\n",
       "    <tr>\n",
       "      <th>0</th>\n",
       "      <td>A</td>\n",
       "      <td>1</td>\n",
       "      <td>4.0</td>\n",
       "    </tr>\n",
       "    <tr>\n",
       "      <th>1</th>\n",
       "      <td>B</td>\n",
       "      <td>2</td>\n",
       "      <td>5.0</td>\n",
       "    </tr>\n",
       "    <tr>\n",
       "      <th>2</th>\n",
       "      <td>C</td>\n",
       "      <td>3</td>\n",
       "      <td>NaN</td>\n",
       "    </tr>\n",
       "  </tbody>\n",
       "</table>\n",
       "</div>"
      ],
      "text/plain": [
       "  key  left  right\n",
       "0   A     1    4.0\n",
       "1   B     2    5.0\n",
       "2   C     3    NaN"
      ]
     },
     "execution_count": 262,
     "metadata": {},
     "output_type": "execute_result"
    }
   ],
   "source": [
    "df_left.merge(df_right, how=\"left\",on=\"key\") #how;레프트 표에 있는 on;key를 기준으로 출력해주세요."
   ]
  },
  {
   "cell_type": "code",
   "execution_count": 264,
   "id": "e7ab80ed",
   "metadata": {},
   "outputs": [
    {
     "data": {
      "text/html": [
       "<div>\n",
       "<style scoped>\n",
       "    .dataframe tbody tr th:only-of-type {\n",
       "        vertical-align: middle;\n",
       "    }\n",
       "\n",
       "    .dataframe tbody tr th {\n",
       "        vertical-align: top;\n",
       "    }\n",
       "\n",
       "    .dataframe thead th {\n",
       "        text-align: right;\n",
       "    }\n",
       "</style>\n",
       "<table border=\"1\" class=\"dataframe\">\n",
       "  <thead>\n",
       "    <tr style=\"text-align: right;\">\n",
       "      <th></th>\n",
       "      <th>key</th>\n",
       "      <th>left</th>\n",
       "      <th>right</th>\n",
       "    </tr>\n",
       "  </thead>\n",
       "  <tbody>\n",
       "    <tr>\n",
       "      <th>0</th>\n",
       "      <td>A</td>\n",
       "      <td>1.0</td>\n",
       "      <td>4</td>\n",
       "    </tr>\n",
       "    <tr>\n",
       "      <th>1</th>\n",
       "      <td>B</td>\n",
       "      <td>2.0</td>\n",
       "      <td>5</td>\n",
       "    </tr>\n",
       "    <tr>\n",
       "      <th>2</th>\n",
       "      <td>D</td>\n",
       "      <td>NaN</td>\n",
       "      <td>6</td>\n",
       "    </tr>\n",
       "  </tbody>\n",
       "</table>\n",
       "</div>"
      ],
      "text/plain": [
       "  key  left  right\n",
       "0   A   1.0      4\n",
       "1   B   2.0      5\n",
       "2   D   NaN      6"
      ]
     },
     "execution_count": 264,
     "metadata": {},
     "output_type": "execute_result"
    }
   ],
   "source": [
    "df_left.merge(df_right, how=\"right\",on=\"key\")#how;라이트 표에 있는 on;key를 기준으로 출력해주세요."
   ]
  },
  {
   "cell_type": "code",
   "execution_count": 265,
   "id": "2506157a",
   "metadata": {},
   "outputs": [
    {
     "data": {
      "text/html": [
       "<div>\n",
       "<style scoped>\n",
       "    .dataframe tbody tr th:only-of-type {\n",
       "        vertical-align: middle;\n",
       "    }\n",
       "\n",
       "    .dataframe tbody tr th {\n",
       "        vertical-align: top;\n",
       "    }\n",
       "\n",
       "    .dataframe thead th {\n",
       "        text-align: right;\n",
       "    }\n",
       "</style>\n",
       "<table border=\"1\" class=\"dataframe\">\n",
       "  <thead>\n",
       "    <tr style=\"text-align: right;\">\n",
       "      <th></th>\n",
       "      <th>key</th>\n",
       "      <th>left</th>\n",
       "      <th>right</th>\n",
       "    </tr>\n",
       "  </thead>\n",
       "  <tbody>\n",
       "    <tr>\n",
       "      <th>0</th>\n",
       "      <td>A</td>\n",
       "      <td>1.0</td>\n",
       "      <td>4.0</td>\n",
       "    </tr>\n",
       "    <tr>\n",
       "      <th>1</th>\n",
       "      <td>B</td>\n",
       "      <td>2.0</td>\n",
       "      <td>5.0</td>\n",
       "    </tr>\n",
       "    <tr>\n",
       "      <th>2</th>\n",
       "      <td>C</td>\n",
       "      <td>3.0</td>\n",
       "      <td>NaN</td>\n",
       "    </tr>\n",
       "    <tr>\n",
       "      <th>3</th>\n",
       "      <td>D</td>\n",
       "      <td>NaN</td>\n",
       "      <td>6.0</td>\n",
       "    </tr>\n",
       "  </tbody>\n",
       "</table>\n",
       "</div>"
      ],
      "text/plain": [
       "  key  left  right\n",
       "0   A   1.0    4.0\n",
       "1   B   2.0    5.0\n",
       "2   C   3.0    NaN\n",
       "3   D   NaN    6.0"
      ]
     },
     "execution_count": 265,
     "metadata": {},
     "output_type": "execute_result"
    }
   ],
   "source": [
    "df_left.merge(df_right, how=\"outer\",on=\"key\")#outer 모든 것을 다 포함하며 써라."
   ]
  },
  {
   "cell_type": "code",
   "execution_count": 266,
   "id": "61fd2fa1",
   "metadata": {},
   "outputs": [
    {
     "data": {
      "text/html": [
       "<div>\n",
       "<style scoped>\n",
       "    .dataframe tbody tr th:only-of-type {\n",
       "        vertical-align: middle;\n",
       "    }\n",
       "\n",
       "    .dataframe tbody tr th {\n",
       "        vertical-align: top;\n",
       "    }\n",
       "\n",
       "    .dataframe thead th {\n",
       "        text-align: right;\n",
       "    }\n",
       "</style>\n",
       "<table border=\"1\" class=\"dataframe\">\n",
       "  <thead>\n",
       "    <tr style=\"text-align: right;\">\n",
       "      <th></th>\n",
       "      <th>key</th>\n",
       "      <th>left</th>\n",
       "      <th>right</th>\n",
       "    </tr>\n",
       "  </thead>\n",
       "  <tbody>\n",
       "    <tr>\n",
       "      <th>0</th>\n",
       "      <td>A</td>\n",
       "      <td>1</td>\n",
       "      <td>4</td>\n",
       "    </tr>\n",
       "    <tr>\n",
       "      <th>1</th>\n",
       "      <td>B</td>\n",
       "      <td>2</td>\n",
       "      <td>5</td>\n",
       "    </tr>\n",
       "  </tbody>\n",
       "</table>\n",
       "</div>"
      ],
      "text/plain": [
       "  key  left  right\n",
       "0   A     1      4\n",
       "1   B     2      5"
      ]
     },
     "execution_count": 266,
     "metadata": {},
     "output_type": "execute_result"
    }
   ],
   "source": [
    "df_left.merge(df_right, how=\"inner\",on=\"key\")# 머지의 기본값은 이너다! 안쪽 겹치는 것만 쓰라는 말"
   ]
  },
  {
   "cell_type": "code",
   "execution_count": null,
   "id": "19444ddf",
   "metadata": {},
   "outputs": [],
   "source": []
  }
 ],
 "metadata": {
  "kernelspec": {
   "display_name": "Python 3 (ipykernel)",
   "language": "python",
   "name": "python3"
  },
  "language_info": {
   "codemirror_mode": {
    "name": "ipython",
    "version": 3
   },
   "file_extension": ".py",
   "mimetype": "text/x-python",
   "name": "python",
   "nbconvert_exporter": "python",
   "pygments_lexer": "ipython3",
   "version": "3.9.7"
  }
 },
 "nbformat": 4,
 "nbformat_minor": 5
}
