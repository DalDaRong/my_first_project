{
 "cells": [
  {
   "cell_type": "markdown",
   "id": "0972c1e6",
   "metadata": {},
   "source": [
    "# 함수"
   ]
  },
  {
   "cell_type": "code",
   "execution_count": 2,
   "id": "59505dd8",
   "metadata": {},
   "outputs": [],
   "source": [
    "#p17"
   ]
  },
  {
   "cell_type": "code",
   "execution_count": 9,
   "id": "f3921ad9",
   "metadata": {},
   "outputs": [
    {
     "name": "stdout",
     "output_type": "stream",
     "text": [
      "4\n"
     ]
    }
   ],
   "source": [
    "#func:X->Y X입력하면 Y값. 예를 들면 입력이 하나 증가.\n",
    "#나만의 함수 만들기\n",
    "#in out 다 있는 경우\n",
    "def func(X):\n",
    "    Y=X+1\n",
    "    return(Y)\n",
    "a=1\n",
    "b=func(a)\n",
    "b=func(b)\n",
    "b=func(b)\n",
    "print(b)"
   ]
  },
  {
   "cell_type": "code",
   "execution_count": 8,
   "id": "68bd4594",
   "metadata": {},
   "outputs": [
    {
     "name": "stdout",
     "output_type": "stream",
     "text": [
      "1\n",
      "None\n"
     ]
    }
   ],
   "source": [
    "#p120 func:?->? 입력 출력 다 없는 경우\n",
    "def func_no_inout(a):\n",
    "    a=1\n",
    "    print(a)\n",
    "    #return 없음\n",
    "\n",
    "r=func_no_inout(1)\n",
    "print(r)\n",
    "#프로그램 내부에서 일이 안일어났다, 그냥 뱉어 냈을 뿐...출력없음"
   ]
  },
  {
   "cell_type": "code",
   "execution_count": 10,
   "id": "3d7cba6a",
   "metadata": {},
   "outputs": [
    {
     "name": "stdout",
     "output_type": "stream",
     "text": [
      "1\n"
     ]
    }
   ],
   "source": [
    "def func_no_in():\n",
    "    a=1\n",
    "    return a\n",
    "\n",
    "r=func_no_in()\n",
    "print(r)"
   ]
  },
  {
   "cell_type": "code",
   "execution_count": 62,
   "id": "9a08da4b",
   "metadata": {},
   "outputs": [
    {
     "name": "stdout",
     "output_type": "stream",
     "text": [
      "소속 없는 곳: 5\n"
     ]
    }
   ],
   "source": [
    "#p122\n",
    "#전역 변수vs 지역 변수\n",
    "a=5 #전역(global)변수: 어떤 함수에 속해있지 않음\n",
    "\n",
    "def func1():\n",
    "    a=1 #지역(local) 변수: func1에 속해있음\n",
    "    print(\"func1:\",a,end=\"/\")\n",
    "    \n",
    "def func2():\n",
    "    a=2 \n",
    "    print(\"func2:\",a,end=\"/\")\n",
    "    \n",
    "def func3():\n",
    "\n",
    "    print(\"func3:\",a,end=\"/\")\n",
    "    \n",
    "def func4():\n",
    "    global a #앞으로의 a는 전역변수가 아님\n",
    "    a=4\n",
    "    print(\"func4:\",a,end=\"\")\n",
    "\n",
    "#func4() 여기 들어가면 a 글로벌화 되어 값이 4가 아닌 5가 된다.\n",
    "print(\"소속 없는 곳:\",a)\n",
    "    \n"
   ]
  },
  {
   "cell_type": "code",
   "execution_count": 63,
   "id": "8fabe369",
   "metadata": {},
   "outputs": [
    {
     "name": "stdout",
     "output_type": "stream",
     "text": [
      "func1: 1/func2: 2/func3: 5/func4: 4"
     ]
    },
    {
     "data": {
      "text/plain": [
       "(None, None, None, None)"
      ]
     },
     "execution_count": 63,
     "metadata": {},
     "output_type": "execute_result"
    }
   ],
   "source": [
    "func1(),func2(),func3(),func4()"
   ]
  },
  {
   "cell_type": "code",
   "execution_count": 64,
   "id": "81f7bf4a",
   "metadata": {},
   "outputs": [
    {
     "name": "stdout",
     "output_type": "stream",
     "text": [
      "func3: 4/"
     ]
    }
   ],
   "source": [
    "func3()#밖에서 가져다 쓴다. a가 안정해져있으니 전역변수를 가져다 쓰는 것."
   ]
  },
  {
   "cell_type": "code",
   "execution_count": 65,
   "id": "d753d4e5",
   "metadata": {},
   "outputs": [
    {
     "name": "stdout",
     "output_type": "stream",
     "text": [
      "func4: 4"
     ]
    }
   ],
   "source": [
    "func4()"
   ]
  },
  {
   "cell_type": "code",
   "execution_count": 71,
   "id": "382e830c",
   "metadata": {},
   "outputs": [
    {
     "data": {
      "text/plain": [
       "9"
      ]
     },
     "execution_count": 71,
     "metadata": {},
     "output_type": "execute_result"
    }
   ],
   "source": [
    "#p124 람다 lambda\n",
    "#func6(3), lambda 함수에 3 넣음.\n",
    "(lambda x : x**2)(3)\n",
    "\n"
   ]
  },
  {
   "cell_type": "code",
   "execution_count": 72,
   "id": "7957bc90",
   "metadata": {},
   "outputs": [
    {
     "data": {
      "text/plain": [
       "9"
      ]
     },
     "execution_count": 72,
     "metadata": {},
     "output_type": "execute_result"
    }
   ],
   "source": [
    "#위의 함수와 형태만 다르고 내용은 같다. 람다로는 한 줄에 표현 가능! 그래도 명료해\n",
    "def func6(x):\n",
    "    y=x**2\n",
    "    return y\n",
    "func6(3)"
   ]
  },
  {
   "cell_type": "code",
   "execution_count": 73,
   "id": "2c74c3b3",
   "metadata": {},
   "outputs": [
    {
     "data": {
      "text/plain": [
       "9"
      ]
     },
     "execution_count": 73,
     "metadata": {},
     "output_type": "execute_result"
    }
   ],
   "source": [
    "func7=lambda x : x**2\n",
    "func7(3)\n",
    "#이렇게도 할 수 있지만, 이름 짓기의 수고로움으로 하지 않는다."
   ]
  },
  {
   "cell_type": "code",
   "execution_count": 74,
   "id": "c89e79dd",
   "metadata": {},
   "outputs": [
    {
     "data": {
      "text/plain": [
       "65"
      ]
     },
     "execution_count": 74,
     "metadata": {},
     "output_type": "execute_result"
    }
   ],
   "source": [
    "(lambda x: x**3+1)(4)"
   ]
  },
  {
   "cell_type": "code",
   "execution_count": 76,
   "id": "559ea021",
   "metadata": {},
   "outputs": [
    {
     "data": {
      "text/plain": [
       "65"
      ]
     },
     "execution_count": 76,
     "metadata": {},
     "output_type": "execute_result"
    }
   ],
   "source": [
    "def func8(x):\n",
    "    y=x**3+1\n",
    "    return y\n",
    "func8(4)"
   ]
  },
  {
   "cell_type": "code",
   "execution_count": 77,
   "id": "44d5498b",
   "metadata": {},
   "outputs": [
    {
     "data": {
      "text/plain": [
       "20"
      ]
     },
     "execution_count": 77,
     "metadata": {},
     "output_type": "execute_result"
    }
   ],
   "source": [
    "#입력값이 여러 개의 열일 경우는 어떡해?\n",
    "(lambda x,y,z: 2*x+3*y+4*z)(1,2,3)\n",
    "#차근차근 쓰면 돼. 람다 함수 간단하네!"
   ]
  },
  {
   "cell_type": "code",
   "execution_count": 83,
   "id": "ddc5e5d2",
   "metadata": {},
   "outputs": [
    {
     "data": {
      "text/plain": [
       "'01012345678'"
      ]
     },
     "execution_count": 83,
     "metadata": {},
     "output_type": "execute_result"
    }
   ],
   "source": [
    "#p125 int 함수 정수화, float 함수 실수화, str 함수 문자열화\n",
    "int(3.5), float(\"3\") \n",
    "국번=(1234)\n",
    "개인번호=(5678)\n",
    "전화번호=\"010\"+str(국번)+str(개인번호)\n",
    "전화번호"
   ]
  },
  {
   "cell_type": "code",
   "execution_count": 85,
   "id": "f338e7d3",
   "metadata": {},
   "outputs": [
    {
     "data": {
      "text/plain": [
       "-3"
      ]
     },
     "execution_count": 85,
     "metadata": {},
     "output_type": "execute_result"
    }
   ],
   "source": [
    "#p131 최소값, 최대값, 절대값, 길이, 합\n",
    "min([1,2,-3])\n"
   ]
  },
  {
   "cell_type": "code",
   "execution_count": 86,
   "id": "82e36066",
   "metadata": {},
   "outputs": [
    {
     "data": {
      "text/plain": [
       "2"
      ]
     },
     "execution_count": 86,
     "metadata": {},
     "output_type": "execute_result"
    }
   ],
   "source": [
    "max([1,2,-3])"
   ]
  },
  {
   "cell_type": "code",
   "execution_count": 87,
   "id": "09346f03",
   "metadata": {},
   "outputs": [
    {
     "data": {
      "text/plain": [
       "(1, 2, 3)"
      ]
     },
     "execution_count": 87,
     "metadata": {},
     "output_type": "execute_result"
    }
   ],
   "source": [
    "abs(1),abs(2),abs(-3)"
   ]
  },
  {
   "cell_type": "code",
   "execution_count": 88,
   "id": "e7a70d9a",
   "metadata": {},
   "outputs": [
    {
     "data": {
      "text/plain": [
       "3"
      ]
     },
     "execution_count": 88,
     "metadata": {},
     "output_type": "execute_result"
    }
   ],
   "source": [
    "len([1,2,-3])"
   ]
  },
  {
   "cell_type": "code",
   "execution_count": 89,
   "id": "c5c6aaf6",
   "metadata": {},
   "outputs": [
    {
     "data": {
      "text/plain": [
       "0"
      ]
     },
     "execution_count": 89,
     "metadata": {},
     "output_type": "execute_result"
    }
   ],
   "source": [
    "sum([1,2,-3])"
   ]
  },
  {
   "cell_type": "code",
   "execution_count": 90,
   "id": "2d36b31c",
   "metadata": {},
   "outputs": [],
   "source": [
    "#map"
   ]
  },
  {
   "cell_type": "code",
   "execution_count": 91,
   "id": "2b6d2cca",
   "metadata": {},
   "outputs": [],
   "source": [
    "#p135 ch 객체와 클래스\n",
    "# 절차 지향적(함수 사용) 프로그래밍 - 우리가 여태 해왔던 것\n",
    "#다품종 생산할 때 쓰임. 틀은 같은데 컨텐츠가 조금씩 다름."
   ]
  },
  {
   "cell_type": "code",
   "execution_count": 92,
   "id": "b047e8c8",
   "metadata": {},
   "outputs": [],
   "source": [
    "#p136\n",
    "붕어빵, 붕어 모양 빵 틀\n",
    "단팥반죽-> 단팥붕어빵\n",
    "크림반죽->크림붕어빵\n",
    "초코반죽->초코붕어빵"
   ]
  },
  {
   "cell_type": "code",
   "execution_count": 106,
   "id": "f6a17462",
   "metadata": {},
   "outputs": [],
   "source": [
    "#붕어빵이라는 빵 틀을 만들자. 틀은 class로\n",
    "class 붕어빵():\n",
    "    def __init__(self,내용물):\n",
    "        self.내용물=내용물#속성(변수)\n",
    "    def 나의소개(self):#메소드\n",
    "        print(\"나는 \"+self.내용물+\"붕어빵 입니다.\")"
   ]
  },
  {
   "cell_type": "code",
   "execution_count": 107,
   "id": "4454d23e",
   "metadata": {},
   "outputs": [],
   "source": [
    "#객체를 생성한다\n",
    "단팥붕어빵=붕어빵(\"단팥\");크림붕어빵=붕어빵(\"크림\");초코붕어빵=붕어빵(\"초코\")"
   ]
  },
  {
   "cell_type": "code",
   "execution_count": 108,
   "id": "c55e7aa4",
   "metadata": {},
   "outputs": [
    {
     "name": "stdout",
     "output_type": "stream",
     "text": [
      "나는 단팥붕어빵 입니다.\n"
     ]
    }
   ],
   "source": [
    "단팥붕어빵.나의소개()"
   ]
  },
  {
   "cell_type": "code",
   "execution_count": 119,
   "id": "31dfe214",
   "metadata": {},
   "outputs": [],
   "source": [
    "#붕어빵이라는 빵 틀을 만들자. 틀은 class로\n",
    "class 붕어빵2():\n",
    "    def __init__(self,내용물,크기,모양):\n",
    "        self.내용물=내용물\n",
    "        self.크기=크기\n",
    "        self.모양=모양\n",
    "    def 나의소개(self):\n",
    "        print(\"나는 \"+self.모양+\" 모양의 \"+self.크기+\" \"+self.내용물+\"붕어빵 입니다.\")"
   ]
  },
  {
   "cell_type": "code",
   "execution_count": 120,
   "id": "d19b59d9",
   "metadata": {},
   "outputs": [],
   "source": [
    "붕어빵_주문1=붕어빵2(\"치즈\",\"큰\",\"토종붕어\")"
   ]
  },
  {
   "cell_type": "code",
   "execution_count": 121,
   "id": "b05e6f0e",
   "metadata": {},
   "outputs": [
    {
     "name": "stdout",
     "output_type": "stream",
     "text": [
      "나는 토종붕어 모양의 큰 치즈붕어빵 입니다.\n"
     ]
    }
   ],
   "source": [
    "붕어빵_주문1.나의소개()"
   ]
  },
  {
   "cell_type": "code",
   "execution_count": null,
   "id": "67f4693b",
   "metadata": {},
   "outputs": [],
   "source": [
    "#p141 객체 초기화 def __init__(self)"
   ]
  },
  {
   "cell_type": "code",
   "execution_count": 123,
   "id": "35d62dcb",
   "metadata": {},
   "outputs": [],
   "source": [
    "붕어빵_주문1.내용물=\"단팥\""
   ]
  },
  {
   "cell_type": "code",
   "execution_count": 124,
   "id": "e46b17d2",
   "metadata": {},
   "outputs": [
    {
     "name": "stdout",
     "output_type": "stream",
     "text": [
      "나는 토종붕어 모양의 큰 단팥붕어빵 입니다.\n"
     ]
    }
   ],
   "source": [
    "붕어빵_주문1.나의소개() #제품에서 특징을 불러온다"
   ]
  },
  {
   "cell_type": "code",
   "execution_count": 125,
   "id": "0a832431",
   "metadata": {},
   "outputs": [],
   "source": [
    "붕어빵_주문1.크기=\"작은\""
   ]
  },
  {
   "cell_type": "code",
   "execution_count": 127,
   "id": "59ebf3bf",
   "metadata": {},
   "outputs": [
    {
     "name": "stdout",
     "output_type": "stream",
     "text": [
      "나는 토종붕어 모양의 작은 단팥붕어빵 입니다.\n"
     ]
    }
   ],
   "source": [
    "붕어빵_주문1.나의소개()"
   ]
  },
  {
   "cell_type": "code",
   "execution_count": 1,
   "id": "1dadb789",
   "metadata": {},
   "outputs": [
    {
     "ename": "NameError",
     "evalue": "name 'X_서울' is not defined",
     "output_type": "error",
     "traceback": [
      "\u001b[1;31m---------------------------------------------------------------------------\u001b[0m",
      "\u001b[1;31mNameError\u001b[0m                                 Traceback (most recent call last)",
      "\u001b[1;32m~\\AppData\\Local\\Temp/ipykernel_14972/4275440208.py\u001b[0m in \u001b[0;36m<module>\u001b[1;34m\u001b[0m\n\u001b[0;32m      3\u001b[0m \u001b[1;31m#객체화 하고\u001b[0m\u001b[1;33m\u001b[0m\u001b[1;33m\u001b[0m\u001b[0m\n\u001b[0;32m      4\u001b[0m \u001b[0m내회귀분석장치_서울\u001b[0m\u001b[1;33m=\u001b[0m \u001b[0mLinearRegression\u001b[0m\u001b[1;33m(\u001b[0m\u001b[1;33m)\u001b[0m\u001b[1;33m\u001b[0m\u001b[1;33m\u001b[0m\u001b[0m\n\u001b[1;32m----> 5\u001b[1;33m \u001b[0m내회귀분석장치_서울\u001b[0m\u001b[1;33m.\u001b[0m\u001b[0mfit\u001b[0m\u001b[1;33m(\u001b[0m\u001b[0mX_서울\u001b[0m\u001b[1;33m,\u001b[0m\u001b[0my_서울\u001b[0m\u001b[1;33m)\u001b[0m \u001b[1;31m# fit 훈련 함수\u001b[0m\u001b[1;33m\u001b[0m\u001b[1;33m\u001b[0m\u001b[0m\n\u001b[0m\u001b[0;32m      6\u001b[0m \u001b[0my_prediction_서울\u001b[0m\u001b[1;33m=\u001b[0m\u001b[0m내회귀분석장치_서울\u001b[0m\u001b[1;33m.\u001b[0m\u001b[0mpredict\u001b[0m\u001b[1;33m(\u001b[0m\u001b[0mX_new\u001b[0m\u001b[1;33m)\u001b[0m\u001b[1;31m#predict 예측함수\u001b[0m\u001b[1;33m\u001b[0m\u001b[1;33m\u001b[0m\u001b[0m\n\u001b[0;32m      7\u001b[0m \u001b[1;33m\u001b[0m\u001b[0m\n",
      "\u001b[1;31mNameError\u001b[0m: name 'X_서울' is not defined"
     ]
    }
   ],
   "source": [
    "#클래스 가지고옴\n",
    "from sklearn.linear_model import LinearRegression\n",
    "#객체화 하고\n",
    "내회귀분석장치_서울= LinearRegression()\n",
    "내회귀분석장치_서울.fit(X_서울,y_서울) # fit 훈련 함수\n",
    "y_prediction_서울=내회귀분석장치_서울.predict(X_new)#predict 예측함수\n",
    "\n",
    "내회귀분석장치_수원= LinearRegression()\n",
    "내회귀분석장치_수원.fit(X_수원,y_수원) # fit 훈련 함수\n",
    "y_prediction_수원=내회귀분석장치_수원.predict(X_new)\n",
    "#predict 예측함수\n",
    "#수원에서 차를 살 때, X_수원(스펙)에 따라 y_수원(가격)이 달라진다.\n",
    "#y_prediction_수원(예측값)이 달라진다. 이것으로 가격비교하면 현장에서 눈탱이 맞을 걱정 덜 수 있다.\n",
    "\n"
   ]
  },
  {
   "cell_type": "code",
   "execution_count": 129,
   "id": "23dac132",
   "metadata": {},
   "outputs": [],
   "source": [
    "#p143"
   ]
  },
  {
   "cell_type": "code",
   "execution_count": 130,
   "id": "d0e5eda3",
   "metadata": {},
   "outputs": [],
   "source": [
    "#클래스 변수"
   ]
  },
  {
   "cell_type": "code",
   "execution_count": 131,
   "id": "89fcdcd7",
   "metadata": {},
   "outputs": [],
   "source": [
    "class 붕어빵3():\n",
    "    total_count=0 #클래스 속성 : 카운트를 모든 개체와 공유하겠습니다.\n",
    "    def __init__(self,내용물,크기,모양):\n",
    "        self.내용물=내용물\n",
    "        self.크기=크기\n",
    "        self.모양=모양\n",
    "        붕어빵3.total_count+=1 #왜 얘만 모양이 달라요? self 모양 아니야???\n",
    "    def 나의소개(self):\n",
    "        print(\"나는 \"+self.모양+\" 모양의 \"+self.크기+\" \"+self.내용물+\"붕어빵 입니다.\")"
   ]
  },
  {
   "cell_type": "code",
   "execution_count": 132,
   "id": "27baeb5f",
   "metadata": {},
   "outputs": [
    {
     "name": "stdout",
     "output_type": "stream",
     "text": [
      "1\n",
      "2\n",
      "3\n"
     ]
    }
   ],
   "source": [
    "만든붕어빵1=붕어빵3(\"단팥\",\"작은\",\"버들붕어\")\n",
    "print(만든붕어빵1.total_count)\n",
    "만든붕어빵2=붕어빵3(\"크림\",\"큰\",\"토종붕어\")\n",
    "print(만든붕어빵1.total_count)\n",
    "만든붕어빵3=붕어빵3(\"초콜릿\",\"작은\",\"비단붕어\")\n",
    "print(만든붕어빵1.total_count)"
   ]
  },
  {
   "cell_type": "code",
   "execution_count": 136,
   "id": "969e6145",
   "metadata": {},
   "outputs": [],
   "source": [
    "class 붕어빵4():\n",
    "   \n",
    "    def __init__(self,내용물,크기,모양):\n",
    "        self.total_count=0 #인스턴스(객체) 속성: 카운트는 객체에만 반영하겠습니다.\n",
    "        self.내용물=내용물\n",
    "        self.크기=크기\n",
    "        self.모양=모양\n",
    "        self.total_count+=1\n",
    "    def 나의소개(self):\n",
    "        print(\"나는 \"+self.모양+\" 모양의 \"+self.크기+\" \"+self.내용물+\"붕어빵 입니다.\")"
   ]
  },
  {
   "cell_type": "code",
   "execution_count": 138,
   "id": "28457146",
   "metadata": {},
   "outputs": [
    {
     "name": "stdout",
     "output_type": "stream",
     "text": [
      "1\n",
      "1\n",
      "1\n"
     ]
    }
   ],
   "source": [
    "만든붕어빵1=붕어빵4(\"단팥\",\"작은\",\"버들붕어\")\n",
    "print(만든붕어빵1.total_count)\n",
    "만든붕어빵2=붕어빵4(\"크림\",\"큰\",\"토종붕어\")\n",
    "print(만든붕어빵1.total_count)\n",
    "만든붕어빵3=붕어빵4(\"초콜릿\",\"작은\",\"비단붕어\")\n",
    "print(만든붕어빵1.total_count)"
   ]
  },
  {
   "cell_type": "code",
   "execution_count": 139,
   "id": "6a33bdb9",
   "metadata": {},
   "outputs": [],
   "source": [
    "#왜 결과값에 변경 없어? 만든 붕어빵에 왜 카운트 안돼??\n",
    "#만든붕어빵1,2,3 별개로 보는거야. 클래스 전체 개수 증가된다고 보는 것 보다\\인스턴스."
   ]
  },
  {
   "cell_type": "code",
   "execution_count": 140,
   "id": "67fb93e4",
   "metadata": {},
   "outputs": [],
   "source": [
    "#p145 인스턴스 메소드, 클래스 메소드, 정적 메소드"
   ]
  },
  {
   "cell_type": "code",
   "execution_count": 155,
   "id": "95a0f27f",
   "metadata": {},
   "outputs": [],
   "source": [
    "\n",
    "class 붕어빵5():\n",
    "    count=0 #클래스 속성\n",
    "    def __init__(self,내용물):\n",
    "        self.내용물=내용물\n",
    "        \n",
    "    def 나의소개(self): #인스턴스 메소드 (가장 기본, 객체 별로 속성 따로)\n",
    "        print(\"나는 \"+self.내용물+\"붕어빵이 좋아.\")\n",
    "        \n",
    "        @classmethod #특별한 지시자임을 나타내줍니다. 없으면 에러남\n",
    "        #개체가 아닌(self가 아닌)아무거나 입력가능 \n",
    "        def count_instance(myclass):\n",
    "            print(\"여태까지 만든 객체의 개수:\",myclass.count)\n",
    "            "
   ]
  },
  {
   "cell_type": "code",
   "execution_count": 156,
   "id": "2db5ab36",
   "metadata": {},
   "outputs": [
    {
     "ename": "AttributeError",
     "evalue": "type object '붕어빵5' has no attribute 'count_instance'",
     "output_type": "error",
     "traceback": [
      "\u001b[1;31m---------------------------------------------------------------------------\u001b[0m",
      "\u001b[1;31mAttributeError\u001b[0m                            Traceback (most recent call last)",
      "\u001b[1;32m~\\AppData\\Local\\Temp/ipykernel_11160/1393145749.py\u001b[0m in \u001b[0;36m<module>\u001b[1;34m\u001b[0m\n\u001b[1;32m----> 1\u001b[1;33m \u001b[0m붕어빵5\u001b[0m\u001b[1;33m.\u001b[0m\u001b[0mcount_instance\u001b[0m\u001b[1;33m(\u001b[0m\u001b[1;33m)\u001b[0m\u001b[1;33m\u001b[0m\u001b[1;33m\u001b[0m\u001b[0m\n\u001b[0m",
      "\u001b[1;31mAttributeError\u001b[0m: type object '붕어빵5' has no attribute 'count_instance'"
     ]
    }
   ],
   "source": [
    "붕어빵5.count_instance() "
   ]
  },
  {
   "cell_type": "code",
   "execution_count": 170,
   "id": "9eb23ccd",
   "metadata": {},
   "outputs": [],
   "source": [
    "#정적메소드\n",
    "\n",
    "class 붕어빵():\n",
    "    def __init__(self,내용물):\n",
    "        self.내용물=내용물#속성(변수)\n",
    "    def 나의소개(self):#메소드\n",
    "        print(\"나는 \"+self.내용물+\"붕어빵 입니다.\")\n",
    "        \n",
    "        @staticmethod #혼자서 고정된 일을 할 때 \n",
    "        def 상점소개():\n",
    "            print(\"이 붕어빵은 우리집에서 만들었습니다.\")\n",
    "            "
   ]
  },
  {
   "cell_type": "code",
   "execution_count": 171,
   "id": "69d45bcb",
   "metadata": {},
   "outputs": [
    {
     "ename": "AttributeError",
     "evalue": "type object '붕어빵6' has no attribute '상점소개'",
     "output_type": "error",
     "traceback": [
      "\u001b[1;31m---------------------------------------------------------------------------\u001b[0m",
      "\u001b[1;31mAttributeError\u001b[0m                            Traceback (most recent call last)",
      "\u001b[1;32m~\\AppData\\Local\\Temp/ipykernel_11160/3296646711.py\u001b[0m in \u001b[0;36m<module>\u001b[1;34m\u001b[0m\n\u001b[1;32m----> 1\u001b[1;33m \u001b[0m붕어빵6\u001b[0m\u001b[1;33m.\u001b[0m\u001b[0m상점소개\u001b[0m\u001b[1;33m(\u001b[0m\u001b[1;33m)\u001b[0m\u001b[1;33m\u001b[0m\u001b[1;33m\u001b[0m\u001b[0m\n\u001b[0m",
      "\u001b[1;31mAttributeError\u001b[0m: type object '붕어빵6' has no attribute '상점소개'"
     ]
    }
   ],
   "source": [
    "붕어빵6.상점소개()"
   ]
  },
  {
   "cell_type": "code",
   "execution_count": 163,
   "id": "8311fe8d",
   "metadata": {},
   "outputs": [],
   "source": [
    "#p154 클래스메소드 상속"
   ]
  },
  {
   "cell_type": "code",
   "execution_count": 176,
   "id": "cf75bb26",
   "metadata": {},
   "outputs": [],
   "source": [
    "class 붕어빵_부모():\n",
    "    def __init__(self,내용물):\n",
    "        self.내용물=내용물\n",
    "    def 나의소개(self):\n",
    "        print(\"나는 \"+self.내용물+\"붕어빵 입니다.\")\n",
    "     "
   ]
  },
  {
   "cell_type": "code",
   "execution_count": 177,
   "id": "e5239ac3",
   "metadata": {},
   "outputs": [
    {
     "name": "stdout",
     "output_type": "stream",
     "text": [
      "나는 단팥붕어빵 입니다.\n"
     ]
    }
   ],
   "source": [
    "단팥붕어빵=붕어빵_부모(\"단팥\")\n",
    "단팥붕어빵.나의소개()"
   ]
  },
  {
   "cell_type": "code",
   "execution_count": 192,
   "id": "37fc4ced",
   "metadata": {},
   "outputs": [],
   "source": [
    "class 붕어빵_자식(붕어빵_부모): #상속하는 법!!요기 붕어빵_부모 자리에 다른 클래스 넣으면 됨\n",
    "    def 인사(self):\n",
    "        print(\"안녕하세요\")"
   ]
  },
  {
   "cell_type": "code",
   "execution_count": 193,
   "id": "041c640e",
   "metadata": {},
   "outputs": [
    {
     "name": "stdout",
     "output_type": "stream",
     "text": [
      "안녕하세요\n"
     ]
    }
   ],
   "source": [
    "자식붕어빵= 붕어빵_자식(\"치즈\")\n",
    "자식붕어빵.인사()"
   ]
  },
  {
   "cell_type": "code",
   "execution_count": 194,
   "id": "cba21d47",
   "metadata": {},
   "outputs": [
    {
     "name": "stdout",
     "output_type": "stream",
     "text": [
      "나는 치즈붕어빵 입니다.\n"
     ]
    }
   ],
   "source": [
    "자식붕어빵.나의소개() #붕어빵_부모의 기능을 물려받음"
   ]
  },
  {
   "cell_type": "code",
   "execution_count": 195,
   "id": "594bf0ce",
   "metadata": {},
   "outputs": [],
   "source": [
    "# p159 - 문자열 관련 여러가지"
   ]
  },
  {
   "cell_type": "code",
   "execution_count": 201,
   "id": "ba8d454f",
   "metadata": {},
   "outputs": [
    {
     "data": {
      "text/plain": [
       "['10', '123']"
      ]
     },
     "execution_count": 201,
     "metadata": {},
     "output_type": "execute_result"
    }
   ],
   "source": [
    "\"10 123\".split(\" \")"
   ]
  },
  {
   "cell_type": "code",
   "execution_count": 206,
   "id": "5c8e7bb2",
   "metadata": {},
   "outputs": [
    {
     "data": {
      "text/plain": [
       "'강_남'"
      ]
     },
     "execution_count": 206,
     "metadata": {},
     "output_type": "execute_result"
    }
   ],
   "source": [
    "\"__강_남\".strip(\"_\")"
   ]
  },
  {
   "cell_type": "code",
   "execution_count": 209,
   "id": "5d06306a",
   "metadata": {},
   "outputs": [
    {
     "data": {
      "text/plain": [
       "'강남'"
      ]
     },
     "execution_count": 209,
     "metadata": {},
     "output_type": "execute_result"
    }
   ],
   "source": [
    "\"강_남\".replace(\"_\",\"\")"
   ]
  },
  {
   "cell_type": "code",
   "execution_count": 210,
   "id": "a0c2f60a",
   "metadata": {},
   "outputs": [],
   "source": [
    "# p165 문자의 연결"
   ]
  },
  {
   "cell_type": "code",
   "execution_count": 211,
   "id": "1370dc95",
   "metadata": {},
   "outputs": [
    {
     "data": {
      "text/plain": [
       "'정 재은'"
      ]
     },
     "execution_count": 211,
     "metadata": {},
     "output_type": "execute_result"
    }
   ],
   "source": [
    "name=[\"정\",\"재은\"]\n",
    "\" \".join(name)"
   ]
  },
  {
   "cell_type": "code",
   "execution_count": 215,
   "id": "90225472",
   "metadata": {},
   "outputs": [
    {
     "data": {
      "text/plain": [
       "['이재명',\n",
       " '더불어민주당',\n",
       " '대선',\n",
       " '후보의',\n",
       " '지지도가',\n",
       " '한',\n",
       " '주',\n",
       " '만에',\n",
       " '포인트',\n",
       " '상승',\n",
       " '로',\n",
       " '조사됐다',\n",
       " '의',\n",
       " '지지를',\n",
       " '받은',\n",
       " '윤석열',\n",
       " '국민의힘',\n",
       " '대선',\n",
       " '후보와는',\n",
       " '오차범위',\n",
       " '내',\n",
       " '격차다']"
      ]
     },
     "execution_count": 215,
     "metadata": {},
     "output_type": "execute_result"
    }
   ],
   "source": [
    "원문 = \"\"\"이재명 더불어민주당 대선 후보의 지지도가 한 주 만에 포인트 상승 로 조사됐다 의 지지를 받은 윤석열 국민의힘 대선 후보와는 오차범위 내 격차다\"\"\"\n",
    "\n",
    "단어장=원문.split(\" \")\n",
    "단어장\n"
   ]
  },
  {
   "cell_type": "code",
   "execution_count": 233,
   "id": "85991182",
   "metadata": {},
   "outputs": [
    {
     "data": {
      "text/plain": [
       "['격차다']"
      ]
     },
     "execution_count": 233,
     "metadata": {},
     "output_type": "execute_result"
    }
   ],
   "source": [
    "새_단어장=[] #빈 리스트 만들고 누적해 나가는 법.\n",
    "for word in 단어장:\n",
    "    if len(word)<=1:\n",
    "        continue\n",
    "    새_단어장.append(word)\n",
    "새_단어장\n",
    "    "
   ]
  },
  {
   "cell_type": "code",
   "execution_count": 221,
   "id": "5e001ffe",
   "metadata": {},
   "outputs": [
    {
     "data": {
      "text/plain": [
       "['이재명',\n",
       " '더불어민주당',\n",
       " '대선',\n",
       " '후보의',\n",
       " '지지도가',\n",
       " '만에',\n",
       " '포인트',\n",
       " '상승',\n",
       " '조사됐다',\n",
       " '지지를',\n",
       " '받은',\n",
       " '윤석열',\n",
       " '국민의힘',\n",
       " '대선',\n",
       " '후보와는',\n",
       " '오차범위',\n",
       " '격차다']"
      ]
     },
     "execution_count": 221,
     "metadata": {},
     "output_type": "execute_result"
    }
   ],
   "source": [
    "새_단어장2=[]\n",
    "for word in 단어장:\n",
    "    if len(word)>1:\n",
    "        새_단어장2.append(word)\n",
    "        \n",
    "새_단어장2"
   ]
  },
  {
   "cell_type": "code",
   "execution_count": 228,
   "id": "67eb66e1",
   "metadata": {},
   "outputs": [
    {
     "data": {
      "text/plain": [
       "'이재명 더불어민주당 대선 후보의 지지도가 만에 포인트 상승 조사됐다 지지를 받은 윤석열 국민의힘 대선 후보와는 오차범위 격차다'"
      ]
     },
     "execution_count": 228,
     "metadata": {},
     "output_type": "execute_result"
    }
   ],
   "source": [
    "\" \".join(새_단어장2)\n",
    "#다시 합치기\n",
    "\n",
    "\n"
   ]
  },
  {
   "cell_type": "code",
   "execution_count": 229,
   "id": "3fde5083",
   "metadata": {},
   "outputs": [
    {
     "data": {
      "text/plain": [
       "14"
      ]
     },
     "execution_count": 229,
     "metadata": {},
     "output_type": "execute_result"
    }
   ],
   "source": [
    "#167-문자열 찾기\n",
    "새_단어장[14]\n",
    "뉴스기사=\" \".join(새_단어장2)\n",
    "뉴스기사.find(\"후보\")"
   ]
  },
  {
   "cell_type": "code",
   "execution_count": 230,
   "id": "300e3aa0",
   "metadata": {},
   "outputs": [
    {
     "data": {
      "text/plain": [
       "14"
      ]
     },
     "execution_count": 230,
     "metadata": {},
     "output_type": "execute_result"
    }
   ],
   "source": [
    "index_후보=뉴스기사.find(\"후보\")\n",
    "index_후보"
   ]
  },
  {
   "cell_type": "code",
   "execution_count": 231,
   "id": "9e669067",
   "metadata": {},
   "outputs": [
    {
     "data": {
      "text/plain": [
       "57"
      ]
     },
     "execution_count": 231,
     "metadata": {},
     "output_type": "execute_result"
    }
   ],
   "source": [
    "index_후보=뉴스기사.find(\"후보\",index_후보+1) #찾고 나면 또 찾으라는 의미+1\n",
    "index_후보"
   ]
  },
  {
   "cell_type": "code",
   "execution_count": 232,
   "id": "9033fc5f",
   "metadata": {},
   "outputs": [
    {
     "data": {
      "text/plain": [
       "-1"
      ]
     },
     "execution_count": 232,
     "metadata": {},
     "output_type": "execute_result"
    }
   ],
   "source": [
    "index_후보=뉴스기사.find(\"후보\",index_후보+1)\n",
    "index_후보 #더이상 없으면 음수 나옵니다."
   ]
  },
  {
   "cell_type": "code",
   "execution_count": 234,
   "id": "e26066b3",
   "metadata": {},
   "outputs": [
    {
     "data": {
      "text/plain": [
       "'이재명 더불어민주당 대선 후보의 지지도가 만에 포인트 상승 조사됐다 지지를 받은 윤석열 국민의힘 대선 후보와는 오차범위 격차다'"
      ]
     },
     "execution_count": 234,
     "metadata": {},
     "output_type": "execute_result"
    }
   ],
   "source": [
    "뉴스기사"
   ]
  },
  {
   "cell_type": "code",
   "execution_count": 235,
   "id": "55567106",
   "metadata": {},
   "outputs": [
    {
     "data": {
      "text/plain": [
       "'이재명 더불어민주당 대선 hubo의 지지도가 만에 포인트 상승 조사됐다 지지를 받은 윤석열 국민의힘 대선 hubo와는 오차범위 격차다'"
      ]
     },
     "execution_count": 235,
     "metadata": {},
     "output_type": "execute_result"
    }
   ],
   "source": [
    "뉴스기사.replace('후보','hubo')"
   ]
  },
  {
   "cell_type": "code",
   "execution_count": 236,
   "id": "e5b4e2a9",
   "metadata": {},
   "outputs": [
    {
     "data": {
      "text/plain": [
       "'이재명 더불어민주당 대선 hubo의 지지도가 만에 포인트 상승 조사됐다 지지를 받은 윤석열 국민의힘 대선 후보와는 오차범위 격차다'"
      ]
     },
     "execution_count": 236,
     "metadata": {},
     "output_type": "execute_result"
    }
   ],
   "source": [
    "뉴스기사.replace('후보','hubo',1)"
   ]
  },
  {
   "cell_type": "code",
   "execution_count": 237,
   "id": "6d78a79b",
   "metadata": {},
   "outputs": [
    {
     "data": {
      "text/plain": [
       "'이재명 더불어민주당 대선 hubo의 지지도가 만에 포인트 상승 조사됐다 지지를 받은 윤석열 국민의힘 대선 hubo와는 오차범위 격차다'"
      ]
     },
     "execution_count": 237,
     "metadata": {},
     "output_type": "execute_result"
    }
   ],
   "source": [
    "뉴스기사.replace('후보','hubo',2)"
   ]
  },
  {
   "cell_type": "code",
   "execution_count": 238,
   "id": "4e93d5a6",
   "metadata": {},
   "outputs": [],
   "source": [
    "#위처럼 단어를 하나씩 바꿀 수도 있다.\n"
   ]
  },
  {
   "cell_type": "code",
   "execution_count": 245,
   "id": "a4038ae3",
   "metadata": {},
   "outputs": [
    {
     "data": {
      "text/plain": [
       "(False, True)"
      ]
     },
     "execution_count": 245,
     "metadata": {},
     "output_type": "execute_result"
    }
   ],
   "source": [
    "# p171 isalpha 문자로 이루어졌는가 isdigit 숫자로 이루어졌는가 \n",
    "\n",
    "\"banana~1\".isalpha(), \"banana\".isalpha()"
   ]
  },
  {
   "cell_type": "code",
   "execution_count": 244,
   "id": "893342b2",
   "metadata": {},
   "outputs": [
    {
     "data": {
      "text/plain": [
       "(True, False)"
      ]
     },
     "execution_count": 244,
     "metadata": {},
     "output_type": "execute_result"
    }
   ],
   "source": [
    "\"01012345678\".isdigit(), \"010 1234 5678\".isdigit()"
   ]
  },
  {
   "cell_type": "code",
   "execution_count": 246,
   "id": "13bf27b9",
   "metadata": {},
   "outputs": [
    {
     "data": {
      "text/plain": [
       "True"
      ]
     },
     "execution_count": 246,
     "metadata": {},
     "output_type": "execute_result"
    }
   ],
   "source": [
    "\"class\".isalnum() #isalnum 알파벳이나 숫자로 이루어졌는지"
   ]
  },
  {
   "cell_type": "code",
   "execution_count": 247,
   "id": "1712aa85",
   "metadata": {},
   "outputs": [
    {
     "data": {
      "text/plain": [
       "True"
      ]
     },
     "execution_count": 247,
     "metadata": {},
     "output_type": "execute_result"
    }
   ],
   "source": [
    "'newyork'.islower() #소문자로 이루어졌는가"
   ]
  },
  {
   "cell_type": "code",
   "execution_count": 248,
   "id": "390f0bee",
   "metadata": {},
   "outputs": [
    {
     "data": {
      "text/plain": [
       "True"
      ]
     },
     "execution_count": 248,
     "metadata": {},
     "output_type": "execute_result"
    }
   ],
   "source": [
    "\"NEWYORK\".isupper()"
   ]
  },
  {
   "cell_type": "code",
   "execution_count": 250,
   "id": "16c59529",
   "metadata": {},
   "outputs": [
    {
     "data": {
      "text/plain": [
       "'newyork'"
      ]
     },
     "execution_count": 250,
     "metadata": {},
     "output_type": "execute_result"
    }
   ],
   "source": [
    "a='Newyork'\n",
    "if a.islower()==False:\n",
    "    a=a.lower()\n",
    "a"
   ]
  },
  {
   "cell_type": "code",
   "execution_count": 256,
   "id": "f5ccdbc7",
   "metadata": {},
   "outputs": [
    {
     "data": {
      "text/plain": [
       "1234"
      ]
     },
     "execution_count": 256,
     "metadata": {},
     "output_type": "execute_result"
    }
   ],
   "source": [
    "# p179 모듈\n",
    "\n",
    "import my_module_1\n",
    "my_module_1.내변수\n"
   ]
  },
  {
   "cell_type": "code",
   "execution_count": 257,
   "id": "23184c36",
   "metadata": {},
   "outputs": [
    {
     "name": "stdout",
     "output_type": "stream",
     "text": [
      "내함수입니다\n"
     ]
    }
   ],
   "source": [
    "my_module_1.내함수()"
   ]
  },
  {
   "cell_type": "code",
   "execution_count": 258,
   "id": "c77762ad",
   "metadata": {},
   "outputs": [],
   "source": [
    "# p185\n",
    "from my_module_1 import 내변수 #앞의 번거로운 my_module_1.을 안써도 된다!"
   ]
  },
  {
   "cell_type": "code",
   "execution_count": 259,
   "id": "bcb70742",
   "metadata": {},
   "outputs": [
    {
     "data": {
      "text/plain": [
       "1234"
      ]
     },
     "execution_count": 259,
     "metadata": {},
     "output_type": "execute_result"
    }
   ],
   "source": [
    "내변수"
   ]
  },
  {
   "cell_type": "code",
   "execution_count": 261,
   "id": "3758ab3d",
   "metadata": {},
   "outputs": [],
   "source": [
    "from my_module_1 import 내함수"
   ]
  },
  {
   "cell_type": "code",
   "execution_count": 263,
   "id": "873d313a",
   "metadata": {},
   "outputs": [
    {
     "name": "stdout",
     "output_type": "stream",
     "text": [
      "내함수입니다\n"
     ]
    }
   ],
   "source": [
    "내함수()"
   ]
  },
  {
   "cell_type": "code",
   "execution_count": 264,
   "id": "49081fca",
   "metadata": {},
   "outputs": [],
   "source": [
    "import my_module_1 as mm1 #as ~와 같다 약어로 만들 수 있다."
   ]
  },
  {
   "cell_type": "code",
   "execution_count": 265,
   "id": "5dc90c6b",
   "metadata": {},
   "outputs": [
    {
     "data": {
      "text/plain": [
       "1234"
      ]
     },
     "execution_count": 265,
     "metadata": {},
     "output_type": "execute_result"
    }
   ],
   "source": [
    "mm1.내변수"
   ]
  },
  {
   "cell_type": "code",
   "execution_count": 268,
   "id": "5c290bce",
   "metadata": {},
   "outputs": [],
   "source": [
    "# p208 패키지(폴더)\n",
    "import package1.my_module_2 as mm2"
   ]
  },
  {
   "cell_type": "code",
   "execution_count": 269,
   "id": "977c5aac",
   "metadata": {},
   "outputs": [
    {
     "data": {
      "text/plain": [
       "12345678"
      ]
     },
     "execution_count": 269,
     "metadata": {},
     "output_type": "execute_result"
    }
   ],
   "source": [
    "mm2.내변수2"
   ]
  },
  {
   "cell_type": "code",
   "execution_count": 271,
   "id": "82ad14f1",
   "metadata": {},
   "outputs": [],
   "source": [
    "# p214 ch11 데이터 분석을 위한 패키지\n",
    "# EDA(Exploratory Dada Analysis)=탐색적 데이터 분석\n",
    "#1. Numpy: 속도는 c언어처럼 빠르게, 코딩은 파이썬처럼 쉽게.\n",
    "# p237 \n",
    "#2. Pandas(pannel:표(정형데이터) 주로 다룬다.)\n",
    "# p283 ch12 데이터 시각화 \n",
    "#3. Mataplotlib\n",
    "\n",
    "#엑셀로는 빅데이터를 다룰 수 없음\n",
    "\n"
   ]
  },
  {
   "cell_type": "code",
   "execution_count": 272,
   "id": "7fce6817",
   "metadata": {},
   "outputs": [],
   "source": [
    "#!pip install pandas (판다스 설치하는 법)"
   ]
  },
  {
   "cell_type": "code",
   "execution_count": 274,
   "id": "d9e30f6a",
   "metadata": {},
   "outputs": [
    {
     "name": "stdout",
     "output_type": "stream",
     "text": [
      "Requirement already satisfied: pandas in c:\\programdata\\anaconda3\\lib\\site-packages (1.3.4)\n",
      "Requirement already satisfied: python-dateutil>=2.7.3 in c:\\programdata\\anaconda3\\lib\\site-packages (from pandas) (2.8.2)\n",
      "Requirement already satisfied: pytz>=2017.3 in c:\\programdata\\anaconda3\\lib\\site-packages (from pandas) (2021.3)\n",
      "Requirement already satisfied: numpy>=1.17.3 in c:\\programdata\\anaconda3\\lib\\site-packages (from pandas) (1.20.3)\n",
      "Requirement already satisfied: six>=1.5 in c:\\programdata\\anaconda3\\lib\\site-packages (from python-dateutil>=2.7.3->pandas) (1.16.0)\n"
     ]
    }
   ],
   "source": []
  },
  {
   "cell_type": "code",
   "execution_count": 275,
   "id": "187bfa2a",
   "metadata": {},
   "outputs": [],
   "source": [
    "import pandas as pd"
   ]
  },
  {
   "cell_type": "code",
   "execution_count": 281,
   "id": "a62795b0",
   "metadata": {},
   "outputs": [
    {
     "data": {
      "text/html": [
       "<div>\n",
       "<style scoped>\n",
       "    .dataframe tbody tr th:only-of-type {\n",
       "        vertical-align: middle;\n",
       "    }\n",
       "\n",
       "    .dataframe tbody tr th {\n",
       "        vertical-align: top;\n",
       "    }\n",
       "\n",
       "    .dataframe thead th {\n",
       "        text-align: right;\n",
       "    }\n",
       "</style>\n",
       "<table border=\"1\" class=\"dataframe\">\n",
       "  <thead>\n",
       "    <tr style=\"text-align: right;\">\n",
       "      <th></th>\n",
       "      <th>PassengerId</th>\n",
       "      <th>Survived</th>\n",
       "      <th>Pclass</th>\n",
       "      <th>Name</th>\n",
       "      <th>Sex</th>\n",
       "      <th>Age</th>\n",
       "      <th>SibSp</th>\n",
       "      <th>Parch</th>\n",
       "      <th>Ticket</th>\n",
       "      <th>Fare</th>\n",
       "      <th>Cabin</th>\n",
       "      <th>Embarked</th>\n",
       "    </tr>\n",
       "  </thead>\n",
       "  <tbody>\n",
       "    <tr>\n",
       "      <th>0</th>\n",
       "      <td>1</td>\n",
       "      <td>0</td>\n",
       "      <td>3</td>\n",
       "      <td>Braund, Mr. Owen Harris</td>\n",
       "      <td>male</td>\n",
       "      <td>22.0</td>\n",
       "      <td>1</td>\n",
       "      <td>0</td>\n",
       "      <td>A/5 21171</td>\n",
       "      <td>7.2500</td>\n",
       "      <td>NaN</td>\n",
       "      <td>S</td>\n",
       "    </tr>\n",
       "    <tr>\n",
       "      <th>1</th>\n",
       "      <td>2</td>\n",
       "      <td>1</td>\n",
       "      <td>1</td>\n",
       "      <td>Cumings, Mrs. John Bradley (Florence Briggs Th...</td>\n",
       "      <td>female</td>\n",
       "      <td>38.0</td>\n",
       "      <td>1</td>\n",
       "      <td>0</td>\n",
       "      <td>PC 17599</td>\n",
       "      <td>71.2833</td>\n",
       "      <td>C85</td>\n",
       "      <td>C</td>\n",
       "    </tr>\n",
       "    <tr>\n",
       "      <th>2</th>\n",
       "      <td>3</td>\n",
       "      <td>1</td>\n",
       "      <td>3</td>\n",
       "      <td>Heikkinen, Miss. Laina</td>\n",
       "      <td>female</td>\n",
       "      <td>26.0</td>\n",
       "      <td>0</td>\n",
       "      <td>0</td>\n",
       "      <td>STON/O2. 3101282</td>\n",
       "      <td>7.9250</td>\n",
       "      <td>NaN</td>\n",
       "      <td>S</td>\n",
       "    </tr>\n",
       "    <tr>\n",
       "      <th>3</th>\n",
       "      <td>4</td>\n",
       "      <td>1</td>\n",
       "      <td>1</td>\n",
       "      <td>Futrelle, Mrs. Jacques Heath (Lily May Peel)</td>\n",
       "      <td>female</td>\n",
       "      <td>35.0</td>\n",
       "      <td>1</td>\n",
       "      <td>0</td>\n",
       "      <td>113803</td>\n",
       "      <td>53.1000</td>\n",
       "      <td>C123</td>\n",
       "      <td>S</td>\n",
       "    </tr>\n",
       "    <tr>\n",
       "      <th>4</th>\n",
       "      <td>5</td>\n",
       "      <td>0</td>\n",
       "      <td>3</td>\n",
       "      <td>Allen, Mr. William Henry</td>\n",
       "      <td>male</td>\n",
       "      <td>35.0</td>\n",
       "      <td>0</td>\n",
       "      <td>0</td>\n",
       "      <td>373450</td>\n",
       "      <td>8.0500</td>\n",
       "      <td>NaN</td>\n",
       "      <td>S</td>\n",
       "    </tr>\n",
       "    <tr>\n",
       "      <th>...</th>\n",
       "      <td>...</td>\n",
       "      <td>...</td>\n",
       "      <td>...</td>\n",
       "      <td>...</td>\n",
       "      <td>...</td>\n",
       "      <td>...</td>\n",
       "      <td>...</td>\n",
       "      <td>...</td>\n",
       "      <td>...</td>\n",
       "      <td>...</td>\n",
       "      <td>...</td>\n",
       "      <td>...</td>\n",
       "    </tr>\n",
       "    <tr>\n",
       "      <th>886</th>\n",
       "      <td>887</td>\n",
       "      <td>0</td>\n",
       "      <td>2</td>\n",
       "      <td>Montvila, Rev. Juozas</td>\n",
       "      <td>male</td>\n",
       "      <td>27.0</td>\n",
       "      <td>0</td>\n",
       "      <td>0</td>\n",
       "      <td>211536</td>\n",
       "      <td>13.0000</td>\n",
       "      <td>NaN</td>\n",
       "      <td>S</td>\n",
       "    </tr>\n",
       "    <tr>\n",
       "      <th>887</th>\n",
       "      <td>888</td>\n",
       "      <td>1</td>\n",
       "      <td>1</td>\n",
       "      <td>Graham, Miss. Margaret Edith</td>\n",
       "      <td>female</td>\n",
       "      <td>19.0</td>\n",
       "      <td>0</td>\n",
       "      <td>0</td>\n",
       "      <td>112053</td>\n",
       "      <td>30.0000</td>\n",
       "      <td>B42</td>\n",
       "      <td>S</td>\n",
       "    </tr>\n",
       "    <tr>\n",
       "      <th>888</th>\n",
       "      <td>889</td>\n",
       "      <td>0</td>\n",
       "      <td>3</td>\n",
       "      <td>Johnston, Miss. Catherine Helen \"Carrie\"</td>\n",
       "      <td>female</td>\n",
       "      <td>NaN</td>\n",
       "      <td>1</td>\n",
       "      <td>2</td>\n",
       "      <td>W./C. 6607</td>\n",
       "      <td>23.4500</td>\n",
       "      <td>NaN</td>\n",
       "      <td>S</td>\n",
       "    </tr>\n",
       "    <tr>\n",
       "      <th>889</th>\n",
       "      <td>890</td>\n",
       "      <td>1</td>\n",
       "      <td>1</td>\n",
       "      <td>Behr, Mr. Karl Howell</td>\n",
       "      <td>male</td>\n",
       "      <td>26.0</td>\n",
       "      <td>0</td>\n",
       "      <td>0</td>\n",
       "      <td>111369</td>\n",
       "      <td>30.0000</td>\n",
       "      <td>C148</td>\n",
       "      <td>C</td>\n",
       "    </tr>\n",
       "    <tr>\n",
       "      <th>890</th>\n",
       "      <td>891</td>\n",
       "      <td>0</td>\n",
       "      <td>3</td>\n",
       "      <td>Dooley, Mr. Patrick</td>\n",
       "      <td>male</td>\n",
       "      <td>32.0</td>\n",
       "      <td>0</td>\n",
       "      <td>0</td>\n",
       "      <td>370376</td>\n",
       "      <td>7.7500</td>\n",
       "      <td>NaN</td>\n",
       "      <td>Q</td>\n",
       "    </tr>\n",
       "  </tbody>\n",
       "</table>\n",
       "<p>891 rows × 12 columns</p>\n",
       "</div>"
      ],
      "text/plain": [
       "     PassengerId  Survived  Pclass  \\\n",
       "0              1         0       3   \n",
       "1              2         1       1   \n",
       "2              3         1       3   \n",
       "3              4         1       1   \n",
       "4              5         0       3   \n",
       "..           ...       ...     ...   \n",
       "886          887         0       2   \n",
       "887          888         1       1   \n",
       "888          889         0       3   \n",
       "889          890         1       1   \n",
       "890          891         0       3   \n",
       "\n",
       "                                                  Name     Sex   Age  SibSp  \\\n",
       "0                              Braund, Mr. Owen Harris    male  22.0      1   \n",
       "1    Cumings, Mrs. John Bradley (Florence Briggs Th...  female  38.0      1   \n",
       "2                               Heikkinen, Miss. Laina  female  26.0      0   \n",
       "3         Futrelle, Mrs. Jacques Heath (Lily May Peel)  female  35.0      1   \n",
       "4                             Allen, Mr. William Henry    male  35.0      0   \n",
       "..                                                 ...     ...   ...    ...   \n",
       "886                              Montvila, Rev. Juozas    male  27.0      0   \n",
       "887                       Graham, Miss. Margaret Edith  female  19.0      0   \n",
       "888           Johnston, Miss. Catherine Helen \"Carrie\"  female   NaN      1   \n",
       "889                              Behr, Mr. Karl Howell    male  26.0      0   \n",
       "890                                Dooley, Mr. Patrick    male  32.0      0   \n",
       "\n",
       "     Parch            Ticket     Fare Cabin Embarked  \n",
       "0        0         A/5 21171   7.2500   NaN        S  \n",
       "1        0          PC 17599  71.2833   C85        C  \n",
       "2        0  STON/O2. 3101282   7.9250   NaN        S  \n",
       "3        0            113803  53.1000  C123        S  \n",
       "4        0            373450   8.0500   NaN        S  \n",
       "..     ...               ...      ...   ...      ...  \n",
       "886      0            211536  13.0000   NaN        S  \n",
       "887      0            112053  30.0000   B42        S  \n",
       "888      2        W./C. 6607  23.4500   NaN        S  \n",
       "889      0            111369  30.0000  C148        C  \n",
       "890      0            370376   7.7500   NaN        Q  \n",
       "\n",
       "[891 rows x 12 columns]"
      ]
     },
     "execution_count": 281,
     "metadata": {},
     "output_type": "execute_result"
    }
   ],
   "source": [
    "pd.read_csv(\"titanic.csv\")"
   ]
  },
  {
   "cell_type": "code",
   "execution_count": 283,
   "id": "c61c9960",
   "metadata": {},
   "outputs": [
    {
     "data": {
      "text/html": [
       "<div>\n",
       "<style scoped>\n",
       "    .dataframe tbody tr th:only-of-type {\n",
       "        vertical-align: middle;\n",
       "    }\n",
       "\n",
       "    .dataframe tbody tr th {\n",
       "        vertical-align: top;\n",
       "    }\n",
       "\n",
       "    .dataframe thead th {\n",
       "        text-align: right;\n",
       "    }\n",
       "</style>\n",
       "<table border=\"1\" class=\"dataframe\">\n",
       "  <thead>\n",
       "    <tr style=\"text-align: right;\">\n",
       "      <th></th>\n",
       "      <th>PassengerId</th>\n",
       "      <th>Survived</th>\n",
       "      <th>Pclass</th>\n",
       "      <th>Name</th>\n",
       "      <th>Sex</th>\n",
       "      <th>Age</th>\n",
       "      <th>SibSp</th>\n",
       "      <th>Parch</th>\n",
       "      <th>Ticket</th>\n",
       "      <th>Fare</th>\n",
       "      <th>Cabin</th>\n",
       "      <th>Embarked</th>\n",
       "    </tr>\n",
       "  </thead>\n",
       "  <tbody>\n",
       "    <tr>\n",
       "      <th>5</th>\n",
       "      <td>6</td>\n",
       "      <td>0</td>\n",
       "      <td>3</td>\n",
       "      <td>Moran, Mr. James</td>\n",
       "      <td>male</td>\n",
       "      <td>NaN</td>\n",
       "      <td>0</td>\n",
       "      <td>0</td>\n",
       "      <td>330877</td>\n",
       "      <td>8.4583</td>\n",
       "      <td>NaN</td>\n",
       "      <td>Q</td>\n",
       "    </tr>\n",
       "    <tr>\n",
       "      <th>6</th>\n",
       "      <td>7</td>\n",
       "      <td>0</td>\n",
       "      <td>1</td>\n",
       "      <td>McCarthy, Mr. Timothy J</td>\n",
       "      <td>male</td>\n",
       "      <td>54.0</td>\n",
       "      <td>0</td>\n",
       "      <td>0</td>\n",
       "      <td>17463</td>\n",
       "      <td>51.8625</td>\n",
       "      <td>E46</td>\n",
       "      <td>S</td>\n",
       "    </tr>\n",
       "    <tr>\n",
       "      <th>7</th>\n",
       "      <td>8</td>\n",
       "      <td>0</td>\n",
       "      <td>3</td>\n",
       "      <td>Palsson, Master. Gosta Leonard</td>\n",
       "      <td>male</td>\n",
       "      <td>2.0</td>\n",
       "      <td>3</td>\n",
       "      <td>1</td>\n",
       "      <td>349909</td>\n",
       "      <td>21.0750</td>\n",
       "      <td>NaN</td>\n",
       "      <td>S</td>\n",
       "    </tr>\n",
       "    <tr>\n",
       "      <th>8</th>\n",
       "      <td>9</td>\n",
       "      <td>1</td>\n",
       "      <td>3</td>\n",
       "      <td>Johnson, Mrs. Oscar W (Elisabeth Vilhelmina Berg)</td>\n",
       "      <td>female</td>\n",
       "      <td>27.0</td>\n",
       "      <td>0</td>\n",
       "      <td>2</td>\n",
       "      <td>347742</td>\n",
       "      <td>11.1333</td>\n",
       "      <td>NaN</td>\n",
       "      <td>S</td>\n",
       "    </tr>\n",
       "    <tr>\n",
       "      <th>9</th>\n",
       "      <td>10</td>\n",
       "      <td>1</td>\n",
       "      <td>2</td>\n",
       "      <td>Nasser, Mrs. Nicholas (Adele Achem)</td>\n",
       "      <td>female</td>\n",
       "      <td>14.0</td>\n",
       "      <td>1</td>\n",
       "      <td>0</td>\n",
       "      <td>237736</td>\n",
       "      <td>30.0708</td>\n",
       "      <td>NaN</td>\n",
       "      <td>C</td>\n",
       "    </tr>\n",
       "  </tbody>\n",
       "</table>\n",
       "</div>"
      ],
      "text/plain": [
       "   PassengerId  Survived  Pclass  \\\n",
       "5            6         0       3   \n",
       "6            7         0       1   \n",
       "7            8         0       3   \n",
       "8            9         1       3   \n",
       "9           10         1       2   \n",
       "\n",
       "                                                Name     Sex   Age  SibSp  \\\n",
       "5                                   Moran, Mr. James    male   NaN      0   \n",
       "6                            McCarthy, Mr. Timothy J    male  54.0      0   \n",
       "7                     Palsson, Master. Gosta Leonard    male   2.0      3   \n",
       "8  Johnson, Mrs. Oscar W (Elisabeth Vilhelmina Berg)  female  27.0      0   \n",
       "9                Nasser, Mrs. Nicholas (Adele Achem)  female  14.0      1   \n",
       "\n",
       "   Parch  Ticket     Fare Cabin Embarked  \n",
       "5      0  330877   8.4583   NaN        Q  \n",
       "6      0   17463  51.8625   E46        S  \n",
       "7      1  349909  21.0750   NaN        S  \n",
       "8      2  347742  11.1333   NaN        S  \n",
       "9      0  237736  30.0708   NaN        C  "
      ]
     },
     "execution_count": 283,
     "metadata": {},
     "output_type": "execute_result"
    }
   ],
   "source": [
    "df=pd.read_csv(\"titanic.csv\")\n",
    "df[5:10]"
   ]
  },
  {
   "cell_type": "code",
   "execution_count": 284,
   "id": "df75d634",
   "metadata": {},
   "outputs": [],
   "source": [
    "import numpy as np"
   ]
  },
  {
   "cell_type": "code",
   "execution_count": 285,
   "id": "1d70f233",
   "metadata": {},
   "outputs": [],
   "source": [
    "import matplotlib.pyplot as plt"
   ]
  },
  {
   "cell_type": "code",
   "execution_count": 286,
   "id": "58b0a23f",
   "metadata": {},
   "outputs": [
    {
     "data": {
      "text/plain": [
       "'이재명 더불어민주당 대선 후보의 지지도가 한 주 만에 포인트 상승 로 조사됐다 의 지지를 받은 윤석열 국민의힘 대선 후보와는 오차범위 내 격차다'"
      ]
     },
     "execution_count": 286,
     "metadata": {},
     "output_type": "execute_result"
    }
   ],
   "source": [
    "원문"
   ]
  },
  {
   "cell_type": "code",
   "execution_count": 290,
   "id": "347da537",
   "metadata": {},
   "outputs": [],
   "source": [
    "원문1=원문.split(\" \")"
   ]
  },
  {
   "cell_type": "code",
   "execution_count": 292,
   "id": "696ca82e",
   "metadata": {},
   "outputs": [],
   "source": [
    "new=[]\n",
    "for 단어 in 원문1:\n",
    "    if len(단어)<=1:\n",
    "        continue\n",
    "    new.append(단어)"
   ]
  },
  {
   "cell_type": "code",
   "execution_count": 295,
   "id": "633808a9",
   "metadata": {},
   "outputs": [
    {
     "data": {
      "text/plain": [
       "'이재명 더불어민주당 대선 후보의 지지도가 만에 포인트 상승 조사됐다 지지를 받은 윤석열 국민의힘 대선 후보와는 오차범위 격차다'"
      ]
     },
     "execution_count": 295,
     "metadata": {},
     "output_type": "execute_result"
    }
   ],
   "source": [
    "\" \".join(new)"
   ]
  },
  {
   "cell_type": "code",
   "execution_count": 298,
   "id": "6e124b4c",
   "metadata": {},
   "outputs": [
    {
     "data": {
      "text/plain": [
       "'이재명 더불어민주당 대선 후보의 지지도가 한 주 만에 포인트 상승 로 조사됐다 의 지지를 받은 윤석열 국민의힘 대선 후보와는 오차범위 내 격차다'"
      ]
     },
     "execution_count": 298,
     "metadata": {},
     "output_type": "execute_result"
    }
   ],
   "source": [
    "원문"
   ]
  },
  {
   "cell_type": "code",
   "execution_count": 299,
   "id": "d0f6267c",
   "metadata": {},
   "outputs": [
    {
     "ename": "AttributeError",
     "evalue": "'list' object has no attribute 'find'",
     "output_type": "error",
     "traceback": [
      "\u001b[1;31m---------------------------------------------------------------------------\u001b[0m",
      "\u001b[1;31mAttributeError\u001b[0m                            Traceback (most recent call last)",
      "\u001b[1;32m~\\AppData\\Local\\Temp/ipykernel_11160/4196869733.py\u001b[0m in \u001b[0;36m<module>\u001b[1;34m\u001b[0m\n\u001b[1;32m----> 1\u001b[1;33m \u001b[0m원문1\u001b[0m\u001b[1;33m.\u001b[0m\u001b[0mfind\u001b[0m\u001b[1;33m(\u001b[0m\u001b[1;34m\"후보\"\u001b[0m\u001b[1;33m)\u001b[0m\u001b[1;33m\u001b[0m\u001b[1;33m\u001b[0m\u001b[0m\n\u001b[0m",
      "\u001b[1;31mAttributeError\u001b[0m: 'list' object has no attribute 'find'"
     ]
    }
   ],
   "source": [
    "원문1.find(\"후보\")"
   ]
  },
  {
   "cell_type": "code",
   "execution_count": 300,
   "id": "179d03e0",
   "metadata": {},
   "outputs": [
    {
     "data": {
      "text/plain": [
       "14"
      ]
     },
     "execution_count": 300,
     "metadata": {},
     "output_type": "execute_result"
    }
   ],
   "source": [
    "뉴스기사.find(\"후보\")"
   ]
  },
  {
   "cell_type": "code",
   "execution_count": 302,
   "id": "f3f1c54e",
   "metadata": {},
   "outputs": [
    {
     "data": {
      "text/plain": [
       "['격차다']"
      ]
     },
     "execution_count": 302,
     "metadata": {},
     "output_type": "execute_result"
    }
   ],
   "source": [
    "새_단어장"
   ]
  },
  {
   "cell_type": "code",
   "execution_count": 303,
   "id": "761c0c0e",
   "metadata": {},
   "outputs": [
    {
     "data": {
      "text/plain": [
       "'이재명 더불어민주당 대선 후보의 지지도가 만에 포인트 상승 조사됐다 지지를 받은 윤석열 국민의힘 대선 후보와는 오차범위 격차다'"
      ]
     },
     "execution_count": 303,
     "metadata": {},
     "output_type": "execute_result"
    }
   ],
   "source": [
    "뉴스기사"
   ]
  },
  {
   "cell_type": "code",
   "execution_count": 304,
   "id": "773cd943",
   "metadata": {},
   "outputs": [
    {
     "data": {
      "text/plain": [
       "'이재명 더불어민주당 대선 후보의 지지도가 한 주 만에 포인트 상승 로 조사됐다 의 지지를 받은 윤석열 국민의힘 대선 후보와는 오차범위 내 격차다'"
      ]
     },
     "execution_count": 304,
     "metadata": {},
     "output_type": "execute_result"
    }
   ],
   "source": [
    "원문"
   ]
  },
  {
   "cell_type": "code",
   "execution_count": 305,
   "id": "dc5a681f",
   "metadata": {},
   "outputs": [
    {
     "data": {
      "text/plain": [
       "'이재명 더불어민주당 대선 후보의 지지도가 만에 포인트 상승 조사됐다 지지를 받은 윤석열 국민의힘 대선 후보와는 오차범위 격차다'"
      ]
     },
     "execution_count": 305,
     "metadata": {},
     "output_type": "execute_result"
    }
   ],
   "source": [
    "뉴스기사"
   ]
  },
  {
   "cell_type": "code",
   "execution_count": 329,
   "id": "a7ba903a",
   "metadata": {},
   "outputs": [],
   "source": [
    "원문='이재명 더불어민주당 대선 후보의 지지도가 한 주 만에 포인트 상승 로 조사됐다 의 지지를 받은 윤석열 국민의힘 대선 후보와는 오차범위 내 격차다'\n",
    "원문1=원문.split(\" \")\n",
    "box=[]\n",
    "for word in 원문1:\n",
    "    if len(word)<=1:\n",
    "        continue\n",
    "    box.append(word)\n",
    "\" \".join(box)\n",
    "다시만들기=\"\".join(box) \n",
    "#여기서 왜 또 조인 해줘야 하는지 모르겠다. \n",
    "#조인 안하고 그냥 box에서 find 하면 리스트라고 못한다는 말이 뜬다.\n",
    "다시만들기.find(\"후보\")\n",
    "\n",
    "index_후보=다시만들기.find(\"후보\")\n",
    "index_후보=다시만들기.find(\"후보\",index_후보+1)"
   ]
  },
  {
   "cell_type": "code",
   "execution_count": 331,
   "id": "c89ee863",
   "metadata": {},
   "outputs": [
    {
     "data": {
      "text/plain": [
       "['이재명',\n",
       " '더불어민주당',\n",
       " '대선',\n",
       " '후보의',\n",
       " '지지도가',\n",
       " '만에',\n",
       " '포인트',\n",
       " '상승',\n",
       " '조사됐다',\n",
       " '지지를',\n",
       " '받은',\n",
       " '윤석열',\n",
       " '국민의힘',\n",
       " '대선',\n",
       " '후보와는',\n",
       " '오차범위',\n",
       " '격차다']"
      ]
     },
     "execution_count": 331,
     "metadata": {},
     "output_type": "execute_result"
    }
   ],
   "source": [
    "box"
   ]
  },
  {
   "cell_type": "code",
   "execution_count": 324,
   "id": "754f1b2b",
   "metadata": {},
   "outputs": [
    {
     "data": {
      "text/plain": [
       "11"
      ]
     },
     "execution_count": 324,
     "metadata": {},
     "output_type": "execute_result"
    }
   ],
   "source": [
    "index_후보=다시만들기.find(\"후보\")\n",
    "index_후보\n"
   ]
  },
  {
   "cell_type": "code",
   "execution_count": 326,
   "id": "8054d01b",
   "metadata": {},
   "outputs": [
    {
     "data": {
      "text/plain": [
       "-1"
      ]
     },
     "execution_count": 326,
     "metadata": {},
     "output_type": "execute_result"
    }
   ],
   "source": [
    "index_후보=다시만들기.find(\"후보\",index_후보+1)\n",
    "index_후보"
   ]
  },
  {
   "cell_type": "code",
   "execution_count": 328,
   "id": "0dfa53a3",
   "metadata": {},
   "outputs": [
    {
     "name": "stdout",
     "output_type": "stream",
     "text": [
      "내함수입니다\n"
     ]
    }
   ],
   "source": [
    "import my_module_1 as FF\n",
    "FF.내함수()"
   ]
  },
  {
   "cell_type": "code",
   "execution_count": null,
   "id": "1858393f",
   "metadata": {},
   "outputs": [],
   "source": [
    "from"
   ]
  }
 ],
 "metadata": {
  "kernelspec": {
   "display_name": "Python 3 (ipykernel)",
   "language": "python",
   "name": "python3"
  },
  "language_info": {
   "codemirror_mode": {
    "name": "ipython",
    "version": 3
   },
   "file_extension": ".py",
   "mimetype": "text/x-python",
   "name": "python",
   "nbconvert_exporter": "python",
   "pygments_lexer": "ipython3",
   "version": "3.9.7"
  }
 },
 "nbformat": 4,
 "nbformat_minor": 5
}
