{
 "cells": [
  {
   "cell_type": "markdown",
   "id": "a36a9c06",
   "metadata": {},
   "source": [
    "# 숫자"
   ]
  },
  {
   "cell_type": "code",
   "execution_count": 12,
   "id": "d82ec3fa",
   "metadata": {
    "scrolled": true
   },
   "outputs": [
    {
     "data": {
      "text/plain": [
       "3"
      ]
     },
     "execution_count": 12,
     "metadata": {},
     "output_type": "execute_result"
    }
   ],
   "source": [
    "1+2"
   ]
  },
  {
   "cell_type": "code",
   "execution_count": 9,
   "id": "8513f228",
   "metadata": {},
   "outputs": [
    {
     "data": {
      "text/plain": [
       "3"
      ]
     },
     "execution_count": 9,
     "metadata": {},
     "output_type": "execute_result"
    }
   ],
   "source": [
    "5-2"
   ]
  },
  {
   "cell_type": "code",
   "execution_count": 13,
   "id": "999f285b",
   "metadata": {},
   "outputs": [
    {
     "data": {
      "text/plain": [
       "9"
      ]
     },
     "execution_count": 13,
     "metadata": {},
     "output_type": "execute_result"
    }
   ],
   "source": [
    "3*3"
   ]
  },
  {
   "cell_type": "code",
   "execution_count": null,
   "id": "f4e3b260",
   "metadata": {},
   "outputs": [],
   "source": [
    "1"
   ]
  },
  {
   "cell_type": "code",
   "execution_count": 17,
   "id": "71823564",
   "metadata": {},
   "outputs": [
    {
     "data": {
      "text/plain": [
       "2"
      ]
     },
     "execution_count": 17,
     "metadata": {},
     "output_type": "execute_result"
    }
   ],
   "source": [
    "2"
   ]
  },
  {
   "cell_type": "code",
   "execution_count": 18,
   "id": "a5ad3766",
   "metadata": {},
   "outputs": [
    {
     "data": {
      "text/plain": [
       "12"
      ]
     },
     "execution_count": 18,
     "metadata": {},
     "output_type": "execute_result"
    }
   ],
   "source": [
    "14^2"
   ]
  },
  {
   "cell_type": "code",
   "execution_count": null,
   "id": "6e0817d8",
   "metadata": {},
   "outputs": [],
   "source": []
  },
  {
   "cell_type": "markdown",
   "id": "84292ec6",
   "metadata": {},
   "source": [
    "# 문자열(string)"
   ]
  },
  {
   "cell_type": "code",
   "execution_count": 19,
   "id": "78f065ec",
   "metadata": {},
   "outputs": [
    {
     "data": {
      "text/plain": [
       "'Ola'"
      ]
     },
     "execution_count": 19,
     "metadata": {},
     "output_type": "execute_result"
    }
   ],
   "source": [
    "\"Ola\""
   ]
  },
  {
   "cell_type": "code",
   "execution_count": 20,
   "id": "85587706",
   "metadata": {},
   "outputs": [
    {
     "data": {
      "text/plain": [
       "'Ola'"
      ]
     },
     "execution_count": 20,
     "metadata": {},
     "output_type": "execute_result"
    }
   ],
   "source": [
    "'Ola'"
   ]
  },
  {
   "cell_type": "code",
   "execution_count": 21,
   "id": "750eb3c5",
   "metadata": {},
   "outputs": [
    {
     "data": {
      "text/plain": [
       "'123'"
      ]
     },
     "execution_count": 21,
     "metadata": {},
     "output_type": "execute_result"
    }
   ],
   "source": [
    "\"123\""
   ]
  },
  {
   "cell_type": "code",
   "execution_count": 22,
   "id": "62d22e29",
   "metadata": {},
   "outputs": [
    {
     "data": {
      "text/plain": [
       "'배송 빠르고, 맛있다.'"
      ]
     },
     "execution_count": 22,
     "metadata": {},
     "output_type": "execute_result"
    }
   ],
   "source": [
    "\"배송 빠르고, 맛있다.\""
   ]
  },
  {
   "cell_type": "code",
   "execution_count": 23,
   "id": "f5c85be5",
   "metadata": {},
   "outputs": [
    {
     "data": {
      "text/plain": [
       "'Hi there Ola'"
      ]
     },
     "execution_count": 23,
     "metadata": {},
     "output_type": "execute_result"
    }
   ],
   "source": [
    "\"Hi there \"+\"Ola\""
   ]
  },
  {
   "cell_type": "code",
   "execution_count": 24,
   "id": "19be531c",
   "metadata": {},
   "outputs": [
    {
     "data": {
      "text/plain": [
       "'OlaOlaOla'"
      ]
     },
     "execution_count": 24,
     "metadata": {},
     "output_type": "execute_result"
    }
   ],
   "source": [
    "\"Ola\"*3"
   ]
  },
  {
   "cell_type": "code",
   "execution_count": 25,
   "id": "3995381a",
   "metadata": {},
   "outputs": [
    {
     "data": {
      "text/plain": [
       "'Ola  Ola  Ola  '"
      ]
     },
     "execution_count": 25,
     "metadata": {},
     "output_type": "execute_result"
    }
   ],
   "source": [
    "\"Ola  \"*3"
   ]
  },
  {
   "cell_type": "code",
   "execution_count": 26,
   "id": "61f1dea0",
   "metadata": {},
   "outputs": [
    {
     "data": {
      "text/plain": [
       "\"Runnin' down the hill\""
      ]
     },
     "execution_count": 26,
     "metadata": {},
     "output_type": "execute_result"
    }
   ],
   "source": [
    "\"Runnin' down the hill\""
   ]
  },
  {
   "cell_type": "code",
   "execution_count": 34,
   "id": "f53997dc",
   "metadata": {},
   "outputs": [
    {
     "data": {
      "text/plain": [
       "\"Runnin' down the hill\""
      ]
     },
     "execution_count": 34,
     "metadata": {},
     "output_type": "execute_result"
    }
   ],
   "source": [
    "'Runnin\\' down the hill'"
   ]
  },
  {
   "cell_type": "code",
   "execution_count": 41,
   "id": "b75046eb",
   "metadata": {},
   "outputs": [
    {
     "ename": "SyntaxError",
     "evalue": "invalid syntax (Temp/ipykernel_16652/2669802224.py, line 2)",
     "output_type": "error",
     "traceback": [
      "\u001b[1;36m  File \u001b[1;32m\"C:\\Users\\ASIA\\AppData\\Local\\Temp/ipykernel_16652/2669802224.py\"\u001b[1;36m, line \u001b[1;32m2\u001b[0m\n\u001b[1;33m    'Runnin'down the hill'\u001b[0m\n\u001b[1;37m            ^\u001b[0m\n\u001b[1;31mSyntaxError\u001b[0m\u001b[1;31m:\u001b[0m invalid syntax\n"
     ]
    }
   ],
   "source": [
    "#에러를 만나도 당황하지 말기.\n",
    "'Runnin'down the hill'"
   ]
  },
  {
   "cell_type": "markdown",
   "id": "146f06dc",
   "metadata": {},
   "source": [
    "# 함수, 메소드"
   ]
  },
  {
   "cell_type": "code",
   "execution_count": 28,
   "id": "76d88738",
   "metadata": {},
   "outputs": [
    {
     "data": {
      "text/plain": [
       "'OLA'"
      ]
     },
     "execution_count": 28,
     "metadata": {},
     "output_type": "execute_result"
    }
   ],
   "source": [
    "# 문자 열에 upper 메소드 적용했더니, 문자열이 대문자로 바뀜\n",
    "\"Ola\".upper()"
   ]
  },
  {
   "cell_type": "code",
   "execution_count": 29,
   "id": "49b5d66d",
   "metadata": {},
   "outputs": [
    {
     "data": {
      "text/plain": [
       "'ola'"
      ]
     },
     "execution_count": 29,
     "metadata": {},
     "output_type": "execute_result"
    }
   ],
   "source": [
    "\"Ola\".lower()"
   ]
  },
  {
   "cell_type": "code",
   "execution_count": 33,
   "id": "f40265c0",
   "metadata": {},
   "outputs": [
    {
     "data": {
      "text/plain": [
       "9"
      ]
     },
     "execution_count": 33,
     "metadata": {},
     "output_type": "execute_result"
    }
   ],
   "source": [
    "# 주석 Method 사용\n",
    "len(\"Ola\"*3)"
   ]
  },
  {
   "cell_type": "code",
   "execution_count": 40,
   "id": "5181cf96",
   "metadata": {},
   "outputs": [
    {
     "data": {
      "text/plain": [
       "22"
      ]
     },
     "execution_count": 40,
     "metadata": {},
     "output_type": "execute_result"
    }
   ],
   "source": [
    "len(\"기체후_일향만강_하십니까._격조했습니다.\")"
   ]
  },
  {
   "cell_type": "markdown",
   "id": "991a6fc1",
   "metadata": {},
   "source": [
    "# 에러"
   ]
  },
  {
   "cell_type": "code",
   "execution_count": 42,
   "id": "00c60e38",
   "metadata": {},
   "outputs": [
    {
     "ename": "TypeError",
     "evalue": "object of type 'int' has no len()",
     "output_type": "error",
     "traceback": [
      "\u001b[1;31m---------------------------------------------------------------------------\u001b[0m",
      "\u001b[1;31mTypeError\u001b[0m                                 Traceback (most recent call last)",
      "\u001b[1;32m~\\AppData\\Local\\Temp/ipykernel_16652/721693945.py\u001b[0m in \u001b[0;36m<module>\u001b[1;34m\u001b[0m\n\u001b[1;32m----> 1\u001b[1;33m \u001b[0mlen\u001b[0m\u001b[1;33m(\u001b[0m\u001b[1;36m2020200202\u001b[0m\u001b[1;33m)\u001b[0m\u001b[1;33m\u001b[0m\u001b[1;33m\u001b[0m\u001b[0m\n\u001b[0m",
      "\u001b[1;31mTypeError\u001b[0m: object of type 'int' has no len()"
     ]
    }
   ],
   "source": [
    "len(2020200202)"
   ]
  },
  {
   "cell_type": "code",
   "execution_count": null,
   "id": "bca0fa57",
   "metadata": {},
   "outputs": [],
   "source": [
    "# TypeError 확인. int 오류. Stiring으로 바꿔주기. 숫자는 길이를 알 수 없다.\n",
    "#그래도 모르겠으면, TypeError 복사해서 구글링하기."
   ]
  },
  {
   "cell_type": "code",
   "execution_count": 43,
   "id": "c16a5666",
   "metadata": {},
   "outputs": [
    {
     "data": {
      "text/plain": [
       "9"
      ]
     },
     "execution_count": 43,
     "metadata": {},
     "output_type": "execute_result"
    }
   ],
   "source": [
    "len(\"202020202\")"
   ]
  },
  {
   "cell_type": "code",
   "execution_count": 45,
   "id": "d8519df2",
   "metadata": {},
   "outputs": [
    {
     "name": "stdout",
     "output_type": "stream",
     "text": [
      "4321\n"
     ]
    }
   ],
   "source": [
    "a=4321\n",
    "print(a)"
   ]
  },
  {
   "cell_type": "code",
   "execution_count": 50,
   "id": "12b30593",
   "metadata": {},
   "outputs": [
    {
     "data": {
      "text/plain": [
       "4"
      ]
     },
     "execution_count": 50,
     "metadata": {},
     "output_type": "execute_result"
    }
   ],
   "source": [
    "# len(\"1203103\") \"\"로 표기하거나 string 함수로 표기. 결과값 같음\n",
    "len(str(1230))"
   ]
  },
  {
   "cell_type": "code",
   "execution_count": 51,
   "id": "4f4b93dd",
   "metadata": {},
   "outputs": [
    {
     "data": {
      "text/plain": [
       "9"
      ]
     },
     "execution_count": 51,
     "metadata": {},
     "output_type": "execute_result"
    }
   ],
   "source": [
    "len(\"something\")"
   ]
  },
  {
   "cell_type": "code",
   "execution_count": 54,
   "id": "69d7ef10",
   "metadata": {},
   "outputs": [
    {
     "data": {
      "text/plain": [
       "4"
      ]
     },
     "execution_count": 54,
     "metadata": {},
     "output_type": "execute_result"
    }
   ],
   "source": [
    "len(str(2221))"
   ]
  },
  {
   "cell_type": "code",
   "execution_count": 56,
   "id": "ac0659f8",
   "metadata": {},
   "outputs": [
    {
     "data": {
      "text/plain": [
       "6"
      ]
     },
     "execution_count": 56,
     "metadata": {},
     "output_type": "execute_result"
    }
   ],
   "source": [
    "# a라는 변수에 len 함수 결과 저장\n",
    "a= len(\"111111\")\n",
    "a"
   ]
  },
  {
   "cell_type": "code",
   "execution_count": 58,
   "id": "9df87a34",
   "metadata": {},
   "outputs": [
    {
     "name": "stdout",
     "output_type": "stream",
     "text": [
      "6\n",
      "3\n"
     ]
    }
   ],
   "source": [
    "print(a)\n",
    "print(3)"
   ]
  },
  {
   "cell_type": "code",
   "execution_count": 59,
   "id": "5ffe7ecd",
   "metadata": {},
   "outputs": [
    {
     "name": "stdout",
     "output_type": "stream",
     "text": [
      "6\n"
     ]
    }
   ],
   "source": [
    "3\n",
    "print(a)"
   ]
  },
  {
   "cell_type": "markdown",
   "id": "a2698e9f",
   "metadata": {},
   "source": [
    "# 변수"
   ]
  },
  {
   "cell_type": "code",
   "execution_count": 61,
   "id": "a5e920d9",
   "metadata": {},
   "outputs": [],
   "source": [
    "name = \"ola\""
   ]
  },
  {
   "cell_type": "code",
   "execution_count": 62,
   "id": "7f09b018",
   "metadata": {},
   "outputs": [
    {
     "data": {
      "text/plain": [
       "'ola'"
      ]
     },
     "execution_count": 62,
     "metadata": {},
     "output_type": "execute_result"
    }
   ],
   "source": [
    "name"
   ]
  },
  {
   "cell_type": "code",
   "execution_count": 63,
   "id": "a862f246",
   "metadata": {},
   "outputs": [],
   "source": [
    "age=20"
   ]
  },
  {
   "cell_type": "code",
   "execution_count": 64,
   "id": "ccc63773",
   "metadata": {},
   "outputs": [
    {
     "data": {
      "text/plain": [
       "20"
      ]
     },
     "execution_count": 64,
     "metadata": {},
     "output_type": "execute_result"
    }
   ],
   "source": [
    "age"
   ]
  },
  {
   "cell_type": "code",
   "execution_count": 65,
   "id": "262c07fe",
   "metadata": {},
   "outputs": [],
   "source": [
    "name=\"SonJa\""
   ]
  },
  {
   "cell_type": "code",
   "execution_count": 66,
   "id": "cec3ab31",
   "metadata": {},
   "outputs": [
    {
     "data": {
      "text/plain": [
       "'SonJa'"
      ]
     },
     "execution_count": 66,
     "metadata": {},
     "output_type": "execute_result"
    }
   ],
   "source": [
    "name"
   ]
  },
  {
   "cell_type": "code",
   "execution_count": 67,
   "id": "816c0420",
   "metadata": {},
   "outputs": [
    {
     "data": {
      "text/plain": [
       "5"
      ]
     },
     "execution_count": 67,
     "metadata": {},
     "output_type": "execute_result"
    }
   ],
   "source": [
    "len(name)"
   ]
  },
  {
   "cell_type": "code",
   "execution_count": 69,
   "id": "8fa751e1",
   "metadata": {},
   "outputs": [
    {
     "data": {
      "text/plain": [
       "12"
      ]
     },
     "execution_count": 69,
     "metadata": {},
     "output_type": "execute_result"
    }
   ],
   "source": [
    "a=3\n",
    "b=4\n",
    "a*b"
   ]
  },
  {
   "cell_type": "markdown",
   "id": "1af3a342",
   "metadata": {},
   "source": [
    "a=3\n",
    "b=4\n",
    "print(a*b)"
   ]
  },
  {
   "cell_type": "markdown",
   "id": "2c92de0b",
   "metadata": {},
   "source": [
    "#  리스트"
   ]
  },
  {
   "cell_type": "code",
   "execution_count": 74,
   "id": "3a9f8210",
   "metadata": {},
   "outputs": [
    {
     "data": {
      "text/plain": [
       "[3, 5, 12, 20, 36, 42]"
      ]
     },
     "execution_count": 74,
     "metadata": {},
     "output_type": "execute_result"
    }
   ],
   "source": [
    "lottery=[3,5,12,20,36,42]\n",
    "lottery"
   ]
  },
  {
   "cell_type": "code",
   "execution_count": 75,
   "id": "10ac5df2",
   "metadata": {},
   "outputs": [
    {
     "data": {
      "text/plain": [
       "6"
      ]
     },
     "execution_count": 75,
     "metadata": {},
     "output_type": "execute_result"
    }
   ],
   "source": [
    "#len함수 ; 1.문자열, 2.리스트 길이\n",
    "len(lottery)"
   ]
  },
  {
   "cell_type": "code",
   "execution_count": 76,
   "id": "f2512a16",
   "metadata": {},
   "outputs": [
    {
     "data": {
      "text/plain": [
       "[3, 5, 12, 20, 36, 42]"
      ]
     },
     "execution_count": 76,
     "metadata": {},
     "output_type": "execute_result"
    }
   ],
   "source": [
    "lottery"
   ]
  },
  {
   "cell_type": "code",
   "execution_count": 79,
   "id": "026bfe71",
   "metadata": {},
   "outputs": [
    {
     "data": {
      "text/plain": [
       "[3, 5, 12, 20, 36, 42]"
      ]
     },
     "execution_count": 79,
     "metadata": {},
     "output_type": "execute_result"
    }
   ],
   "source": [
    "#tab 누르면 자동 완성.\n",
    "lottery"
   ]
  },
  {
   "cell_type": "code",
   "execution_count": 80,
   "id": "a9b176ed",
   "metadata": {},
   "outputs": [
    {
     "data": {
      "text/plain": [
       "'SonJa'"
      ]
     },
     "execution_count": 80,
     "metadata": {},
     "output_type": "execute_result"
    }
   ],
   "source": [
    "name"
   ]
  },
  {
   "cell_type": "code",
   "execution_count": 81,
   "id": "ac200022",
   "metadata": {},
   "outputs": [
    {
     "data": {
      "text/plain": [
       "6"
      ]
     },
     "execution_count": 81,
     "metadata": {},
     "output_type": "execute_result"
    }
   ],
   "source": [
    "len(lottery)"
   ]
  },
  {
   "cell_type": "code",
   "execution_count": 83,
   "id": "841e0d11",
   "metadata": {},
   "outputs": [],
   "source": [
    "lottery.sort()"
   ]
  },
  {
   "cell_type": "code",
   "execution_count": 84,
   "id": "cc318fc7",
   "metadata": {},
   "outputs": [
    {
     "data": {
      "text/plain": [
       "[3, 5, 12, 20, 36, 42]"
      ]
     },
     "execution_count": 84,
     "metadata": {},
     "output_type": "execute_result"
    }
   ],
   "source": [
    "lottery"
   ]
  },
  {
   "cell_type": "code",
   "execution_count": 88,
   "id": "a6f7a8de",
   "metadata": {},
   "outputs": [
    {
     "data": {
      "text/plain": [
       "[30, 90, 45, 80, 22]"
      ]
     },
     "execution_count": 88,
     "metadata": {},
     "output_type": "execute_result"
    }
   ],
   "source": [
    "grade=[30,90,45,80,22]\n",
    "grade"
   ]
  },
  {
   "cell_type": "code",
   "execution_count": 86,
   "id": "2dac0054",
   "metadata": {},
   "outputs": [],
   "source": [
    "#오름차순 함수\n",
    "grade.sort()"
   ]
  },
  {
   "cell_type": "code",
   "execution_count": 87,
   "id": "96f58091",
   "metadata": {},
   "outputs": [
    {
     "data": {
      "text/plain": [
       "[22, 30, 45, 80, 90]"
      ]
     },
     "execution_count": 87,
     "metadata": {},
     "output_type": "execute_result"
    }
   ],
   "source": [
    "grade"
   ]
  },
  {
   "cell_type": "code",
   "execution_count": 98,
   "id": "1fc8f338",
   "metadata": {},
   "outputs": [],
   "source": [
    "#내림차순\n",
    "lottery.reverse()"
   ]
  },
  {
   "cell_type": "code",
   "execution_count": 99,
   "id": "49ec253e",
   "metadata": {},
   "outputs": [
    {
     "data": {
      "text/plain": [
       "[46, 46, 46, 3, 5, 12, 20, 36, 42]"
      ]
     },
     "execution_count": 99,
     "metadata": {},
     "output_type": "execute_result"
    }
   ],
   "source": [
    "lottery"
   ]
  },
  {
   "cell_type": "code",
   "execution_count": 108,
   "id": "b555e103",
   "metadata": {},
   "outputs": [],
   "source": [
    "lottery.append(46)"
   ]
  },
  {
   "cell_type": "code",
   "execution_count": 111,
   "id": "550c6338",
   "metadata": {},
   "outputs": [
    {
     "data": {
      "text/plain": [
       "[46, 46, 3, 5, 12, 20, 36, 42, 46]"
      ]
     },
     "execution_count": 111,
     "metadata": {},
     "output_type": "execute_result"
    }
   ],
   "source": [
    "lottery"
   ]
  },
  {
   "cell_type": "code",
   "execution_count": 103,
   "id": "580b197c",
   "metadata": {},
   "outputs": [
    {
     "data": {
      "text/plain": [
       "[46, 46, 46, 3, 5, 12, 20, 36, 42]"
      ]
     },
     "execution_count": 103,
     "metadata": {},
     "output_type": "execute_result"
    }
   ],
   "source": [
    "lottery"
   ]
  },
  {
   "cell_type": "markdown",
   "id": "8dd7d93a",
   "metadata": {},
   "source": [
    "## 리스트 인덱싱"
   ]
  },
  {
   "cell_type": "code",
   "execution_count": 97,
   "id": "72d64966",
   "metadata": {},
   "outputs": [
    {
     "data": {
      "text/plain": [
       "42"
      ]
     },
     "execution_count": 97,
     "metadata": {},
     "output_type": "execute_result"
    }
   ],
   "source": [
    "lottery[0]"
   ]
  },
  {
   "cell_type": "code",
   "execution_count": 100,
   "id": "5d9efe64",
   "metadata": {},
   "outputs": [
    {
     "data": {
      "text/plain": [
       "46"
      ]
     },
     "execution_count": 100,
     "metadata": {},
     "output_type": "execute_result"
    }
   ],
   "source": [
    "lottery[1]"
   ]
  },
  {
   "cell_type": "code",
   "execution_count": 102,
   "id": "9312c0c7",
   "metadata": {},
   "outputs": [
    {
     "name": "stdout",
     "output_type": "stream",
     "text": [
      "5\n"
     ]
    }
   ],
   "source": [
    "print(lottery[4])"
   ]
  },
  {
   "cell_type": "code",
   "execution_count": 106,
   "id": "281879b3",
   "metadata": {},
   "outputs": [
    {
     "data": {
      "text/plain": [
       "46"
      ]
     },
     "execution_count": 106,
     "metadata": {},
     "output_type": "execute_result"
    }
   ],
   "source": [
    "lottery.pop(1)"
   ]
  },
  {
   "cell_type": "code",
   "execution_count": 112,
   "id": "db4768e5",
   "metadata": {},
   "outputs": [
    {
     "data": {
      "text/plain": [
       "[46, 46, 3, 5, 12, 20, 36, 42, 46]"
      ]
     },
     "execution_count": 112,
     "metadata": {},
     "output_type": "execute_result"
    }
   ],
   "source": [
    "lottery"
   ]
  },
  {
   "cell_type": "code",
   "execution_count": 116,
   "id": "e6bd8344",
   "metadata": {},
   "outputs": [
    {
     "data": {
      "text/plain": [
       "46"
      ]
     },
     "execution_count": 116,
     "metadata": {},
     "output_type": "execute_result"
    }
   ],
   "source": [
    "lottery.pop(1)"
   ]
  },
  {
   "cell_type": "code",
   "execution_count": 117,
   "id": "5d970b51",
   "metadata": {},
   "outputs": [
    {
     "data": {
      "text/plain": [
       "46"
      ]
     },
     "execution_count": 117,
     "metadata": {},
     "output_type": "execute_result"
    }
   ],
   "source": [
    "lottery.pop(0)"
   ]
  },
  {
   "cell_type": "code",
   "execution_count": 118,
   "id": "e0811023",
   "metadata": {},
   "outputs": [
    {
     "data": {
      "text/plain": [
       "[3, 5, 12, 20, 36, 42, 46]"
      ]
     },
     "execution_count": 118,
     "metadata": {},
     "output_type": "execute_result"
    }
   ],
   "source": [
    "lottery"
   ]
  },
  {
   "cell_type": "code",
   "execution_count": 119,
   "id": "08eb605b",
   "metadata": {},
   "outputs": [],
   "source": [
    "lottery.reverse()"
   ]
  },
  {
   "cell_type": "code",
   "execution_count": 120,
   "id": "1ffc07f0",
   "metadata": {},
   "outputs": [
    {
     "data": {
      "text/plain": [
       "[46, 42, 36, 20, 12, 5, 3]"
      ]
     },
     "execution_count": 120,
     "metadata": {},
     "output_type": "execute_result"
    }
   ],
   "source": [
    "lottery"
   ]
  },
  {
   "cell_type": "code",
   "execution_count": 121,
   "id": "88145cf4",
   "metadata": {},
   "outputs": [],
   "source": [
    "Animal=[\"Rabbit\", \"Lion\", \"Tiger\" ]"
   ]
  },
  {
   "cell_type": "code",
   "execution_count": 122,
   "id": "88cf2478",
   "metadata": {},
   "outputs": [
    {
     "data": {
      "text/plain": [
       "['Rabbit', 'Lion', 'Tiger']"
      ]
     },
     "execution_count": 122,
     "metadata": {},
     "output_type": "execute_result"
    }
   ],
   "source": [
    "Animal"
   ]
  },
  {
   "cell_type": "code",
   "execution_count": 123,
   "id": "92c50038",
   "metadata": {},
   "outputs": [],
   "source": [
    "Animal=['Rabbit', 'Lion', 'Tiger' ]"
   ]
  },
  {
   "cell_type": "code",
   "execution_count": 131,
   "id": "7cc0d0f7",
   "metadata": {},
   "outputs": [
    {
     "data": {
      "text/plain": [
       "['Rabbit', 'Lion', 'Tiger', 'Hamster']"
      ]
     },
     "execution_count": 131,
     "metadata": {},
     "output_type": "execute_result"
    }
   ],
   "source": [
    "Animal"
   ]
  },
  {
   "cell_type": "code",
   "execution_count": 126,
   "id": "57674d8c",
   "metadata": {},
   "outputs": [],
   "source": [
    "Animal.append(\"Hamster\")"
   ]
  },
  {
   "cell_type": "code",
   "execution_count": 127,
   "id": "c835de6f",
   "metadata": {},
   "outputs": [
    {
     "data": {
      "text/plain": [
       "['Rabbit', 'Lion', 'Tiger', 'Hamster']"
      ]
     },
     "execution_count": 127,
     "metadata": {},
     "output_type": "execute_result"
    }
   ],
   "source": [
    "Animal"
   ]
  },
  {
   "cell_type": "code",
   "execution_count": 133,
   "id": "ef5780df",
   "metadata": {},
   "outputs": [
    {
     "data": {
      "text/plain": [
       "'Rabbit'"
      ]
     },
     "execution_count": 133,
     "metadata": {},
     "output_type": "execute_result"
    }
   ],
   "source": [
    "Animal.pop(0)"
   ]
  },
  {
   "cell_type": "code",
   "execution_count": 135,
   "id": "4f217e91",
   "metadata": {},
   "outputs": [
    {
     "ename": "IndexError",
     "evalue": "pop index out of range",
     "output_type": "error",
     "traceback": [
      "\u001b[1;31m---------------------------------------------------------------------------\u001b[0m",
      "\u001b[1;31mIndexError\u001b[0m                                Traceback (most recent call last)",
      "\u001b[1;32m~\\AppData\\Local\\Temp/ipykernel_16652/3190903574.py\u001b[0m in \u001b[0;36m<module>\u001b[1;34m\u001b[0m\n\u001b[0;32m      1\u001b[0m \u001b[1;31m#인덱스 에러 사례. 0부터 시작하니까 4번은 없음\u001b[0m\u001b[1;33m\u001b[0m\u001b[1;33m\u001b[0m\u001b[0m\n\u001b[1;32m----> 2\u001b[1;33m \u001b[0mAnimal\u001b[0m\u001b[1;33m.\u001b[0m\u001b[0mpop\u001b[0m\u001b[1;33m(\u001b[0m\u001b[1;36m4\u001b[0m\u001b[1;33m)\u001b[0m\u001b[1;33m\u001b[0m\u001b[1;33m\u001b[0m\u001b[0m\n\u001b[0m",
      "\u001b[1;31mIndexError\u001b[0m: pop index out of range"
     ]
    }
   ],
   "source": [
    "#인덱스 에러 사례. 0부터 시작하니까 4번은 없음\n",
    "Animal.pop(4)"
   ]
  },
  {
   "cell_type": "code",
   "execution_count": 136,
   "id": "216ac26c",
   "metadata": {},
   "outputs": [
    {
     "data": {
      "text/plain": [
       "90"
      ]
     },
     "execution_count": 136,
     "metadata": {},
     "output_type": "execute_result"
    }
   ],
   "source": [
    "grade.pop(1)"
   ]
  },
  {
   "cell_type": "code",
   "execution_count": 137,
   "id": "468eb991",
   "metadata": {},
   "outputs": [
    {
     "data": {
      "text/plain": [
       "[30, 45, 80, 22]"
      ]
     },
     "execution_count": 137,
     "metadata": {},
     "output_type": "execute_result"
    }
   ],
   "source": [
    "grade"
   ]
  },
  {
   "cell_type": "code",
   "execution_count": 139,
   "id": "90360628",
   "metadata": {},
   "outputs": [],
   "source": [
    "grade.append(90)"
   ]
  },
  {
   "cell_type": "code",
   "execution_count": 140,
   "id": "e7705018",
   "metadata": {},
   "outputs": [
    {
     "data": {
      "text/plain": [
       "[30, 45, 80, 22, 90]"
      ]
     },
     "execution_count": 140,
     "metadata": {},
     "output_type": "execute_result"
    }
   ],
   "source": [
    "grade"
   ]
  },
  {
   "cell_type": "code",
   "execution_count": 141,
   "id": "7d02a246",
   "metadata": {},
   "outputs": [
    {
     "data": {
      "text/plain": [
       "42"
      ]
     },
     "execution_count": 141,
     "metadata": {},
     "output_type": "execute_result"
    }
   ],
   "source": [
    "lottery[1]"
   ]
  },
  {
   "cell_type": "code",
   "execution_count": 143,
   "id": "ec707199",
   "metadata": {},
   "outputs": [],
   "source": [
    "#딕셔너리. Key값:Value값\n",
    "participants={'name':'ola,','country':'Poland','favorite_numbers':[7,42,92]}"
   ]
  },
  {
   "cell_type": "code",
   "execution_count": 144,
   "id": "b174d630",
   "metadata": {},
   "outputs": [
    {
     "data": {
      "text/plain": [
       "'ola,'"
      ]
     },
     "execution_count": 144,
     "metadata": {},
     "output_type": "execute_result"
    }
   ],
   "source": [
    "participants['name']"
   ]
  },
  {
   "cell_type": "code",
   "execution_count": 146,
   "id": "e9b3c5bd",
   "metadata": {},
   "outputs": [
    {
     "data": {
      "text/plain": [
       "[7, 42, 92]"
      ]
     },
     "execution_count": 146,
     "metadata": {},
     "output_type": "execute_result"
    }
   ],
   "source": [
    "participants['favorite_numbers']"
   ]
  },
  {
   "cell_type": "code",
   "execution_count": 148,
   "id": "a890349c",
   "metadata": {},
   "outputs": [],
   "source": [
    "participants['age']=20"
   ]
  },
  {
   "cell_type": "code",
   "execution_count": 149,
   "id": "8374b25e",
   "metadata": {},
   "outputs": [
    {
     "data": {
      "text/plain": [
       "20"
      ]
     },
     "execution_count": 149,
     "metadata": {},
     "output_type": "execute_result"
    }
   ],
   "source": [
    "participants['age']"
   ]
  },
  {
   "cell_type": "code",
   "execution_count": 150,
   "id": "014c1917",
   "metadata": {},
   "outputs": [],
   "source": [
    "participants['favorite_language']='Chinese'"
   ]
  },
  {
   "cell_type": "code",
   "execution_count": 152,
   "id": "8c51aff0",
   "metadata": {},
   "outputs": [
    {
     "data": {
      "text/plain": [
       "5"
      ]
     },
     "execution_count": 152,
     "metadata": {},
     "output_type": "execute_result"
    }
   ],
   "source": [
    "#리스트의 개수\n",
    "len(participants)"
   ]
  },
  {
   "cell_type": "code",
   "execution_count": 153,
   "id": "6344f785",
   "metadata": {},
   "outputs": [
    {
     "data": {
      "text/plain": [
       "True"
      ]
     },
     "execution_count": 153,
     "metadata": {},
     "output_type": "execute_result"
    }
   ],
   "source": [
    "#값 비교하기(참,거짓)\n",
    "5>2"
   ]
  },
  {
   "cell_type": "code",
   "execution_count": 154,
   "id": "e16fac29",
   "metadata": {},
   "outputs": [
    {
     "data": {
      "text/plain": [
       "False"
      ]
     },
     "execution_count": 154,
     "metadata": {},
     "output_type": "execute_result"
    }
   ],
   "source": [
    "2>5"
   ]
  },
  {
   "cell_type": "code",
   "execution_count": 156,
   "id": "a753d536",
   "metadata": {},
   "outputs": [
    {
     "data": {
      "text/plain": [
       "True"
      ]
     },
     "execution_count": 156,
     "metadata": {},
     "output_type": "execute_result"
    }
   ],
   "source": [
    "1==1"
   ]
  },
  {
   "cell_type": "code",
   "execution_count": 157,
   "id": "0f7f0e4e",
   "metadata": {},
   "outputs": [
    {
     "data": {
      "text/plain": [
       "True"
      ]
     },
     "execution_count": 157,
     "metadata": {},
     "output_type": "execute_result"
    }
   ],
   "source": [
    "5!=2"
   ]
  },
  {
   "cell_type": "code",
   "execution_count": 164,
   "id": "02e92d0c",
   "metadata": {},
   "outputs": [
    {
     "name": "stdout",
     "output_type": "stream",
     "text": [
      "It works!\n"
     ]
    }
   ],
   "source": [
    "if 3>2:\n",
    "    print('It works!')\n",
    "else:\n",
    "    print('Not works.')"
   ]
  },
  {
   "cell_type": "code",
   "execution_count": 174,
   "id": "707797b1",
   "metadata": {},
   "outputs": [
    {
     "name": "stdout",
     "output_type": "stream",
     "text": [
      "5가 2보다 크다\n"
     ]
    }
   ],
   "source": [
    "if 5<2:\n",
    "    print('2가 5보다 크다')\n",
    "else: \n",
    "    print('5가 2보다 크다')"
   ]
  },
  {
   "cell_type": "code",
   "execution_count": 175,
   "id": "54a3ddf0",
   "metadata": {},
   "outputs": [
    {
     "name": "stdout",
     "output_type": "stream",
     "text": [
      "Hey, Sonja!\n"
     ]
    }
   ],
   "source": [
    "name='Sonja'\n",
    "if name=='Ola':\n",
    "    print('Hey, Ola!')\n",
    "elif name=='Sonja':\n",
    "    print('Hey, Sonja!')\n",
    "elif name=='Maria':\n",
    "    print('Hey, Maria!')\n",
    "else:\n",
    "    print('Hay, anonymous!')"
   ]
  },
  {
   "cell_type": "code",
   "execution_count": 177,
   "id": "8e2784c8",
   "metadata": {},
   "outputs": [
    {
     "name": "stdout",
     "output_type": "stream",
     "text": [
      "Perfect!\n"
     ]
    }
   ],
   "source": [
    "volume=58\n",
    "if volume<20:\n",
    "    print(\"I can't hear you.\")\n",
    "elif 20<=volume<40:\n",
    "    print(\"it's like a background music,\")\n",
    "elif 40<=volume<60:\n",
    "    print(\"Perfect!\")\n",
    "elif 60<=volume<80:\n",
    "    print(\"it's good for parties.\")\n",
    "elif 80<=volume<100:\n",
    "    print(\"A bit loud...\")\n",
    "else:\n",
    "    print(\"Your ears are hurting!\")"
   ]
  },
  {
   "cell_type": "code",
   "execution_count": 179,
   "id": "9b0cdeaa",
   "metadata": {},
   "outputs": [
    {
     "name": "stdout",
     "output_type": "stream",
     "text": [
      "노년\n"
     ]
    }
   ],
   "source": [
    "age=90\n",
    "if age<20:\n",
    "    print(\"아동\")\n",
    "elif 20<=age<40:\n",
    "    print(\"청년\")\n",
    "elif 40<=age<65:\n",
    "    print(\"중년\")\n",
    "elif 65<=age<100:\n",
    "    print(\"노년\")\n",
    "else:\n",
    "    print(\"역사의 산 증인\")"
   ]
  },
  {
   "cell_type": "code",
   "execution_count": 183,
   "id": "69f8b5e7",
   "metadata": {},
   "outputs": [],
   "source": [
    "zoo={'name':'Horang','cage_number':'138','feed':['chicken','pork','beef']}"
   ]
  },
  {
   "cell_type": "code",
   "execution_count": 184,
   "id": "7ccee0cb",
   "metadata": {},
   "outputs": [
    {
     "data": {
      "text/plain": [
       "'Horang'"
      ]
     },
     "execution_count": 184,
     "metadata": {},
     "output_type": "execute_result"
    }
   ],
   "source": [
    "zoo['name']"
   ]
  },
  {
   "cell_type": "code",
   "execution_count": 185,
   "id": "b9afc57f",
   "metadata": {},
   "outputs": [
    {
     "data": {
      "text/plain": [
       "['chicken', 'pork', 'beef']"
      ]
     },
     "execution_count": 185,
     "metadata": {},
     "output_type": "execute_result"
    }
   ],
   "source": [
    "zoo['feed']"
   ]
  },
  {
   "cell_type": "code",
   "execution_count": 191,
   "id": "c7992240",
   "metadata": {},
   "outputs": [
    {
     "data": {
      "text/plain": [
       "3"
      ]
     },
     "execution_count": 191,
     "metadata": {},
     "output_type": "execute_result"
    }
   ],
   "source": [
    "len(zoo)"
   ]
  },
  {
   "cell_type": "code",
   "execution_count": 200,
   "id": "12479678",
   "metadata": {},
   "outputs": [],
   "source": [
    "User={'name':'Nia','age':'23', 'hope':['Traveling','Becoming Rich','Find True Love']}"
   ]
  },
  {
   "cell_type": "code",
   "execution_count": 201,
   "id": "159e8df2",
   "metadata": {},
   "outputs": [
    {
     "data": {
      "text/plain": [
       "['Traveling', 'Becoming Rich', 'Find True Love']"
      ]
     },
     "execution_count": 201,
     "metadata": {},
     "output_type": "execute_result"
    }
   ],
   "source": [
    "User['hope']"
   ]
  },
  {
   "cell_type": "code",
   "execution_count": 202,
   "id": "8ff23d95",
   "metadata": {},
   "outputs": [],
   "source": [
    "# 주석"
   ]
  },
  {
   "cell_type": "markdown",
   "id": "0ef85525",
   "metadata": {},
   "source": [
    "# 함수 만들기"
   ]
  },
  {
   "cell_type": "code",
   "execution_count": 233,
   "id": "bdab363f",
   "metadata": {},
   "outputs": [],
   "source": [
    "#def로 함수를 정의해보자.\n",
    "def hi():\n",
    "    print(\"Hi there!\")"
   ]
  },
  {
   "cell_type": "code",
   "execution_count": 234,
   "id": "65fcb043",
   "metadata": {},
   "outputs": [
    {
     "name": "stdout",
     "output_type": "stream",
     "text": [
      "Hi there!\n"
     ]
    }
   ],
   "source": [
    "hi()"
   ]
  },
  {
   "cell_type": "code",
   "execution_count": 217,
   "id": "93479988",
   "metadata": {},
   "outputs": [],
   "source": [
    "# 매개변수가 있을 때,(name)\n",
    "def hi(name):\n",
    "    if name==\"Ola\":\n",
    "        print(\"Hi Ola!\")\n",
    "    elif name==\"Sonja\":\n",
    "        print(\"Hi, Sonja!\")\n",
    "    else:\n",
    "        print(\"Hi anonymous.\")"
   ]
  },
  {
   "cell_type": "code",
   "execution_count": 219,
   "id": "761d361d",
   "metadata": {},
   "outputs": [
    {
     "name": "stdout",
     "output_type": "stream",
     "text": [
      "Hi, Sonja!\n"
     ]
    }
   ],
   "source": [
    "hi('Sonja')"
   ]
  },
  {
   "cell_type": "code",
   "execution_count": 230,
   "id": "cf2e5987",
   "metadata": {},
   "outputs": [
    {
     "name": "stdout",
     "output_type": "stream",
     "text": [
      "Hi Mona!\n"
     ]
    },
    {
     "data": {
      "text/plain": [
       "'Mona'"
      ]
     },
     "execution_count": 230,
     "metadata": {},
     "output_type": "execute_result"
    }
   ],
   "source": [
    "def hi(Username):\n",
    "    print('Hi '+Username+'!')\n",
    "#값을 내뱉어라.\n",
    "    return Username\n",
    "    \n",
    "hi(\"Mona\")"
   ]
  },
  {
   "cell_type": "code",
   "execution_count": 235,
   "id": "2e75303f",
   "metadata": {},
   "outputs": [],
   "source": [
    "def hi(name):\n",
    "    print('Hi '+name+\"!\")\n",
    "    return name"
   ]
  },
  {
   "cell_type": "code",
   "execution_count": 236,
   "id": "fb4b90bf",
   "metadata": {},
   "outputs": [
    {
     "name": "stdout",
     "output_type": "stream",
     "text": [
      "Hi Lila!\n"
     ]
    },
    {
     "data": {
      "text/plain": [
       "'Lila'"
      ]
     },
     "execution_count": 236,
     "metadata": {},
     "output_type": "execute_result"
    }
   ],
   "source": [
    "hi(\"Lila\")"
   ]
  },
  {
   "cell_type": "code",
   "execution_count": 243,
   "id": "afffa0a3",
   "metadata": {},
   "outputs": [
    {
     "name": "stdout",
     "output_type": "stream",
     "text": [
      "Give_me_a hotdog_please.\n"
     ]
    },
    {
     "data": {
      "text/plain": [
       "'hotdog'"
      ]
     },
     "execution_count": 243,
     "metadata": {},
     "output_type": "execute_result"
    }
   ],
   "source": [
    "def Give (thing):\n",
    "    print(\"Give_me_a \"+thing+\"_please.\")\n",
    "    return thing\n",
    "Give('hotdog')"
   ]
  },
  {
   "cell_type": "code",
   "execution_count": 245,
   "id": "8f4edb80",
   "metadata": {},
   "outputs": [
    {
     "name": "stdout",
     "output_type": "stream",
     "text": [
      "Give_me_a one_dallor_please.\n"
     ]
    },
    {
     "data": {
      "text/plain": [
       "'one_dallor'"
      ]
     },
     "execution_count": 245,
     "metadata": {},
     "output_type": "execute_result"
    }
   ],
   "source": [
    "Give('one_dallor')"
   ]
  },
  {
   "cell_type": "code",
   "execution_count": 249,
   "id": "99d8f470",
   "metadata": {},
   "outputs": [
    {
     "name": "stdout",
     "output_type": "stream",
     "text": [
      "IU_is_a_best_singer.\n"
     ]
    }
   ],
   "source": [
    "def fan(name):\n",
    "    print(name+\"_is_a_best_singer.\")\n",
    "fan('IU')"
   ]
  },
  {
   "cell_type": "markdown",
   "id": "0fe0d9a3",
   "metadata": {},
   "source": [
    "# 반복문: for문, while문"
   ]
  },
  {
   "cell_type": "code",
   "execution_count": 253,
   "id": "d579aa02",
   "metadata": {},
   "outputs": [
    {
     "data": {
      "text/plain": [
       "['Rachel', 'Monica', 'Amily', 'Shane', 'You']"
      ]
     },
     "execution_count": 253,
     "metadata": {},
     "output_type": "execute_result"
    }
   ],
   "source": [
    "# 집단을 만들어보자.\n",
    "girls=['Rachel','Monica',\"Amily\",\"Shane\",\"You\"]\n",
    "girls"
   ]
  },
  {
   "cell_type": "code",
   "execution_count": 261,
   "id": "7ca217d8",
   "metadata": {},
   "outputs": [
    {
     "name": "stdout",
     "output_type": "stream",
     "text": [
      "Hi Rachel!\n",
      "Hi Monica!\n",
      "Hi Amily!\n",
      "Hi Shane!\n",
      "Hi You!\n"
     ]
    }
   ],
   "source": [
    "def hi(friend):\n",
    "    print('Hi '+friend+\"!\")\n",
    "    return friend\n",
    "#for one in 반복 가능 한 것(range(0~10), 리스트)\n",
    "# 작업 실행문~one~\n",
    "for friend in girls:\n",
    "    hi(friend)\n",
    "   \n",
    "    \n"
   ]
  },
  {
   "cell_type": "code",
   "execution_count": 264,
   "id": "72713a93",
   "metadata": {},
   "outputs": [
    {
     "name": "stdout",
     "output_type": "stream",
     "text": [
      "1\n",
      "2\n",
      "3\n",
      "4\n",
      "5\n",
      "6\n",
      "7\n",
      "8\n",
      "9\n",
      "10\n",
      "11\n",
      "12\n",
      "13\n",
      "14\n",
      "15\n",
      "16\n",
      "17\n"
     ]
    }
   ],
   "source": [
    "#숫자를 i로 표기\n",
    "for i in range(1,18): #(a,b) a이상 b미만\n",
    "    print(i)"
   ]
  },
  {
   "cell_type": "code",
   "execution_count": 267,
   "id": "104af180",
   "metadata": {},
   "outputs": [
    {
     "name": "stdout",
     "output_type": "stream",
     "text": [
      "IU is my favorite.\n",
      "Taeyeon is my favorite.\n",
      "Shinee is my favorite.\n",
      "Exo is my favorite.\n"
     ]
    }
   ],
   "source": [
    "Singer=[\"IU\",\"Taeyeon\",\"Shinee\",\"Exo\"]\n",
    "def fan(name):\n",
    "    print(name+\" is my favorite.\")\n",
    "for name in Singer:\n",
    "    fan(name)"
   ]
  },
  {
   "cell_type": "code",
   "execution_count": 269,
   "id": "36e145c9",
   "metadata": {},
   "outputs": [
    {
     "name": "stdout",
     "output_type": "stream",
     "text": [
      "10\n",
      "11\n",
      "12\n",
      "13\n",
      "14\n"
     ]
    }
   ],
   "source": [
    "for i in range(10,15):\n",
    "    print(i)"
   ]
  },
  {
   "cell_type": "code",
   "execution_count": null,
   "id": "3ae6e0f5",
   "metadata": {},
   "outputs": [],
   "source": []
  }
 ],
 "metadata": {
  "kernelspec": {
   "display_name": "Python 3 (ipykernel)",
   "language": "python",
   "name": "python3"
  },
  "language_info": {
   "codemirror_mode": {
    "name": "ipython",
    "version": 3
   },
   "file_extension": ".py",
   "mimetype": "text/x-python",
   "name": "python",
   "nbconvert_exporter": "python",
   "pygments_lexer": "ipython3",
   "version": "3.9.7"
  }
 },
 "nbformat": 4,
 "nbformat_minor": 5
}
