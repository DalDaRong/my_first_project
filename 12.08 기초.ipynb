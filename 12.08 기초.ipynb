{
 "cells": [
  {
   "cell_type": "code",
   "execution_count": 1,
   "id": "6613e4b2",
   "metadata": {},
   "outputs": [
    {
     "name": "stdout",
     "output_type": "stream",
     "text": [
      "시작정수1\n",
      "종료정수10\n"
     ]
    }
   ],
   "source": [
    "start_num = int(input(\"시작정수\"))\n",
    "end_num = int(input(\"종료정수\"))"
   ]
  },
  {
   "cell_type": "code",
   "execution_count": 7,
   "id": "8ecb5584",
   "metadata": {},
   "outputs": [
    {
     "data": {
      "text/plain": [
       "11"
      ]
     },
     "execution_count": 7,
     "metadata": {},
     "output_type": "execute_result"
    }
   ],
   "source": [
    "# 1 2 3 4 5 6 7 8 9 10"
   ]
  },
  {
   "cell_type": "code",
   "execution_count": 7,
   "id": "51bda860",
   "metadata": {},
   "outputs": [
    {
     "data": {
      "text/plain": [
       "[1, 2, 3, 4, 5, 6, 7, 8, 9, 10]"
      ]
     },
     "execution_count": 7,
     "metadata": {},
     "output_type": "execute_result"
    }
   ],
   "source": [
    "list(range(1,11))"
   ]
  },
  {
   "cell_type": "code",
   "execution_count": 3,
   "id": "30e78d00",
   "metadata": {},
   "outputs": [],
   "source": [
    "a = list(range(1,11))"
   ]
  },
  {
   "cell_type": "code",
   "execution_count": 4,
   "id": "40552fbb",
   "metadata": {},
   "outputs": [
    {
     "data": {
      "text/plain": [
       "[1, 2, 3, 4, 5, 6, 7, 8, 9, 10]"
      ]
     },
     "execution_count": 4,
     "metadata": {},
     "output_type": "execute_result"
    }
   ],
   "source": [
    "a"
   ]
  },
  {
   "cell_type": "code",
   "execution_count": 5,
   "id": "43aaca18",
   "metadata": {},
   "outputs": [
    {
     "data": {
      "text/plain": [
       "55"
      ]
     },
     "execution_count": 5,
     "metadata": {},
     "output_type": "execute_result"
    }
   ],
   "source": [
    "sum(a)"
   ]
  },
  {
   "cell_type": "code",
   "execution_count": 8,
   "id": "434aee0b",
   "metadata": {},
   "outputs": [
    {
     "data": {
      "text/plain": [
       "55"
      ]
     },
     "execution_count": 8,
     "metadata": {},
     "output_type": "execute_result"
    }
   ],
   "source": [
    "sum(list(range(1,11)))"
   ]
  },
  {
   "cell_type": "code",
   "execution_count": 9,
   "id": "b41ff970",
   "metadata": {},
   "outputs": [
    {
     "data": {
      "text/plain": [
       "[1, 2, 3, 4, 5, 6, 7, 8, 9, 10]"
      ]
     },
     "execution_count": 9,
     "metadata": {},
     "output_type": "execute_result"
    }
   ],
   "source": [
    "[x for x in range(1,11)] "
   ]
  },
  {
   "cell_type": "code",
   "execution_count": null,
   "id": "a8579184",
   "metadata": {},
   "outputs": [],
   "source": [
    "# 더해질값:   1,   2,   3,   4, 5, 6, 7, 8, 9, 10\n",
    "# 누적값  : 0+1, 1+2, 3+3, 6+4, "
   ]
  },
  {
   "cell_type": "code",
   "execution_count": 20,
   "id": "283a5c90",
   "metadata": {},
   "outputs": [
    {
     "name": "stdout",
     "output_type": "stream",
     "text": [
      "1/3/6/10/15/21/28/36/45/55/"
     ]
    }
   ],
   "source": [
    "누적값 = 0\n",
    "for 더해질값 in range(1,11):\n",
    "    누적값 = 누적값 + 더해질값\n",
    "    print(누적값, end=\"/\")"
   ]
  },
  {
   "cell_type": "code",
   "execution_count": 15,
   "id": "1e4ab76c",
   "metadata": {},
   "outputs": [
    {
     "name": "stdout",
     "output_type": "stream",
     "text": [
      "55 "
     ]
    }
   ],
   "source": [
    "누적값 = 0\n",
    "for 더해질값 in range(1,11):\n",
    "    누적값 = 누적값 + 더해질값\n",
    "print(누적값, end = \" \")"
   ]
  },
  {
   "cell_type": "code",
   "execution_count": 21,
   "id": "5c66b089",
   "metadata": {},
   "outputs": [
    {
     "name": "stdout",
     "output_type": "stream",
     "text": [
      "1 2 3\n"
     ]
    }
   ],
   "source": [
    "print(1, 2, 3)"
   ]
  },
  {
   "cell_type": "code",
   "execution_count": 23,
   "id": "ad0f6fd0",
   "metadata": {},
   "outputs": [
    {
     "name": "stdout",
     "output_type": "stream",
     "text": [
      "1, 2, 3\n"
     ]
    }
   ],
   "source": [
    "print(1, 2, 3, sep=\", \")"
   ]
  },
  {
   "cell_type": "code",
   "execution_count": 25,
   "id": "76c8e4ba",
   "metadata": {},
   "outputs": [
    {
     "name": "stdout",
     "output_type": "stream",
     "text": [
      "시작정수1\n",
      "종료정수10\n",
      "1 부터 10 까지의 누적 값: 55 "
     ]
    }
   ],
   "source": [
    "start_num = int(input(\"시작정수\"))\n",
    "end_num = int(input(\"종료정수\"))\n",
    "\n",
    "누적값 = 0\n",
    "for 더해질값 in range(1,11):\n",
    "    누적값 = 누적값 + 더해질값\n",
    "print(start_num, \"부터\", end_num,\"까지의 누적 값:\",누적값, end = \" \")"
   ]
  },
  {
   "cell_type": "code",
   "execution_count": 144,
   "id": "78adcf04",
   "metadata": {
    "scrolled": true
   },
   "outputs": [
    {
     "name": "stdout",
     "output_type": "stream",
     "text": [
      "시작정수, 종료정수1 10\n"
     ]
    },
    {
     "ename": "TypeError",
     "evalue": "int() argument must be a string, a bytes-like object or a number, not 'list'",
     "output_type": "error",
     "traceback": [
      "\u001b[1;31m---------------------------------------------------------------------------\u001b[0m",
      "\u001b[1;31mTypeError\u001b[0m                                 Traceback (most recent call last)",
      "\u001b[1;32m~\\AppData\\Local\\Temp/ipykernel_5280/4268430464.py\u001b[0m in \u001b[0;36m<module>\u001b[1;34m\u001b[0m\n\u001b[1;32m----> 1\u001b[1;33m \u001b[0mstart_num\u001b[0m\u001b[1;33m,\u001b[0m \u001b[0mend_num\u001b[0m \u001b[1;33m=\u001b[0m \u001b[0mint\u001b[0m\u001b[1;33m(\u001b[0m\u001b[0minput\u001b[0m\u001b[1;33m(\u001b[0m\u001b[1;34m\"시작정수, 종료정수\"\u001b[0m\u001b[1;33m)\u001b[0m\u001b[1;33m.\u001b[0m\u001b[0msplit\u001b[0m\u001b[1;33m(\u001b[0m\u001b[1;33m)\u001b[0m\u001b[1;33m)\u001b[0m\u001b[1;33m\u001b[0m\u001b[1;33m\u001b[0m\u001b[0m\n\u001b[0m\u001b[0;32m      2\u001b[0m \u001b[0mstart_num\u001b[0m\u001b[1;33m,\u001b[0m \u001b[0mend_num\u001b[0m\u001b[1;33m\u001b[0m\u001b[1;33m\u001b[0m\u001b[0m\n",
      "\u001b[1;31mTypeError\u001b[0m: int() argument must be a string, a bytes-like object or a number, not 'list'"
     ]
    }
   ],
   "source": [
    "start_num, end_num = int(input(\"시작정수, 종료정수\").split())\n",
    "start_num, end_num"
   ]
  },
  {
   "cell_type": "code",
   "execution_count": 34,
   "id": "f976c478",
   "metadata": {},
   "outputs": [
    {
     "name": "stdout",
     "output_type": "stream",
     "text": [
      "시작정수, 종료정수1 10\n"
     ]
    },
    {
     "data": {
      "text/plain": [
       "(1, 10)"
      ]
     },
     "execution_count": 34,
     "metadata": {},
     "output_type": "execute_result"
    }
   ],
   "source": [
    "start_num, end_num = map(int, input(\"시작정수, 종료정수\").split() )\n",
    "start_num, end_num"
   ]
  },
  {
   "cell_type": "code",
   "execution_count": 38,
   "id": "3e231136",
   "metadata": {},
   "outputs": [
    {
     "name": "stdout",
     "output_type": "stream",
     "text": [
      "[60, 59, 58, 57, 56, 55, 54, 53, 52, 51, 50, 49, 48, 47, 46, 45, 44, 43, 42, 41, 40, 39, 38, 37, 36, 35, 34, 33, 32, 31, 30, 29, 28, 27, 26, 25, 24, 23, 22, 21, 20, 19, 18, 17, 16, 15, 14, 13, 12, 11, 10, 9, 8, 7, 6, 5, 4, 3, 2, 1, 0]발사!\n"
     ]
    }
   ],
   "source": [
    "a = [ x for x in range(0,61)]\n",
    "print(a[::-1], end = \"\") ; print(\"발사!\")"
   ]
  },
  {
   "cell_type": "code",
   "execution_count": 40,
   "id": "206048c8",
   "metadata": {},
   "outputs": [
    {
     "name": "stdout",
     "output_type": "stream",
     "text": [
      "[60, 59, 58, 57, 56, 55, 54, 53, 52, 51, 50, 49, 48, 47, 46, 45, 44, 43, 42, 41, 40, 39, 38, 37, 36, 35, 34, 33, 32, 31, 30, 29, 28, 27, 26, 25, 24, 23, 22, 21, 20, 19, 18, 17, 16, 15, 14, 13, 12, 11, 10, 9, 8, 7, 6, 5, 4, 3, 2, 1, 0]\n",
      "발사!\n"
     ]
    }
   ],
   "source": [
    "a=list(range(0,61)) \n",
    "print(a[::-1]);print(\"발사!\")"
   ]
  },
  {
   "cell_type": "code",
   "execution_count": 42,
   "id": "86e349bc",
   "metadata": {},
   "outputs": [
    {
     "name": "stdout",
     "output_type": "stream",
     "text": [
      "60 59 58 57 56 55 54 53 52 51 50 49 48 47 46 45 44 43 42 41 40 39 38 37 36 35 34 33 32 31 30 29 28 27 26 25 24 23 22 21 20 19 18 17 16 15 14 13 12 11 10 9 8 7 6 5 4 3 2 1 0 발사!\n"
     ]
    }
   ],
   "source": [
    "sec=61\n",
    "\n",
    "while sec!=0:\n",
    "    sec = sec-1\n",
    "    print(sec,end=\" \")\n",
    "    \n",
    "print(\"발사!\")\n"
   ]
  },
  {
   "cell_type": "code",
   "execution_count": 45,
   "id": "75e3a861",
   "metadata": {},
   "outputs": [
    {
     "name": "stdout",
     "output_type": "stream",
     "text": [
      "60 59 58 57 56 55 54 53 52 51 50 49 48 47 46 45 44 43 42 41 40 39 38 37 36 35 34 33 32 31 30 29 28 27 26 25 24 23 22 21 20 19 18 17 16 15 14 13 12 11 10 9 8 7 6 5 4 3 2 1 0 발사!\n"
     ]
    }
   ],
   "source": [
    "sec=60\n",
    "\n",
    "while sec>=0:\n",
    "    print(sec,end=\" \")\n",
    "    sec = sec-1\n",
    "    \n",
    "print(\"발사!\")"
   ]
  },
  {
   "cell_type": "code",
   "execution_count": 46,
   "id": "506d991b",
   "metadata": {},
   "outputs": [
    {
     "name": "stdout",
     "output_type": "stream",
     "text": [
      "60 59 58 57 56 55 54 53 52 51 50 49 48 47 46 45 44 43 42 41 40 39 38 37 36 35 34 33 32 31 30 29 28 27 26 25 24 23 22 21 20 19 18 17 16 15 14 13 12 11 10 9 8 7 6 5 4 3 2 1 0 \n",
      "\n",
      "발사!\n"
     ]
    }
   ],
   "source": [
    "for i in range(60, -1, -1):\n",
    "    print(i, end = \" \")\n",
    "print('\\n\\n발사!')"
   ]
  },
  {
   "cell_type": "code",
   "execution_count": 57,
   "id": "7d36e4ab",
   "metadata": {},
   "outputs": [
    {
     "name": "stdout",
     "output_type": "stream",
     "text": [
      "60 59 58 57 56 55 54 53 52 51 50 49 48 47 46 45 44 43 42 41 40 39 38 37 36 35 34 33 32 31 30 29 28 27 26 25 24 23 22 21 20 19 18 17 16 15 14 13 12 11 10 9 8 7 6 5 4 3 2 1 0 \n",
      "\n",
      "발사!\n"
     ]
    }
   ],
   "source": [
    "for a in range(0,61) :\n",
    "    a = 60 - a\n",
    "    print(a,end = \" \")\n",
    "print(\"\\n\\n발사!\")"
   ]
  },
  {
   "cell_type": "code",
   "execution_count": 47,
   "id": "27e8cc57",
   "metadata": {},
   "outputs": [
    {
     "data": {
      "text/plain": [
       "range(0, 3)"
      ]
     },
     "execution_count": 47,
     "metadata": {},
     "output_type": "execute_result"
    }
   ],
   "source": [
    "range(3)"
   ]
  },
  {
   "cell_type": "code",
   "execution_count": 48,
   "id": "eb1206de",
   "metadata": {},
   "outputs": [
    {
     "data": {
      "text/plain": [
       "[0, 1, 2]"
      ]
     },
     "execution_count": 48,
     "metadata": {},
     "output_type": "execute_result"
    }
   ],
   "source": [
    "list(range(3))"
   ]
  },
  {
   "cell_type": "code",
   "execution_count": 53,
   "id": "31b5df01",
   "metadata": {},
   "outputs": [
    {
     "data": {
      "text/plain": [
       "[1, 2, 3, 4, 5, 6, 7, 8, 9, 10]"
      ]
     },
     "execution_count": 53,
     "metadata": {},
     "output_type": "execute_result"
    }
   ],
   "source": [
    "list(range(1, 11))"
   ]
  },
  {
   "cell_type": "code",
   "execution_count": 54,
   "id": "27a9a61e",
   "metadata": {},
   "outputs": [
    {
     "data": {
      "text/plain": [
       "[1, 3, 5, 7, 9]"
      ]
     },
     "execution_count": 54,
     "metadata": {},
     "output_type": "execute_result"
    }
   ],
   "source": [
    "list(range(1, 11, 2))"
   ]
  },
  {
   "cell_type": "code",
   "execution_count": 56,
   "id": "844b218d",
   "metadata": {},
   "outputs": [
    {
     "data": {
      "text/plain": [
       "[10, 9, 8, 7, 6, 5, 4, 3, 2, 1]"
      ]
     },
     "execution_count": 56,
     "metadata": {},
     "output_type": "execute_result"
    }
   ],
   "source": [
    "list(range(10, 0, -1))"
   ]
  },
  {
   "cell_type": "code",
   "execution_count": 63,
   "id": "d5f7485e",
   "metadata": {},
   "outputs": [
    {
     "name": "stdout",
     "output_type": "stream",
     "text": [
      "60 59 58 57 56 55 54 53 52 51 50 49 48 47 46 45 44 43 42 41 40 39 38 37 36 35 34 33 32 31 30 29 28 27 26 25 24 23 22 21 20 19 18 17 16 15 14 13 12 11 10 9 8 7 6 5 4 3 2 1 0 \n",
      "\n",
      "발사!\n",
      "소요시간: 6.126452207565308\n"
     ]
    }
   ],
   "source": [
    "import time\n",
    "\n",
    "time_start = time.time()\n",
    "\n",
    "for i in range(60, -1, -1):\n",
    "    print(i, end = \" \")\n",
    "    time.sleep(0.1)\n",
    "    \n",
    "time_end = time.time()\n",
    "    \n",
    "print('\\n\\n발사!')\n",
    "print(\"소요시간:\", time_end - time_start)"
   ]
  },
  {
   "cell_type": "code",
   "execution_count": 68,
   "id": "35f08a6a",
   "metadata": {},
   "outputs": [
    {
     "name": "stdout",
     "output_type": "stream",
     "text": [
      "60 59 58 57 56 55 54 53 52 51 50 49 48 47 46 45 44 43 42 41 40 39 38 37 36 35 34 33 32 31 30 29 28 27 26 25 24 23 22 21 20 19 18 17 16 15 14 13 12 11 10 9 8 7 6 5 4 3 2 1 0 발사!\n"
     ]
    }
   ],
   "source": [
    "sec=60\n",
    "\n",
    "while sec>=0:\n",
    "    print(sec,end=\" \")\n",
    "    sec = sec-1\n",
    "    \n",
    "print(\"발사!\")"
   ]
  },
  {
   "cell_type": "code",
   "execution_count": 70,
   "id": "90a35441",
   "metadata": {},
   "outputs": [
    {
     "name": "stdout",
     "output_type": "stream",
     "text": [
      "60 59 58 57 56 55 54 53 52 51 50 49 48 47 46 45 44 43 42 41 40 39 38 37 36 35 34 33 32 31 30 29 28 27 26 25 24 23 22 21 20 19 18 17 16 15 14 13 12 11 10 9 8 7 6 5 4 3 2 1 0 발사!\n"
     ]
    }
   ],
   "source": [
    "sec=60\n",
    "\n",
    "while True:\n",
    "    print(sec,end=\" \")\n",
    "    sec = sec-1\n",
    "    if sec < 0: \n",
    "        break\n",
    "    \n",
    "print(\"발사!\")"
   ]
  },
  {
   "cell_type": "code",
   "execution_count": 73,
   "id": "9df59b2e",
   "metadata": {},
   "outputs": [
    {
     "name": "stdout",
     "output_type": "stream",
     "text": [
      "27 28 29 30 28 "
     ]
    }
   ],
   "source": [
    "temper_data = [ 27, 28, 29, 30, 28, -300, 26, 24]\n",
    "for a in temper_data:\n",
    "    if a == -300:\n",
    "        break\n",
    "    print(a, end =  \" \")"
   ]
  },
  {
   "cell_type": "code",
   "execution_count": 74,
   "id": "d35ad895",
   "metadata": {},
   "outputs": [
    {
     "name": "stdout",
     "output_type": "stream",
     "text": [
      "27 28 29 30 28 26 24 "
     ]
    }
   ],
   "source": [
    "temper_data = [ 27, 28, 0, 29, 0, 30, 0, 28, 26, 24]\n",
    "for a in temper_data:\n",
    "    if a == 0:\n",
    "        continue\n",
    "    print(a, end =  \" \")"
   ]
  },
  {
   "cell_type": "code",
   "execution_count": 78,
   "id": "2e50d4b6",
   "metadata": {},
   "outputs": [
    {
     "name": "stdout",
     "output_type": "stream",
     "text": [
      "0 1 2 "
     ]
    }
   ],
   "source": [
    "for i in range(3):\n",
    "    print(i, end =  \" \")"
   ]
  },
  {
   "cell_type": "code",
   "execution_count": 82,
   "id": "9e644d29",
   "metadata": {},
   "outputs": [
    {
     "name": "stdout",
     "output_type": "stream",
     "text": [
      "0 0 0 0 \n",
      "0 0 0 0 \n",
      "0 0 0 0 \n"
     ]
    }
   ],
   "source": [
    "for 행 in range(3):\n",
    "    for 열 in range(4):\n",
    "        print(0, end =  \" \")\n",
    "    print()"
   ]
  },
  {
   "cell_type": "code",
   "execution_count": 83,
   "id": "a3108666",
   "metadata": {},
   "outputs": [
    {
     "name": "stdout",
     "output_type": "stream",
     "text": [
      "1 2 3 4 5 6 7 8 9 \n",
      "2 4 6 8 10 12 14 16 18 \n",
      "3 6 9 12 15 18 21 24 27 \n",
      "4 8 12 16 20 24 28 32 36 \n",
      "5 10 15 20 25 30 35 40 45 \n",
      "6 12 18 24 30 36 42 48 54 \n",
      "7 14 21 28 35 42 49 56 63 \n",
      "8 16 24 32 40 48 56 64 72 \n",
      "9 18 27 36 45 54 63 72 81 \n"
     ]
    }
   ],
   "source": [
    "for a in range(1,10):\n",
    "    for b in range(1,10):\n",
    "        print (a*b,end=\" \")\n",
    "    print()"
   ]
  },
  {
   "cell_type": "code",
   "execution_count": null,
   "id": "fc488890",
   "metadata": {},
   "outputs": [],
   "source": [
    "# 머신 러닝: 정형 데이터: 표\n",
    "# 딥러닝: 비정형 데이터: 표x (이미지, 글자, 시계열)"
   ]
  },
  {
   "cell_type": "code",
   "execution_count": 84,
   "id": "ba41ca33",
   "metadata": {},
   "outputs": [
    {
     "name": "stdout",
     "output_type": "stream",
     "text": [
      "1******\n",
      "12*****\n",
      "123****\n",
      "1234***\n",
      "12345**\n",
      "123456*\n",
      "1234567\n"
     ]
    }
   ],
   "source": [
    "for 행 in range(2,9): # 2, 3, 4, 5, 6, 7, 8\n",
    "    for 열 in range(1, 행): # range(1, 2) => 1 #range(1, 8)\n",
    "        print(열, end=\"\")\n",
    "    별 = \"*\"*(8-행)\n",
    "    print(별)"
   ]
  },
  {
   "cell_type": "code",
   "execution_count": 85,
   "id": "d19ad19d",
   "metadata": {},
   "outputs": [
    {
     "name": "stdout",
     "output_type": "stream",
     "text": [
      "1******\n",
      "12*****\n",
      "123****\n",
      "1234***\n",
      "12345**\n",
      "123456*\n",
      "1234567\n"
     ]
    }
   ],
   "source": [
    "for 행 in range(1,8):\n",
    "    for 열 in range(1,8):\n",
    "        if 행>=열 :\n",
    "            print(열, end=\"\")\n",
    "        elif 열>행 : \n",
    "            print(\"*\",end=\"\")\n",
    "    print()"
   ]
  },
  {
   "cell_type": "code",
   "execution_count": 86,
   "id": "7e9d3803",
   "metadata": {},
   "outputs": [
    {
     "name": "stdout",
     "output_type": "stream",
     "text": [
      "1******\n",
      "12*****\n",
      "123****\n",
      "1234***\n",
      "12345**\n",
      "123456*\n",
      "1234567\n"
     ]
    }
   ],
   "source": [
    "for i in range(1,8):\n",
    "    \n",
    "    for j in range(1,8):      \n",
    "        print(j,end=\"\")\n",
    "        if j>=i:\n",
    "            print(\"*\"*(7-j),end=\"\")\n",
    "            break\n",
    "    print()\n"
   ]
  },
  {
   "cell_type": "code",
   "execution_count": 88,
   "id": "c309ba67",
   "metadata": {},
   "outputs": [
    {
     "name": "stdout",
     "output_type": "stream",
     "text": [
      "양수 입력하세요:1\n",
      "양수 입력하세요:2\n",
      "양수 입력하세요:3\n",
      "양수 입력하세요:-1\n",
      "평균: 2.0 최소값: 1 최대값: 3\n"
     ]
    }
   ],
   "source": [
    "val_list = []\n",
    "while True:\n",
    "    in_val = int(input(\"양수 입력하세요:\"))\n",
    "    if in_val <= 0:\n",
    "        break\n",
    "    val_list.append(in_val)\n",
    "    \n",
    "print(\"평균:\",sum(val_list)/len(val_list),\n",
    "      \"최소값:\", min(val_list),\n",
    "      \"최대값:\", max(val_list))"
   ]
  },
  {
   "cell_type": "code",
   "execution_count": 89,
   "id": "5ea12ea2",
   "metadata": {},
   "outputs": [
    {
     "name": "stdout",
     "output_type": "stream",
     "text": [
      "**********\n",
      " **********\n",
      "  **********\n",
      "   **********\n",
      "    **********\n",
      "     **********\n",
      "      **********\n",
      "       **********\n",
      "        **********\n",
      "         **********\n"
     ]
    }
   ],
   "source": [
    "for 행 in range(10):\n",
    "    print(\" \"*행+\"*\"*10)"
   ]
  },
  {
   "cell_type": "code",
   "execution_count": 90,
   "id": "7a5d4663",
   "metadata": {},
   "outputs": [
    {
     "name": "stdout",
     "output_type": "stream",
     "text": [
      "**********\n",
      " **********\n",
      "  **********\n",
      "   **********\n",
      "    **********\n",
      "     **********\n",
      "      **********\n",
      "       **********\n",
      "        **********\n",
      "         **********\n"
     ]
    }
   ],
   "source": [
    "for i in range(1,11):\n",
    "    print(\" \"*(i-1),end=\"\")\n",
    "    \n",
    "    for j in range(1,11):      \n",
    "        print(\"*\",end=\"\")\n",
    "        \n",
    "    print()\n"
   ]
  },
  {
   "cell_type": "code",
   "execution_count": 91,
   "id": "19e6de0d",
   "metadata": {},
   "outputs": [
    {
     "name": "stdout",
     "output_type": "stream",
     "text": [
      " **********\n",
      "  **********\n",
      "   **********\n",
      "    **********\n",
      "     **********\n",
      "      **********\n",
      "       **********\n",
      "        **********\n",
      "         **********\n",
      "          **********\n"
     ]
    }
   ],
   "source": [
    "for i in range(1, 11): \n",
    "    print(' '*i, end='') \n",
    "    for j in range(1, 11): \n",
    "        print('*', end='') \n",
    "    print()"
   ]
  },
  {
   "cell_type": "code",
   "execution_count": 94,
   "id": "36cc7560",
   "metadata": {},
   "outputs": [
    {
     "name": "stdout",
     "output_type": "stream",
     "text": [
      "**********\n",
      " **********\n",
      "  **********\n",
      "   **********\n",
      "    **********\n",
      "     **********\n",
      "      **********\n",
      "       **********\n",
      "        **********\n",
      "         **********\n"
     ]
    }
   ],
   "source": [
    "for 행 in range(0,10):\n",
    "    for 열 in range(0,10):\n",
    "        if 행>열:\n",
    "            print(\" \", end=\"\")\n",
    "        elif 열<=행: \n",
    "            print(\"*\"*10,end=\"\")\n",
    "    print()\n"
   ]
  },
  {
   "cell_type": "code",
   "execution_count": 97,
   "id": "5b9082e3",
   "metadata": {},
   "outputs": [
    {
     "name": "stdout",
     "output_type": "stream",
     "text": [
      " **********\n",
      "  **********\n",
      "   **********\n",
      "    **********\n",
      "     **********\n",
      "      **********\n",
      "       **********\n",
      "        **********\n",
      "         **********\n",
      "          **********\n"
     ]
    }
   ],
   "source": [
    "for i in range(1, 11):\n",
    "    print(\" \"*(i), end = \"\")\n",
    "    \n",
    "    for j in range(1, 11):\n",
    "        print(\"*\", end=\"\") \n",
    "    print()\n"
   ]
  },
  {
   "cell_type": "code",
   "execution_count": 98,
   "id": "e1ef2262",
   "metadata": {},
   "outputs": [
    {
     "name": "stdout",
     "output_type": "stream",
     "text": [
      "104 개\n"
     ]
    }
   ],
   "source": [
    "count = 0 \n",
    "for a in range(1, 101):\n",
    "    for b in range(1, 101):\n",
    "        for c in range(1, 101):\n",
    "            if a**2 + b**2 == c**2:\n",
    "                count +=1\n",
    "print(count, \"개\")"
   ]
  },
  {
   "cell_type": "code",
   "execution_count": 101,
   "id": "e0a1fe13",
   "metadata": {},
   "outputs": [
    {
     "data": {
      "text/plain": [
       "104"
      ]
     },
     "execution_count": 101,
     "metadata": {},
     "output_type": "execute_result"
    }
   ],
   "source": [
    "new_list = []\n",
    "for a in range(1,101):\n",
    "    for b in range(1,101):\n",
    "        for c in range(1,101):\n",
    "            if a*a+b*b==c*c :\n",
    "                new_list.append([a, b, c])\n",
    "\n",
    "len(new_list)\n"
   ]
  },
  {
   "cell_type": "code",
   "execution_count": 103,
   "id": "0987fad3",
   "metadata": {},
   "outputs": [
    {
     "name": "stdout",
     "output_type": "stream",
     "text": [
      "만족하는 경우의 수: 104\n"
     ]
    }
   ],
   "source": [
    "p_OK= 0\n",
    "for a in range(1, 101):\n",
    "    for b in range(1, 101):\n",
    "        for c in range(1, 101):\n",
    "            if (a * a + b * b) == (c * c):\n",
    "                p_OK += 1                \n",
    "print('만족하는 경우의 수:', p_OK)"
   ]
  },
  {
   "cell_type": "code",
   "execution_count": 105,
   "id": "c729090b",
   "metadata": {},
   "outputs": [
    {
     "name": "stdout",
     "output_type": "stream",
     "text": [
      "104\n"
     ]
    }
   ],
   "source": [
    "n=0\n",
    "for a in range(1, 101):\n",
    "    for b in range(1, 101):\n",
    "        for c in range(1, 101):\n",
    "            if a**2+b**2 == c**2:\n",
    "                n = n + 1\n",
    "print(n)"
   ]
  },
  {
   "cell_type": "code",
   "execution_count": 106,
   "id": "ffba2183",
   "metadata": {},
   "outputs": [],
   "source": [
    "n = 0"
   ]
  },
  {
   "cell_type": "code",
   "execution_count": 107,
   "id": "f52c3d78",
   "metadata": {},
   "outputs": [
    {
     "data": {
      "text/plain": [
       "1"
      ]
     },
     "execution_count": 107,
     "metadata": {},
     "output_type": "execute_result"
    }
   ],
   "source": [
    "n = n + 1\n",
    "n"
   ]
  },
  {
   "cell_type": "code",
   "execution_count": 108,
   "id": "3afdb520",
   "metadata": {},
   "outputs": [
    {
     "data": {
      "text/plain": [
       "2"
      ]
     },
     "execution_count": 108,
     "metadata": {},
     "output_type": "execute_result"
    }
   ],
   "source": [
    "n += 1\n",
    "n"
   ]
  },
  {
   "cell_type": "code",
   "execution_count": 109,
   "id": "9f0600df",
   "metadata": {},
   "outputs": [
    {
     "data": {
      "text/plain": [
       "64"
      ]
     },
     "execution_count": 109,
     "metadata": {},
     "output_type": "execute_result"
    }
   ],
   "source": [
    "4*4*4"
   ]
  },
  {
   "cell_type": "code",
   "execution_count": null,
   "id": "5801fe11",
   "metadata": {},
   "outputs": [],
   "source": [
    "'''\n",
    "4*4 : 6\n",
    "4*4*4 : 16 *4 : 6*4 :4\n",
    "'''"
   ]
  },
  {
   "cell_type": "code",
   "execution_count": null,
   "id": "753f3262",
   "metadata": {},
   "outputs": [],
   "source": [
    "3* ... * 3"
   ]
  },
  {
   "cell_type": "code",
   "execution_count": 110,
   "id": "76b2b590",
   "metadata": {},
   "outputs": [
    {
     "data": {
      "text/plain": [
       "2.5"
      ]
     },
     "execution_count": 110,
     "metadata": {},
     "output_type": "execute_result"
    }
   ],
   "source": [
    "5/2"
   ]
  },
  {
   "cell_type": "code",
   "execution_count": 111,
   "id": "38cdbb4a",
   "metadata": {},
   "outputs": [
    {
     "data": {
      "text/plain": [
       "1"
      ]
     },
     "execution_count": 111,
     "metadata": {},
     "output_type": "execute_result"
    }
   ],
   "source": [
    "5%2"
   ]
  },
  {
   "cell_type": "code",
   "execution_count": 112,
   "id": "d1113613",
   "metadata": {},
   "outputs": [
    {
     "data": {
      "text/plain": [
       "2"
      ]
     },
     "execution_count": 112,
     "metadata": {},
     "output_type": "execute_result"
    }
   ],
   "source": [
    "5%3"
   ]
  },
  {
   "cell_type": "code",
   "execution_count": 113,
   "id": "8cd149cc",
   "metadata": {},
   "outputs": [
    {
     "data": {
      "text/plain": [
       "75240126116825753221233832298262396639265375288188565708651873727659316520817250577669105743539835542441748405719721496784672829847339411482640331635962471604046816683179202537203658470339918124510069244969912802751148015425233205746765755109201209651034350947042481253600880772182962875697237910276637176015640304176439468469994403023813809003504183223641268835051495169544648275835669356083783047640627376370660805245845054926630760625683709188932288243039426675980955031819238419562838818589032988943800573550586386735767268476811040987375451974296972636264910543967836303011328258824090074981412016036286341392348485617137592641583663340608713413771378665834274439519423132499479574601299330297146135341376162816705809177545497126887165985972019880662544358000848577839282071007914393088419232281592610333390782477687986772097174308357584036415148341469803839769601901550004115682646292980964188894247717513015947139050609590245525418035211826776013910286721"
      ]
     },
     "execution_count": 113,
     "metadata": {},
     "output_type": "execute_result"
    }
   ],
   "source": [
    "3**2016"
   ]
  },
  {
   "cell_type": "code",
   "execution_count": 114,
   "id": "587ac142",
   "metadata": {},
   "outputs": [
    {
     "name": "stdout",
     "output_type": "stream",
     "text": [
      "1\n"
     ]
    }
   ],
   "source": [
    "for a in range(1,2017):\n",
    "    a=(3**a)%10\n",
    "print(a)"
   ]
  },
  {
   "cell_type": "code",
   "execution_count": 119,
   "id": "b4c1ba0a",
   "metadata": {},
   "outputs": [
    {
     "name": "stdout",
     "output_type": "stream",
     "text": [
      "1\n"
     ]
    }
   ],
   "source": [
    "mul = 1\n",
    "for a in range(1,2017):\n",
    "    mul=(3*mul)%10\n",
    "print(mul)"
   ]
  },
  {
   "cell_type": "code",
   "execution_count": 116,
   "id": "276dd13d",
   "metadata": {},
   "outputs": [
    {
     "data": {
      "text/plain": [
       "3"
      ]
     },
     "execution_count": 116,
     "metadata": {},
     "output_type": "execute_result"
    }
   ],
   "source": [
    "(1*3)%10"
   ]
  },
  {
   "cell_type": "code",
   "execution_count": 117,
   "id": "fb5a8b1f",
   "metadata": {},
   "outputs": [
    {
     "data": {
      "text/plain": [
       "9"
      ]
     },
     "execution_count": 117,
     "metadata": {},
     "output_type": "execute_result"
    }
   ],
   "source": [
    "(3*3)%10"
   ]
  },
  {
   "cell_type": "code",
   "execution_count": 118,
   "id": "16fc17af",
   "metadata": {},
   "outputs": [
    {
     "data": {
      "text/plain": [
       "7"
      ]
     },
     "execution_count": 118,
     "metadata": {},
     "output_type": "execute_result"
    }
   ],
   "source": [
    "(9*3)%10"
   ]
  },
  {
   "cell_type": "code",
   "execution_count": null,
   "id": "c9aa9d78",
   "metadata": {},
   "outputs": [],
   "source": []
  },
  {
   "cell_type": "code",
   "execution_count": null,
   "id": "c731eb05",
   "metadata": {},
   "outputs": [],
   "source": [
    "3*x + 1 = 10\n",
    "x = 3"
   ]
  },
  {
   "cell_type": "code",
   "execution_count": null,
   "id": "642fccff",
   "metadata": {},
   "outputs": [],
   "source": [
    "3*10 + 1 = 10 #(31-10 : 차21)"
   ]
  },
  {
   "cell_type": "code",
   "execution_count": null,
   "id": "869295d8",
   "metadata": {},
   "outputs": [],
   "source": [
    "3*9 + 1 = 10 #(28-10 : 차18)"
   ]
  },
  {
   "cell_type": "code",
   "execution_count": null,
   "id": "79f4d5c9",
   "metadata": {},
   "outputs": [],
   "source": [
    "3*6 + 1 = 10 #(19-10 : 차 9)"
   ]
  },
  {
   "cell_type": "code",
   "execution_count": null,
   "id": "68597b9d",
   "metadata": {},
   "outputs": [],
   "source": [
    "3*2 + 1 = 10 #(7-10 : 차-3)"
   ]
  },
  {
   "cell_type": "code",
   "execution_count": null,
   "id": "a79408a2",
   "metadata": {},
   "outputs": [],
   "source": [
    "3*3.1 + 1 = 10 #(10.3-10 : 차0.3)"
   ]
  },
  {
   "cell_type": "code",
   "execution_count": null,
   "id": "bac06e27",
   "metadata": {},
   "outputs": [],
   "source": [
    "3*3.05 + 1 = 10 #(10.15-10 : 차0.15)"
   ]
  },
  {
   "cell_type": "code",
   "execution_count": 120,
   "id": "2f1127ac",
   "metadata": {},
   "outputs": [
    {
     "name": "stdout",
     "output_type": "stream",
     "text": [
      "1\n"
     ]
    }
   ],
   "source": [
    "i=1\n",
    "결과 = 1\n",
    "while i<2017:\n",
    "    결과 = 결과*3\n",
    "    i=i+1\n",
    "마지막자리수 = str(결과)[-1:]\n",
    "print(마지막자리수)\n"
   ]
  },
  {
   "cell_type": "code",
   "execution_count": 121,
   "id": "50e68e8b",
   "metadata": {},
   "outputs": [
    {
     "data": {
      "text/plain": [
       "2"
      ]
     },
     "execution_count": 121,
     "metadata": {},
     "output_type": "execute_result"
    }
   ],
   "source": [
    "n = 0\n",
    "n += 1\n",
    "n += 1\n",
    "n"
   ]
  },
  {
   "cell_type": "code",
   "execution_count": 123,
   "id": "9e8f394e",
   "metadata": {},
   "outputs": [
    {
     "data": {
      "text/plain": [
       "4"
      ]
     },
     "execution_count": 123,
     "metadata": {},
     "output_type": "execute_result"
    }
   ],
   "source": [
    "n = 1\n",
    "n *= 2\n",
    "n *= 2\n",
    "n"
   ]
  },
  {
   "cell_type": "code",
   "execution_count": 125,
   "id": "6826e4b8",
   "metadata": {},
   "outputs": [
    {
     "data": {
      "text/plain": [
       "75240126116825753221233832298262396639265375288188565708651873727659316520817250577669105743539835542441748405719721496784672829847339411482640331635962471604046816683179202537203658470339918124510069244969912802751148015425233205746765755109201209651034350947042481253600880772182962875697237910276637176015640304176439468469994403023813809003504183223641268835051495169544648275835669356083783047640627376370660805245845054926630760625683709188932288243039426675980955031819238419562838818589032988943800573550586386735767268476811040987375451974296972636264910543967836303011328258824090074981412016036286341392348485617137592641583663340608713413771378665834274439519423132499479574601299330297146135341376162816705809177545497126887165985972019880662544358000848577839282071007914393088419232281592610333390782477687986772097174308357584036415148341469803839769601901550004115682646292980964188894247717513015947139050609590245525418035211826776013910286721"
      ]
     },
     "execution_count": 125,
     "metadata": {},
     "output_type": "execute_result"
    }
   ],
   "source": [
    "b=1\n",
    "for i in range(0,2016):\n",
    "    b*=3\n",
    "print(b%10)"
   ]
  },
  {
   "cell_type": "code",
   "execution_count": 126,
   "id": "f0f00c3a",
   "metadata": {},
   "outputs": [
    {
     "name": "stdout",
     "output_type": "stream",
     "text": [
      "11\n"
     ]
    }
   ],
   "source": [
    "숫자 = 682\n",
    "횟수 = 0\n",
    "while 숫자!=1:\n",
    "    if 숫자%2 ==1:\n",
    "        숫자 = (숫자*3+1)/2\n",
    "    elif 숫자%2 ==0:\n",
    "        숫자 = 숫자/2\n",
    "    else:\n",
    "        print(\"오류\")\n",
    "    횟수 = 횟수+1\n",
    "print(횟수)\n"
   ]
  },
  {
   "cell_type": "code",
   "execution_count": 128,
   "id": "09d0deda",
   "metadata": {},
   "outputs": [
    {
     "name": "stdout",
     "output_type": "stream",
     "text": [
      "11\n"
     ]
    }
   ],
   "source": [
    "c = 0\n",
    "e = 682\n",
    "\n",
    "while e != 1:\n",
    "    if e%2==0:\n",
    "        e/=2\n",
    "    #    c+=1\n",
    "    else:\n",
    "        e=(e*3+1)/2\n",
    "    #    c+=1\n",
    "    c+=1\n",
    "\n",
    "print(c)\n"
   ]
  },
  {
   "cell_type": "code",
   "execution_count": 129,
   "id": "95cbf1d4",
   "metadata": {},
   "outputs": [
    {
     "name": "stdout",
     "output_type": "stream",
     "text": [
      "11\n"
     ]
    }
   ],
   "source": [
    "a = 682\n",
    "count = 0\n",
    "while True:\n",
    "\n",
    "    if a%2 == 0:\n",
    "        a = a/2\n",
    "        \n",
    "    elif a%2 != 0:\n",
    "        a = (a*3+1)/2\n",
    "        \n",
    "    count+=1\n",
    "    \n",
    "    if a == 1:\n",
    "        break\n",
    "        \n",
    "print(count)\n"
   ]
  },
  {
   "cell_type": "code",
   "execution_count": 130,
   "id": "edf1666f",
   "metadata": {},
   "outputs": [
    {
     "name": "stdout",
     "output_type": "stream",
     "text": [
      "입력:682\n"
     ]
    },
    {
     "data": {
      "text/plain": [
       "11"
      ]
     },
     "execution_count": 130,
     "metadata": {},
     "output_type": "execute_result"
    }
   ],
   "source": [
    "b=0\n",
    "a = int(input('입력:'))\n",
    "while a!=1:\n",
    "    if a%2 == 0:\n",
    "        a=a/2\n",
    "    elif a%2 == 1:\n",
    "        a=(a*3+1)/2\n",
    "    b+=1\n",
    "    a==1\n",
    "b\n"
   ]
  },
  {
   "cell_type": "code",
   "execution_count": null,
   "id": "c076ca87",
   "metadata": {},
   "outputs": [],
   "source": [
    "10 1+0\n",
    "12 1+2\n",
    "14 1+4"
   ]
  },
  {
   "cell_type": "code",
   "execution_count": 139,
   "id": "85672753",
   "metadata": {},
   "outputs": [
    {
     "data": {
      "text/plain": [
       "901"
      ]
     },
     "execution_count": 139,
     "metadata": {},
     "output_type": "execute_result"
    }
   ],
   "source": [
    "총합 = 0\n",
    "for num in range(1, 101):\n",
    "    백의자리 = int(num / 100)\n",
    "    십의자리 = int(num / 10)%10\n",
    "    일의자리 = num % 10\n",
    "    총합 += 십의자리 + 일의자리 + 백의자리\n",
    "총합"
   ]
  },
  {
   "cell_type": "code",
   "execution_count": 143,
   "id": "1b0ad3b4",
   "metadata": {},
   "outputs": [
    {
     "data": {
      "text/plain": [
       "901"
      ]
     },
     "execution_count": 143,
     "metadata": {},
     "output_type": "execute_result"
    }
   ],
   "source": [
    "b=0\n",
    "c=0\n",
    "for n in range(1,101):\n",
    "    if n < 10:\n",
    "        b=n%10\n",
    "    elif 10 <= n <= 99:\n",
    "        b=int(n/10) + n%10\n",
    "    else:\n",
    "        b=int(n/100) + int(n/10)%10 + n%10\n",
    "    c=b+c\n",
    "c\n"
   ]
  },
  {
   "cell_type": "code",
   "execution_count": 136,
   "id": "71af5724",
   "metadata": {},
   "outputs": [
    {
     "name": "stdout",
     "output_type": "stream",
     "text": [
      "911\n"
     ]
    }
   ],
   "source": [
    "sum = 0\n",
    "\n",
    "for i in range(1,101):\n",
    "    sum = sum + int(i/100)+int(i/10)%10+i%10\n",
    "    \n",
    "print(sum)\n"
   ]
  },
  {
   "cell_type": "code",
   "execution_count": 141,
   "id": "4a7f7096",
   "metadata": {},
   "outputs": [
    {
     "data": {
      "text/plain": [
       "(1, 2, 3)"
      ]
     },
     "execution_count": 141,
     "metadata": {},
     "output_type": "execute_result"
    }
   ],
   "source": [
    "i = 123\n",
    "int(i/100),int(i/10)%10,i%10\n"
   ]
  },
  {
   "cell_type": "code",
   "execution_count": 142,
   "id": "9da3dc11",
   "metadata": {},
   "outputs": [
    {
     "data": {
      "text/plain": [
       "911"
      ]
     },
     "execution_count": 142,
     "metadata": {},
     "output_type": "execute_result"
    }
   ],
   "source": [
    "b=0\n",
    "c=0\n",
    "for n in range(1,101):\n",
    "    if n < 10:\n",
    "        b=n%10\n",
    "    elif 10 <= n <= 99:\n",
    "        b=int(n/10) + n%10\n",
    "    else:\n",
    "        b=int(n/100) + int(n/10) + n%10\n",
    "    c=b+c\n",
    "c\n"
   ]
  },
  {
   "cell_type": "code",
   "execution_count": null,
   "id": "a22d320e",
   "metadata": {},
   "outputs": [],
   "source": []
  }
 ],
 "metadata": {
  "kernelspec": {
   "display_name": "Python 3 (ipykernel)",
   "language": "python",
   "name": "python3"
  },
  "language_info": {
   "codemirror_mode": {
    "name": "ipython",
    "version": 3
   },
   "file_extension": ".py",
   "mimetype": "text/x-python",
   "name": "python",
   "nbconvert_exporter": "python",
   "pygments_lexer": "ipython3",
   "version": "3.9.7"
  }
 },
 "nbformat": 4,
 "nbformat_minor": 5
}
