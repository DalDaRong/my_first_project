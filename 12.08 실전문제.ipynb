{
 "cells": [
  {
   "cell_type": "code",
   "execution_count": 2,
   "id": "c82696c7",
   "metadata": {},
   "outputs": [
    {
     "name": "stdout",
     "output_type": "stream",
     "text": [
      "[1, 2, 3, 4, 5, 6, 7, 8, 9, 10]\n"
     ]
    }
   ],
   "source": [
    "print(list(range(1,11)))"
   ]
  },
  {
   "cell_type": "code",
   "execution_count": 3,
   "id": "2dc73ee7",
   "metadata": {},
   "outputs": [],
   "source": [
    "a=list(range(1,11))"
   ]
  },
  {
   "cell_type": "code",
   "execution_count": 4,
   "id": "d499ab45",
   "metadata": {},
   "outputs": [
    {
     "data": {
      "text/plain": [
       "55"
      ]
     },
     "execution_count": 4,
     "metadata": {},
     "output_type": "execute_result"
    }
   ],
   "source": [
    "sum(a)"
   ]
  },
  {
   "cell_type": "code",
   "execution_count": 67,
   "id": "8ea33b6e",
   "metadata": {},
   "outputs": [
    {
     "data": {
      "text/plain": [
       "[1, 2, 3, 4, 5, 6, 7, 8, 9, 10]"
      ]
     },
     "execution_count": 67,
     "metadata": {},
     "output_type": "execute_result"
    }
   ],
   "source": [
    "[x for x in range(1,11)]"
   ]
  },
  {
   "cell_type": "code",
   "execution_count": 6,
   "id": "27aacdb3",
   "metadata": {},
   "outputs": [],
   "source": [
    "#1   2   3    4 5 6 7 8 9 10\n",
    "#1 1+2 1+2+3 ..."
   ]
  },
  {
   "cell_type": "code",
   "execution_count": 73,
   "id": "371df53e",
   "metadata": {},
   "outputs": [
    {
     "ename": "KeyboardInterrupt",
     "evalue": "Interrupted by user",
     "output_type": "error",
     "traceback": [
      "\u001b[1;31m---------------------------------------------------------------------------\u001b[0m",
      "\u001b[1;31mKeyboardInterrupt\u001b[0m                         Traceback (most recent call last)",
      "\u001b[1;32m~\\AppData\\Local\\Temp/ipykernel_3040/4177769268.py\u001b[0m in \u001b[0;36m<module>\u001b[1;34m\u001b[0m\n\u001b[1;32m----> 1\u001b[1;33m \u001b[0mstart_num\u001b[0m\u001b[1;33m=\u001b[0m\u001b[0minput\u001b[0m\u001b[1;33m(\u001b[0m\u001b[1;34m\"시작정수\"\u001b[0m\u001b[1;33m)\u001b[0m\u001b[1;33m\u001b[0m\u001b[1;33m\u001b[0m\u001b[0m\n\u001b[0m\u001b[0;32m      2\u001b[0m \u001b[0mend_num\u001b[0m\u001b[1;33m=\u001b[0m\u001b[0minput\u001b[0m\u001b[1;33m(\u001b[0m\u001b[1;34m\"종료정수\"\u001b[0m\u001b[1;33m)\u001b[0m\u001b[1;33m\u001b[0m\u001b[1;33m\u001b[0m\u001b[0m\n\u001b[0;32m      3\u001b[0m \u001b[1;33m\u001b[0m\u001b[0m\n\u001b[0;32m      4\u001b[0m \u001b[0m누적값\u001b[0m\u001b[1;33m=\u001b[0m\u001b[1;36m0\u001b[0m\u001b[1;33m\u001b[0m\u001b[1;33m\u001b[0m\u001b[0m\n\u001b[0;32m      5\u001b[0m \u001b[1;32mfor\u001b[0m \u001b[0m더해질값\u001b[0m \u001b[1;32min\u001b[0m \u001b[0mrange\u001b[0m\u001b[1;33m(\u001b[0m\u001b[1;36m1\u001b[0m\u001b[1;33m,\u001b[0m\u001b[1;36m10\u001b[0m\u001b[1;33m)\u001b[0m\u001b[1;33m:\u001b[0m\u001b[1;33m\u001b[0m\u001b[1;33m\u001b[0m\u001b[0m\n",
      "\u001b[1;32mC:\\ProgramData\\Anaconda3\\lib\\site-packages\\ipykernel\\kernelbase.py\u001b[0m in \u001b[0;36mraw_input\u001b[1;34m(self, prompt)\u001b[0m\n\u001b[0;32m   1004\u001b[0m                 \u001b[1;34m\"raw_input was called, but this frontend does not support input requests.\"\u001b[0m\u001b[1;33m\u001b[0m\u001b[1;33m\u001b[0m\u001b[0m\n\u001b[0;32m   1005\u001b[0m             )\n\u001b[1;32m-> 1006\u001b[1;33m         return self._input_request(\n\u001b[0m\u001b[0;32m   1007\u001b[0m             \u001b[0mstr\u001b[0m\u001b[1;33m(\u001b[0m\u001b[0mprompt\u001b[0m\u001b[1;33m)\u001b[0m\u001b[1;33m,\u001b[0m\u001b[1;33m\u001b[0m\u001b[1;33m\u001b[0m\u001b[0m\n\u001b[0;32m   1008\u001b[0m             \u001b[0mself\u001b[0m\u001b[1;33m.\u001b[0m\u001b[0m_parent_ident\u001b[0m\u001b[1;33m[\u001b[0m\u001b[1;34m\"shell\"\u001b[0m\u001b[1;33m]\u001b[0m\u001b[1;33m,\u001b[0m\u001b[1;33m\u001b[0m\u001b[1;33m\u001b[0m\u001b[0m\n",
      "\u001b[1;32mC:\\ProgramData\\Anaconda3\\lib\\site-packages\\ipykernel\\kernelbase.py\u001b[0m in \u001b[0;36m_input_request\u001b[1;34m(self, prompt, ident, parent, password)\u001b[0m\n\u001b[0;32m   1049\u001b[0m             \u001b[1;32mexcept\u001b[0m \u001b[0mKeyboardInterrupt\u001b[0m\u001b[1;33m:\u001b[0m\u001b[1;33m\u001b[0m\u001b[1;33m\u001b[0m\u001b[0m\n\u001b[0;32m   1050\u001b[0m                 \u001b[1;31m# re-raise KeyboardInterrupt, to truncate traceback\u001b[0m\u001b[1;33m\u001b[0m\u001b[1;33m\u001b[0m\u001b[0m\n\u001b[1;32m-> 1051\u001b[1;33m                 \u001b[1;32mraise\u001b[0m \u001b[0mKeyboardInterrupt\u001b[0m\u001b[1;33m(\u001b[0m\u001b[1;34m\"Interrupted by user\"\u001b[0m\u001b[1;33m)\u001b[0m \u001b[1;32mfrom\u001b[0m \u001b[1;32mNone\u001b[0m\u001b[1;33m\u001b[0m\u001b[1;33m\u001b[0m\u001b[0m\n\u001b[0m\u001b[0;32m   1052\u001b[0m             \u001b[1;32mexcept\u001b[0m \u001b[0mException\u001b[0m\u001b[1;33m:\u001b[0m\u001b[1;33m\u001b[0m\u001b[1;33m\u001b[0m\u001b[0m\n\u001b[0;32m   1053\u001b[0m                 \u001b[0mself\u001b[0m\u001b[1;33m.\u001b[0m\u001b[0mlog\u001b[0m\u001b[1;33m.\u001b[0m\u001b[0mwarning\u001b[0m\u001b[1;33m(\u001b[0m\u001b[1;34m\"Invalid Message:\"\u001b[0m\u001b[1;33m,\u001b[0m \u001b[0mexc_info\u001b[0m\u001b[1;33m=\u001b[0m\u001b[1;32mTrue\u001b[0m\u001b[1;33m)\u001b[0m\u001b[1;33m\u001b[0m\u001b[1;33m\u001b[0m\u001b[0m\n",
      "\u001b[1;31mKeyboardInterrupt\u001b[0m: Interrupted by user"
     ]
    }
   ],
   "source": [
    "start_num=input(\"시작정수\")\n",
    "end_num=input(\"종료정수\")\n",
    "\n",
    "누적값=0\n",
    "for 더해질값 in range(1,10):\n",
    "    누적값=누적값+더해질값\n",
    "    print(누적값, end=\"\")\n"
   ]
  },
  {
   "cell_type": "code",
   "execution_count": null,
   "id": "236d0fab",
   "metadata": {},
   "outputs": [],
   "source": [
    "start_num,end_num=map(float,input(\"시작정수,종료정수\").split())\n",
    "start_num,end_num"
   ]
  },
  {
   "cell_type": "code",
   "execution_count": 50,
   "id": "fda5e0a1",
   "metadata": {},
   "outputs": [
    {
     "name": "stdout",
     "output_type": "stream",
     "text": [
      "[1, 2, 3, 4, 5, 6, 7, 8, 9, 10, 11, 12, 13, 14, 15, 16, 17, 18, 19, 20, 21, 22, 23, 24, 25, 26, 27, 28, 29, 30, 31, 32, 33, 34, 35, 36, 37, 38, 39, 40, 41, 42, 43, 44, 45, 46, 47, 48, 49, 50, 51, 52, 53, 54, 55, 56, 57, 58, 59, 60]\n"
     ]
    }
   ],
   "source": [
    "print(list(range(1,61)))"
   ]
  },
  {
   "cell_type": "code",
   "execution_count": 63,
   "id": "d1ed4407",
   "metadata": {},
   "outputs": [],
   "source": [
    "a=list(range(0,61))"
   ]
  },
  {
   "cell_type": "code",
   "execution_count": 70,
   "id": "dda32e80",
   "metadata": {},
   "outputs": [
    {
     "name": "stdout",
     "output_type": "stream",
     "text": [
      "[60, 59, 58, 57, 56, 55, 54, 53, 52, 51, 50, 49, 48, 47, 46, 45, 44, 43, 42, 41, 40, 39, 38, 37, 36, 35, 34, 33, 32, 31, 30, 29, 28, 27, 26, 25, 24, 23, 22, 21, 20, 19, 18, 17, 16, 15, 14, 13, 12, 11, 10, 9, 8, 7, 6, 5, 4, 3, 2, 1, 0]\n",
      "발사!\n"
     ]
    }
   ],
   "source": [
    "print(a[::-1]);print(\"발사!\")"
   ]
  },
  {
   "cell_type": "code",
   "execution_count": 71,
   "id": "7d76e716",
   "metadata": {},
   "outputs": [
    {
     "name": "stdout",
     "output_type": "stream",
     "text": [
      "[60, 59, 58, 57, 56, 55, 54, 53, 52, 51, 50, 49, 48, 47, 46, 45, 44, 43, 42, 41, 40, 39, 38, 37, 36, 35, 34, 33, 32, 31, 30, 29, 28, 27, 26, 25, 24, 23, 22, 21, 20, 19, 18, 17, 16, 15, 14, 13, 12, 11, 10, 9, 8, 7, 6, 5, 4, 3, 2, 1, 0] 발사!\n"
     ]
    }
   ],
   "source": [
    "a=[x for x in range(0,61)]\n",
    "print(a[::-1],end=\" \");print(\"발사!\")"
   ]
  },
  {
   "cell_type": "code",
   "execution_count": 107,
   "id": "0deebc1e",
   "metadata": {},
   "outputs": [
    {
     "name": "stdout",
     "output_type": "stream",
     "text": [
      "60 59 58 57 56 55 54 53 52 51 50 49 48 47 46 45 44 43 42 41 40 39 38 37 36 35 34 33 32 31 30 29 28 27 26 25 24 23 22 21 20 19 18 17 16 15 14 13 12 11 10 9 8 7 6 5 4 3 2 1 0 \n",
      "\n",
      "발사!\n",
      "소요시간 61.530853033065796\n"
     ]
    }
   ],
   "source": [
    "import time\n",
    "#지금 시간 time.time()\n",
    "time_start=time.time()\n",
    "\n",
    "for a in range(60,-1,-1):\n",
    "    print(a,end=\" \")\n",
    "    #시간 1초씩 쉬어주세요\n",
    "    time.sleep(1)\n",
    "    \n",
    "#작업 후 시간 time.time()\n",
    "time_end=time.time()\n",
    "\n",
    "print(\"\\n\\n발사!\")\n",
    "print(\"소요시간\",time_end-time_start)"
   ]
  },
  {
   "cell_type": "code",
   "execution_count": 117,
   "id": "45f57fd0",
   "metadata": {},
   "outputs": [
    {
     "name": "stdout",
     "output_type": "stream",
     "text": [
      "60 59 58 57 56 55 54 53 52 51 50 49 48 47 46 45 44 43 42 41 40 39 38 37 36 35 34 33 32 31 30 29 28 27 26 25 24 23 22 21 20 19 18 17 16 15 14 13 12 11 10 9 8 7 6 5 4 3 2 1 0 "
     ]
    }
   ],
   "source": [
    "\n",
    "\n",
    "sec=60\n",
    "while sec>=0:\n",
    "    print(sec,end=\" \")\n",
    "    sec=sec-1\n"
   ]
  },
  {
   "cell_type": "code",
   "execution_count": 118,
   "id": "b24f23c5",
   "metadata": {
    "scrolled": true
   },
   "outputs": [
    {
     "name": "stdout",
     "output_type": "stream",
     "text": [
      "60 59 58 57 56 55 54 53 52 51 50 49 48 47 46 45 44 43 42 41 40 39 38 37 36 35 34 33 32 31 30 29 28 27 26 25 24 23 22 21 20 19 18 17 16 15 14 13 12 11 10 9 8 7 6 5 4 3 2 1 0 발사!\n"
     ]
    }
   ],
   "source": [
    "\n",
    "\n",
    "sec=60\n",
    "#무한히 수행하세요\n",
    "while True:\n",
    "    print(sec,end=\" \")\n",
    "    sec=sec-1\n",
    "    #0보다 작아지면\n",
    "    if sec<0:\n",
    "        #그만하세요\n",
    "        break\n",
    "print(\"발사!\")"
   ]
  },
  {
   "cell_type": "code",
   "execution_count": 126,
   "id": "1dfc8a53",
   "metadata": {},
   "outputs": [
    {
     "name": "stdout",
     "output_type": "stream",
     "text": [
      "27 28 29 30 28 "
     ]
    }
   ],
   "source": [
    "temper_data=[27,28,29,30,28,-300,26,24]\n",
    "for a in temper_data:\n",
    "    #영하 300도는 불가능해. 그게 나오면 멈춰라.\n",
    "    if a==-300:\n",
    "        break\n",
    "    print(a,end=\" \")"
   ]
  },
  {
   "cell_type": "code",
   "execution_count": 128,
   "id": "6845b3b0",
   "metadata": {},
   "outputs": [
    {
     "name": "stdout",
     "output_type": "stream",
     "text": [
      "27 28 29 30 28 26 24 "
     ]
    }
   ],
   "source": [
    "temper_data=[27,28,29,30,28,0,26,24]\n",
    "for a in temper_data:\n",
    "    #갑자기 0도면 기계 고장. 그럼 걔만 빼라.\n",
    "    if a==0:\n",
    "        continue\n",
    "    print(a,end=\" \")"
   ]
  },
  {
   "cell_type": "code",
   "execution_count": 157,
   "id": "584507d1",
   "metadata": {},
   "outputs": [
    {
     "ename": "IndentationError",
     "evalue": "expected an indented block (Temp/ipykernel_3040/1826535529.py, line 7)",
     "output_type": "error",
     "traceback": [
      "\u001b[1;36m  File \u001b[1;32m\"C:\\Users\\User\\AppData\\Local\\Temp/ipykernel_3040/1826535529.py\"\u001b[1;36m, line \u001b[1;32m7\u001b[0m\n\u001b[1;33m    print(a*b,,end=\" \")\u001b[0m\n\u001b[1;37m    ^\u001b[0m\n\u001b[1;31mIndentationError\u001b[0m\u001b[1;31m:\u001b[0m expected an indented block\n"
     ]
    }
   ],
   "source": [
    "#a를 1부터 9까지 쓴다.\n",
    "\n",
    "for a in range(1,10):\n",
    "    #그 행마다 열을 9개 쓴다.\n",
    "    for b in range(1,10):\n",
    "        #각 행에는 곱한 값을 적는다. #줄바꿈 없애려고 end\n",
    "    print(a*b,,end=\" \")\n",
    "    #줄바꿈 기능\n",
    "    print()"
   ]
  },
  {
   "cell_type": "code",
   "execution_count": 162,
   "id": "5bba422f",
   "metadata": {},
   "outputs": [
    {
     "name": "stdout",
     "output_type": "stream",
     "text": [
      "1 2 3 4 5 6 7 8 9 \n",
      "2 4 6 8 10 12 14 16 18 \n",
      "3 6 9 12 15 18 21 24 27 \n",
      "4 8 12 16 20 24 28 32 36 \n",
      "5 10 15 20 25 30 35 40 45 \n",
      "6 12 18 24 30 36 42 48 54 \n",
      "7 14 21 28 35 42 49 56 63 \n",
      "8 16 24 32 40 48 56 64 72 \n",
      "9 18 27 36 45 54 63 72 81 \n"
     ]
    }
   ],
   "source": [
    "for a in range(1,10):\n",
    "    \n",
    "    for b in range(1,10):\n",
    "        print(a*b,end=\" \")\n",
    "   \n",
    "    print()\n"
   ]
  },
  {
   "cell_type": "code",
   "execution_count": 175,
   "id": "d88833a2",
   "metadata": {},
   "outputs": [
    {
     "name": "stdout",
     "output_type": "stream",
     "text": [
      "\n",
      "2 \n",
      "3 3 \n",
      "4 4 4 \n",
      "5 5 5 5 \n",
      "6 6 6 6 6 \n",
      "7 7 7 7 7 7 \n"
     ]
    }
   ],
   "source": [
    "for a in range(1,8):\n",
    "    for b in range(1,8):\n",
    "        if a>=b: print(a,end=\" \")\n",
    "        elif b>a: print(\"*\",end=\" \")\n",
    "    print()\n"
   ]
  },
  {
   "cell_type": "code",
   "execution_count": 178,
   "id": "12810924",
   "metadata": {},
   "outputs": [
    {
     "name": "stdout",
     "output_type": "stream",
     "text": [
      "1******\n",
      "12*****\n",
      "123****\n",
      "1234***\n",
      "12345**\n",
      "123456*\n",
      "1234567\n"
     ]
    }
   ],
   "source": [
    "for i in range(2,9):\n",
    "    for a in range(1,i):\n",
    "        print(a, end=\"\")\n",
    "    b = \"*\"*(8-i)\n",
    "    print(b)\n"
   ]
  },
  {
   "cell_type": "code",
   "execution_count": 184,
   "id": "2420462a",
   "metadata": {},
   "outputs": [
    {
     "name": "stdout",
     "output_type": "stream",
     "text": [
      "1 * * * * * * \n",
      "1 2 * * * * * \n",
      "1 2 3 * * * * \n",
      "1 2 3 4 * * * \n",
      "1 2 3 4 5 * * \n",
      "1 2 3 4 5 6 * \n",
      "1 2 3 4 5 6 7 \n"
     ]
    }
   ],
   "source": [
    "for a in range(1,8):\n",
    "    for b in range(1,8):\n",
    "        if a>=b: print(b,end=\" \")\n",
    "        elif b>a: print(\"*\",end=\" \")\n",
    "    print()\n"
   ]
  },
  {
   "cell_type": "code",
   "execution_count": 183,
   "id": "ac50a077",
   "metadata": {
    "scrolled": true
   },
   "outputs": [
    {
     "name": "stdout",
     "output_type": "stream",
     "text": [
      "1******\n",
      "12*****\n",
      "123****\n",
      "1234***\n",
      "12345**\n",
      "123456*\n",
      "1234567\n"
     ]
    }
   ],
   "source": [
    "for i in range(1,8):\n",
    "    \n",
    "    for j in range(1,8):      \n",
    "        print(j,end=\"\")\n",
    "        if j>=i:\n",
    "            print(\"*\"*(7-j),end=\"\")\n",
    "            break\n",
    "    print()\n"
   ]
  },
  {
   "cell_type": "code",
   "execution_count": 185,
   "id": "810b80eb",
   "metadata": {
    "scrolled": true
   },
   "outputs": [
    {
     "name": "stdout",
     "output_type": "stream",
     "text": [
      "1******\n",
      "12*****\n",
      "123****\n",
      "1234***\n",
      "12345**\n",
      "123456*\n",
      "1234567\n"
     ]
    }
   ],
   "source": [
    "for i in range(2,9):#2,부터 9미만으로 해야 2,3,4,5,6,7,8됨\n",
    "    for a in range(1,i):#1부터 8미만\n",
    "        print(a, end=\"\")\n",
    "    b = \"*\"*(8-i)\n",
    "    print(b)\n"
   ]
  },
  {
   "cell_type": "code",
   "execution_count": 197,
   "id": "a13a876d",
   "metadata": {},
   "outputs": [
    {
     "name": "stdout",
     "output_type": "stream",
     "text": [
      "1******\n",
      "12*****\n",
      "123****\n",
      "1234***\n",
      "12345**\n",
      "123456*\n",
      "1234567\n"
     ]
    }
   ],
   "source": [
    "for 행 in range(1,8):\n",
    "    \n",
    "    for 열 in range(1,8):      \n",
    "        print(열,end=\"\")\n",
    "        if 열>=행:\n",
    "            print(\"*\"*(7-행),end=\"\")\n",
    "            break\n",
    "    print()\n"
   ]
  },
  {
   "cell_type": "code",
   "execution_count": 201,
   "id": "d9fc2f82",
   "metadata": {},
   "outputs": [
    {
     "name": "stdout",
     "output_type": "stream",
     "text": [
      "1******\n",
      "12*****\n",
      "123****\n",
      "1234***\n",
      "12345**\n",
      "123456*\n",
      "1234567\n"
     ]
    }
   ],
   "source": [
    "for 행 in range(1,8):\n",
    "    \n",
    "    for 열 in range(1,8):\n",
    "        print(열,end=\"\")\n",
    "        if 열>=행:\n",
    "            print(\"*\"*(7-행),end=\"\")\n",
    "            break\n",
    "    print()"
   ]
  },
  {
   "cell_type": "code",
   "execution_count": 206,
   "id": "7789db4e",
   "metadata": {},
   "outputs": [
    {
     "ename": "IndentationError",
     "evalue": "unindent does not match any outer indentation level (<tokenize>, line 9)",
     "output_type": "error",
     "traceback": [
      "\u001b[1;36m  File \u001b[1;32m\"<tokenize>\"\u001b[1;36m, line \u001b[1;32m9\u001b[0m\n\u001b[1;33m    print(min(입력값_list),max(입력값_list),\u001b[0m\n\u001b[1;37m    ^\u001b[0m\n\u001b[1;31mIndentationError\u001b[0m\u001b[1;31m:\u001b[0m unindent does not match any outer indentation level\n"
     ]
    }
   ],
   "source": [
    "입력값_list=[]\n",
    "while True:\n",
    "    입력값=int(input(\"양수입력하세요\"))\n",
    "    for 입력값 in new_list\n",
    "   \n",
    "    if 입력값<=0:\n",
    "        break\n",
    "        \n",
    " print(min(입력값_list),max(입력값_list),"
   ]
  },
  {
   "cell_type": "code",
   "execution_count": 215,
   "id": "7f009d82",
   "metadata": {},
   "outputs": [
    {
     "name": "stdout",
     "output_type": "stream",
     "text": [
      "**********\n",
      " **********\n",
      "  **********\n",
      "   **********\n",
      "    **********\n",
      "     **********\n",
      "      **********\n",
      "       **********\n",
      "        **********\n",
      "         **********\n"
     ]
    }
   ],
   "source": [
    "for 행 in range(10):\n",
    "    print(\" \"*행+\"*\"*10)\n",
    "        "
   ]
  },
  {
   "cell_type": "code",
   "execution_count": 221,
   "id": "9d435732",
   "metadata": {},
   "outputs": [
    {
     "data": {
      "text/plain": [
       "104"
      ]
     },
     "execution_count": 221,
     "metadata": {},
     "output_type": "execute_result"
    }
   ],
   "source": [
    "new_list=[]\n",
    "for a in range(1,101):\n",
    "    for b in range(1,101):\n",
    "        for c in range(1,101):\n",
    "            if a*a+b*b==c*c:\n",
    "                new_list.append([a,b,c])\n",
    "\n",
    "len(new_list)"
   ]
  },
  {
   "cell_type": "code",
   "execution_count": 225,
   "id": "483e98e6",
   "metadata": {},
   "outputs": [
    {
     "name": "stdout",
     "output_type": "stream",
     "text": [
      "만족하는_경우의_수: 104\n"
     ]
    }
   ],
   "source": [
    "n=0#처음 개수는 0\n",
    "for a in range(1,101):\n",
    "    for b in range(1,101):\n",
    "        for c in range(1,101):\n",
    "            if a**2+b**2==c**2:\n",
    "                n=n+1#하나씩 늘어간다(=n+=1)\n",
    "\n",
    "print(\"만족하는_경우의_수:\",n)"
   ]
  },
  {
   "cell_type": "code",
   "execution_count": 229,
   "id": "af131876",
   "metadata": {
    "scrolled": true
   },
   "outputs": [
    {
     "name": "stdout",
     "output_type": "stream",
     "text": [
      "1\n"
     ]
    }
   ],
   "source": [
    "a=3**2016\n",
    "a=str(a)\n",
    "print(a[-1:])"
   ]
  },
  {
   "cell_type": "code",
   "execution_count": 247,
   "id": "7a280d40",
   "metadata": {},
   "outputs": [
    {
     "name": "stdout",
     "output_type": "stream",
     "text": [
      "1\n"
     ]
    }
   ],
   "source": [
    "x=1#누적 곱 할때 초기값 설정.\n",
    "for n in range(1,2017):\n",
    "    x=(3*x)%10\n",
    "    #자릿수만 남겨서 다시 곱해주는 과정을 설명해줍니다!\n",
    "print(x)"
   ]
  },
  {
   "cell_type": "code",
   "execution_count": 245,
   "id": "66add87d",
   "metadata": {},
   "outputs": [
    {
     "ename": "SyntaxError",
     "evalue": "cannot assign to operator (Temp/ipykernel_3040/606882334.py, line 1)",
     "output_type": "error",
     "traceback": [
      "\u001b[1;36m  File \u001b[1;32m\"C:\\Users\\User\\AppData\\Local\\Temp/ipykernel_3040/606882334.py\"\u001b[1;36m, line \u001b[1;32m1\u001b[0m\n\u001b[1;33m    3*n+1=10\u001b[0m\n\u001b[1;37m    ^\u001b[0m\n\u001b[1;31mSyntaxError\u001b[0m\u001b[1;31m:\u001b[0m cannot assign to operator\n"
     ]
    }
   ],
   "source": [
    "a=682\n",
    "n=0\n",
    "while True:\n",
    "    if a%2==0:\n",
    "        a/=2\n",
    "        n+=1"
   ]
  },
  {
   "cell_type": "code",
   "execution_count": 248,
   "id": "0062125d",
   "metadata": {},
   "outputs": [
    {
     "name": "stdout",
     "output_type": "stream",
     "text": [
      "11\n"
     ]
    }
   ],
   "source": [
    "숫자 = 682\n",
    "횟수 = 0\n",
    "while 숫자!=1:#1이 되면 멈춘다\n",
    "    if 숫자%2 ==1:\n",
    "        숫자 = (숫자*3+1)/2\n",
    "    elif 숫자%2 ==0:\n",
    "        숫자 = 숫자/2\n",
    "    else:\n",
    "        print(\"오류\")\n",
    "    횟수 = 횟수+1\n",
    "print(횟수)\n"
   ]
  },
  {
   "cell_type": "code",
   "execution_count": null,
   "id": "7c205762",
   "metadata": {},
   "outputs": [],
   "source": [
    "a = 682\n",
    "count = 0\n",
    "while True:\n",
    "\n",
    "    if a%2 == 0:\n",
    "        a = a/2\n",
    "        \n",
    "        \n",
    "    count+=1\n",
    "    \n",
    "    if a == 1:\n",
    "        break\n",
    "        \n",
    "print(count)\n"
   ]
  },
  {
   "cell_type": "code",
   "execution_count": null,
   "id": "1d09e6a7",
   "metadata": {},
   "outputs": [],
   "source": []
  }
 ],
 "metadata": {
  "kernelspec": {
   "display_name": "Python 3 (ipykernel)",
   "language": "python",
   "name": "python3"
  },
  "language_info": {
   "codemirror_mode": {
    "name": "ipython",
    "version": 3
   },
   "file_extension": ".py",
   "mimetype": "text/x-python",
   "name": "python",
   "nbconvert_exporter": "python",
   "pygments_lexer": "ipython3",
   "version": "3.9.7"
  }
 },
 "nbformat": 4,
 "nbformat_minor": 5
}
